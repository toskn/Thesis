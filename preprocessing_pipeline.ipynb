{
 "cells": [
  {
   "cell_type": "markdown",
   "metadata": {},
   "source": [
    "# Обработка и разбор данных от Semantic Hub"
   ]
  },
  {
   "cell_type": "code",
   "execution_count": 2,
   "metadata": {},
   "outputs": [],
   "source": [
    "import pandas as pd\n",
    "import os\n",
    "from tqdm import tqdm\n",
    "import re\n",
    "import json\n",
    "from collections import Counter\n",
    "import ast\n",
    "import seaborn as sns\n",
    "import matplotlib.pyplot as plt\n",
    "import numpy as np\n",
    "import nltk"
   ]
  },
  {
   "cell_type": "markdown",
   "metadata": {},
   "source": [
    "## Заходим в папку с полученными данными и получаем список файлов"
   ]
  },
  {
   "cell_type": "code",
   "execution_count": 3,
   "metadata": {},
   "outputs": [],
   "source": [
    "# путь к папке со всеми файлами\n",
    "path = '/Users/egor/Desktop/SemanticHub/diploma/relatives_data/jsons'"
   ]
  },
  {
   "cell_type": "code",
   "execution_count": 4,
   "metadata": {},
   "outputs": [],
   "source": [
    "list_of_files = os.listdir(path) # список названий файлов"
   ]
  },
  {
   "cell_type": "markdown",
   "metadata": {},
   "source": [
    "## Делаем список json объектов, с которыми удобно работать"
   ]
  },
  {
   "cell_type": "code",
   "execution_count": 5,
   "metadata": {},
   "outputs": [
    {
     "name": "stderr",
     "output_type": "stream",
     "text": [
      "100%|██████████| 386254/386254 [02:53<00:00, 2220.16it/s]\n"
     ]
    }
   ],
   "source": [
    "list_full_file_json = [] # список, в котором каждый элемент - содержимое одного файла\n",
    "\n",
    "# цикл для прохода по всем файлам и сбора их содержимого\n",
    "for filename in tqdm(list_of_files):\n",
    "    # абсолютный путь к единичному файлу\n",
    "    path_single = path + '/' + filename\n",
    "    # открываем\n",
    "    with open(path_single) as file:\n",
    "        file = json.load(file)\n",
    "        list_full_file_json.append(file)"
   ]
  },
  {
   "cell_type": "code",
   "execution_count": 6,
   "metadata": {},
   "outputs": [
    {
     "data": {
      "text/plain": [
       "\"xml version='1.0' encoding='UTF-8'? https://dia-club.ru/forum_ru/viewtopic.php?f=6&t=3311#0099 2020-12-03 Converted by Semantic Hub (c) 2021 1.0 https://dia-club.ru/forum_ru/viewtopic.php?f=6&t=3311 dia-club.ru ru Статистика по детскому разделу 99 2007 Сахарный диабет у детей Список форумов Сахарный диабет, основные разделы форума Сахарный диабет у детей Sphinx https://dia-club.ru/forum_ru/memberlist.php?mode=viewprofile&u=4108 Москва 50 26 ноя 2007, 13:27 2007 дочь Полина, родилась 22.09.2005 диагноз СД1 в ноябре 2007 \""
      ]
     },
     "execution_count": 6,
     "metadata": {},
     "output_type": "execute_result"
    }
   ],
   "source": [
    "# пример удобной работы\n",
    "list_full_file_json[90564]['text']"
   ]
  },
  {
   "cell_type": "markdown",
   "metadata": {},
   "source": [
    "## Подготовим поле *text* к обработке"
   ]
  },
  {
   "cell_type": "code",
   "execution_count": 7,
   "metadata": {},
   "outputs": [
    {
     "name": "stderr",
     "output_type": "stream",
     "text": [
      "100%|██████████| 386254/386254 [00:10<00:00, 37633.50it/s]\n"
     ]
    }
   ],
   "source": [
    "# для этого удалим все, кроме текста самого сообщения\n",
    "# вообще можно будет пытаться еще пол вытягивать и всякие другие данные типа даты, города, имени\n",
    "\n",
    "# 1\n",
    "\n",
    "# текст окружен двумя пробелами странной длины, это нам поможет\n",
    "pattern = re.compile('                      (.*)                  ')\n",
    "\n",
    "# это будет список номеров тех сообщений, которые не прошли по первому паттерну\n",
    "i = 0\n",
    "list_err = []\n",
    "\n",
    "for message in tqdm(list_full_file_json):\n",
    "    try:\n",
    "        message['text'] = pattern.search(message['text']).group(1)\n",
    "        i += 1\n",
    "    except AttributeError:\n",
    "        list_err.append(i)\n",
    "        i += 1\n"
   ]
  },
  {
   "cell_type": "code",
   "execution_count": 8,
   "metadata": {},
   "outputs": [
    {
     "data": {
      "text/plain": [
       "[288, 531, 639, 658, 710, 736, 774, 1030, 1034, 1155]"
      ]
     },
     "execution_count": 8,
     "metadata": {},
     "output_type": "execute_result"
    }
   ],
   "source": [
    "list_err[:10]"
   ]
  },
  {
   "cell_type": "code",
   "execution_count": 9,
   "metadata": {},
   "outputs": [
    {
     "name": "stderr",
     "output_type": "stream",
     "text": [
      "100%|██████████| 3269/3269 [00:00<00:00, 12722.12it/s]\n"
     ]
    }
   ],
   "source": [
    "# 2\n",
    "\n",
    "# ненужный текст начиается с хмл, а заканчивается годом, после нее идет само сообщение\n",
    "# возможно такое, что в сообщении есть упоминание года, поэтому оно будет урезано, но иначе работать сложно, \n",
    "# потому что встречается много вариантов времени и других вещей перед годом:\n",
    "# наличие/отсутсвие часа, секунд, UTC и т.п.\n",
    "# \n",
    "# upd: посмотрел глазами, некрасивых вариантов особо не заметил\n",
    "pattern = re.compile('xml.*\\d\\d\\d\\d(.*)')\n",
    "\n",
    "for number in tqdm(list_err):\n",
    "    if pattern.search(list_full_file_json[number]['text']).group(1) != ' ':\n",
    "        list_full_file_json[number]['text'] = pattern.search(list_full_file_json[number]['text']).group(1)\n",
    "    "
   ]
  },
  {
   "cell_type": "code",
   "execution_count": 10,
   "metadata": {
    "scrolled": true
   },
   "outputs": [
    {
     "name": "stdout",
     "output_type": "stream",
     "text": [
      " мы с женой лечимся от гонореи . можно ли заниматься сексом в презервативе ? \n",
      "//////////////////////////////////////\n",
      " Отличый совет, моя мама меня так лечила, была аллергия на морковку, даю уже месяц! \n",
      "//////////////////////////////////////\n",
      " так профилактику сыну. бифиформ 2 раза в день. не должен заболеть. \n",
      "//////////////////////////////////////\n",
      " *плавание. А у оперированного брата штифтов нет! \n",
      "//////////////////////////////////////\n",
      " Смотря для чего эта операция применяется. Что Ваша сестра лечит? \n",
      "//////////////////////////////////////\n",
      " что такое депостат. маме его назначили, но зачем и при каких диагнозах их назначают. \n",
      "//////////////////////////////////////\n",
      " Антошика с 8 месячьем! :rose: маме не хандрить, не болеть :rose: \n",
      "//////////////////////////////////////\n",
      " Игорь, мужу лечиться по той же схеме, что и мне? \n",
      "//////////////////////////////////////\n",
      " от согаза в виталлЕ хожу, врач Бобыле С.В., сыну (4 года) там же лечим зубки. \n",
      "//////////////////////////////////////\n",
      " Хороший способ, моя сестра лечила именно так... \n",
      "//////////////////////////////////////\n"
     ]
    }
   ],
   "source": [
    "for number in list_err[50:60]:\n",
    "    print(list_full_file_json[number]['text'])\n",
    "    print('//////////////////////////////////////')"
   ]
  },
  {
   "cell_type": "code",
   "execution_count": 11,
   "metadata": {},
   "outputs": [
    {
     "name": "stderr",
     "output_type": "stream",
     "text": [
      "100%|██████████| 386254/386254 [00:05<00:00, 70739.81it/s] \n"
     ]
    }
   ],
   "source": [
    "# уберем форумные смайлики из сообщений\n",
    "pattern = re.compile(':[a-zA-Z]+:')\n",
    "\n",
    "for message in tqdm(list_full_file_json):\n",
    "        message['text'] = pattern.sub('', message['text'])\n"
   ]
  },
  {
   "cell_type": "code",
   "execution_count": 12,
   "metadata": {},
   "outputs": [
    {
     "name": "stderr",
     "output_type": "stream",
     "text": [
      "100%|██████████| 386254/386254 [00:29<00:00, 13170.82it/s]\n"
     ]
    }
   ],
   "source": [
    "# заменим множественные пробелы на единичные,\n",
    "# уберем пробелы в начале и в конце предложения\n",
    "\n",
    "# паттерн для поиска пробелов\n",
    "pattern = re.compile('\\s+')\n",
    "\n",
    "for message in tqdm(list_full_file_json):\n",
    "    message['text'] = pattern.sub(' ', message['text'])\n",
    "    # убираю пробел в начале\n",
    "    if message['text'][0] == ' ':\n",
    "        message['text'] = message['text'][1:]\n",
    "    # убираю пробел в конце    \n",
    "    if message['text'][-1:] == ' ':\n",
    "        message['text'] = message['text'][:len(message['text'])-1]\n",
    "    # добавляю знак препинания в конце, если его нет. \n",
    "    if message['text'][-1:] != '.' and message['text'][-1:] != '!' and  message['text'][-1:] != '?' and  message['text'][-1:] != '…':\n",
    "        message['text'] = message['text'] + '.'\n",
    "        \n",
    "        \n",
    "        "
   ]
  },
  {
   "cell_type": "code",
   "execution_count": 13,
   "metadata": {},
   "outputs": [
    {
     "data": {
      "text/plain": [
       "\"xml version='1.0' encoding='UTF-8'? https://dia-club.ru/forum_ru/viewtopic.php?f=6&t=3311#0099 2020-12-03 Converted by Semantic Hub (c) 2021 1.0 https://dia-club.ru/forum_ru/viewtopic.php?f=6&t=3311 dia-club.ru ru Статистика по детскому разделу 99 2007 Сахарный диабет у детей Список форумов Сахарный диабет, основные разделы форума Сахарный диабет у детей Sphinx https://dia-club.ru/forum_ru/memberlist.php?mode=viewprofile&u=4108 Москва 50 26 ноя 2007, 13:27 2007 дочь Полина, родилась 22.09.2005 диагноз СД1 в ноябре 2007.\""
      ]
     },
     "execution_count": 13,
     "metadata": {},
     "output_type": "execute_result"
    }
   ],
   "source": [
    "list_full_file_json[90564]['text']"
   ]
  },
  {
   "cell_type": "code",
   "execution_count": 14,
   "metadata": {
    "scrolled": true
   },
   "outputs": [
    {
     "data": {
      "text/plain": [
       "{'': {'name': '',\n",
       "  'annotations': [{'features': {'norm': 'ребенок',\n",
       "     '_string': 'ребенок',\n",
       "     '_id': 882,\n",
       "     'antecedent_id': 882,\n",
       "     'status': 'antecedent',\n",
       "     'start': 518,\n",
       "     'end': 525}},\n",
       "   {'features': {'norm': 'я',\n",
       "     '_string': 'меня',\n",
       "     '_id': 884,\n",
       "     'antecedent_id': 916,\n",
       "     'status': 'anaphor',\n",
       "     'start': 547,\n",
       "     'end': 551}}],\n",
       "  'next_annid': 780}}"
      ]
     },
     "execution_count": 14,
     "metadata": {},
     "output_type": "execute_result"
    }
   ],
   "source": [
    "list_full_file_json[0]['annotation_sets']"
   ]
  },
  {
   "cell_type": "markdown",
   "metadata": {},
   "source": [
    "Поле **text** подготовлено, можно провести количественный анализ и построить разные визуализации"
   ]
  },
  {
   "cell_type": "markdown",
   "metadata": {},
   "source": [
    "## Анализ текстового содержания – поле *text*"
   ]
  },
  {
   "cell_type": "markdown",
   "metadata": {},
   "source": [
    "Для проведения анализа заполним датафрейм пандас важными для анализа характеристиками:\n",
    "+ количество слов в каждом документе\n",
    "+ количество предложений в каждом документе\n",
    "+ количество цепочек кореференции в каждом документе\n",
    "+ количество выделенных слов в каждом документе\n",
    "\n",
    "\n",
    "\n",
    "+ количество цепочек кореференции всего\n",
    "+ количество выделенных слов всего\n",
    "+ количество документов всего"
   ]
  },
  {
   "cell_type": "markdown",
   "metadata": {},
   "source": [
    "### Распределение количества слов в каждом документе"
   ]
  },
  {
   "cell_type": "code",
   "execution_count": 15,
   "metadata": {},
   "outputs": [
    {
     "name": "stderr",
     "output_type": "stream",
     "text": [
      "100%|██████████| 386254/386254 [00:25<00:00, 15195.45it/s]\n"
     ]
    }
   ],
   "source": [
    "# список количеств слов\n",
    "words_list = []\n",
    "# паттерн для деления по пробелам/переносам\n",
    "pattern = re.compile('\\s+')\n",
    "\n",
    "for message in tqdm(list_full_file_json):\n",
    "    words_message = len(pattern.split(message['text']))\n",
    "    words_list.append(words_message)"
   ]
  },
  {
   "cell_type": "code",
   "execution_count": 16,
   "metadata": {},
   "outputs": [
    {
     "data": {
      "text/plain": [
       "[(61, 2731),\n",
       " (55, 2720),\n",
       " (56, 2688),\n",
       " (57, 2672),\n",
       " (40, 2671),\n",
       " (52, 2669),\n",
       " (64, 2659),\n",
       " (54, 2656),\n",
       " (53, 2655),\n",
       " (47, 2642)]"
      ]
     },
     "execution_count": 16,
     "metadata": {},
     "output_type": "execute_result"
    }
   ],
   "source": [
    "# посмотрим на самые частые количества слов на одно сообщение\n",
    "c = Counter(words_list).most_common(10)\n",
    "c"
   ]
  },
  {
   "cell_type": "code",
   "execution_count": 17,
   "metadata": {},
   "outputs": [
    {
     "data": {
      "image/png": "[encoded data removed]",
      "text/plain": [
       "<Figure size 1332x756 with 1 Axes>"
      ]
     },
     "metadata": {
      "needs_background": "light"
     },
     "output_type": "display_data"
    }
   ],
   "source": [
    "# построим по полученным данным нормализованную гистограмму\n",
    "c = Counter(words_list)\n",
    "keys = list(c.keys())\n",
    "values = list(c.values())\n",
    "\n",
    "#n, bins, patches = sns.histplot(x=keys, weights=values, discrete=True, , bins=90, facecolor='#2ab0ff', edgecolor='#e0e0e0', linewidth=0.5, alpha=0.7)\n",
    "n, bins, patches = plt.hist(x = keys, weights=values, bins=np.arange(len(keys))-0.5, facecolor='#2ab0ff', alpha=0.9)\n",
    "n = n.astype('int')\n",
    "\n",
    "for i in range(len(patches)):\n",
    "    patches[i].set_facecolor(plt.cm.viridis(n[i]/max(n)))\n",
    "\n",
    "#plt.style.use('seaborn-whitegrid')\n",
    "\n",
    "plt.xticks(np.arange(min(keys), max(keys)+1, 30.0))\n",
    "plt.xlim(0, 700)\n",
    "\n",
    "plt.xlabel('Words', fontsize=20)\n",
    "plt.ylabel('Documents', fontsize=20)\n",
    "\n",
    "fig = plt.gcf()\n",
    "fig.set_size_inches(18.5, 10.5)\n",
    "#fig.savefig('test2png.png', dpi=100)\n",
    "\n",
    "plt.show()"
   ]
  },
  {
   "cell_type": "markdown",
   "metadata": {},
   "source": [
    "### Распределение количества предложений в каждом документе"
   ]
  },
  {
   "cell_type": "code",
   "execution_count": 18,
   "metadata": {},
   "outputs": [
    {
     "name": "stderr",
     "output_type": "stream",
     "text": [
      "100%|██████████| 386254/386254 [00:13<00:00, 29318.50it/s]\n"
     ]
    }
   ],
   "source": [
    "# список количеств слов\n",
    "sentences_list = []\n",
    "# паттерн для деления на предложения, объяснение:(https://regex101.com/r/he9d1P/1)\n",
    "# почти всегда делит правильно, в предлоежниях с именем и отчеством через точку ошибается на +1, что\n",
    "# для выборки в 400к незначительно\n",
    "pattern = re.compile('.*?(\\.|\\?|\\!|…)(?= *[А-Я]|$)')\n",
    "\n",
    "for message in tqdm(list_full_file_json):\n",
    "    sentences_message = len(pattern.findall(message['text']))\n",
    "    sentences_list.append(sentences_message)"
   ]
  },
  {
   "cell_type": "code",
   "execution_count": 19,
   "metadata": {},
   "outputs": [
    {
     "data": {
      "text/plain": [
       "[(1, 30858),\n",
       " (5, 27663),\n",
       " (6, 26935),\n",
       " (4, 26777),\n",
       " (7, 25319),\n",
       " (3, 24184),\n",
       " (8, 23094),\n",
       " (2, 20998),\n",
       " (9, 20631),\n",
       " (10, 18486),\n",
       " (11, 16236),\n",
       " (12, 14368),\n",
       " (13, 12303),\n",
       " (14, 10882),\n",
       " (15, 9619)]"
      ]
     },
     "execution_count": 19,
     "metadata": {},
     "output_type": "execute_result"
    }
   ],
   "source": [
    "# посмотрим на самые частые количества предложений на одно сообщение\n",
    "c = Counter(sentences_list).most_common(15)\n",
    "c"
   ]
  },
  {
   "cell_type": "code",
   "execution_count": 20,
   "metadata": {},
   "outputs": [
    {
     "data": {
      "image/png": "[encoded data removed]",
      "text/plain": [
       "<Figure size 1332x756 with 1 Axes>"
      ]
     },
     "metadata": {
      "needs_background": "light"
     },
     "output_type": "display_data"
    }
   ],
   "source": [
    "# построим по полученным данным нормализованную гистограмму\n",
    "c = Counter(sentences_list)\n",
    "keys = list(c.keys())\n",
    "values = list(c.values())\n",
    "\n",
    "#n, bins, patches = sns.histplot(x=keys, weights=values, discrete=True, , bins=90, facecolor='#2ab0ff', edgecolor='#e0e0e0', linewidth=0.5, alpha=0.7)\n",
    "n, bins, patches = plt.hist(x = keys, weights=values, bins=np.arange(len(keys))-0.5, facecolor='#2ab0ff', edgecolor='#e0e0e0', alpha=0.7)\n",
    "n = n.astype('int')\n",
    "\n",
    "for i in range(len(patches)):\n",
    "    patches[i].set_facecolor(plt.cm.viridis(n[i]/max(n)))\n",
    "\n",
    "#plt.style.use('seaborn-whitegrid')\n",
    "\n",
    "plt.xticks(np.arange(min(keys), max(keys)+1, 3.0))\n",
    "plt.xlim(0, 61)\n",
    "\n",
    "patches[5].set_fc('#FDEE70') # Set color\n",
    "\n",
    "plt.xlabel('Sentences', fontsize=20)\n",
    "plt.ylabel('Documents', fontsize=20)\n",
    "\n",
    "fig = plt.gcf()\n",
    "fig.set_size_inches(18.5, 10.5)\n",
    "#fig.savefig('test2png.png', dpi=100)\n",
    "\n",
    "plt.show()"
   ]
  },
  {
   "cell_type": "markdown",
   "metadata": {},
   "source": [
    "### Количество кореференциальных цепочек в каждом документе"
   ]
  },
  {
   "cell_type": "code",
   "execution_count": 21,
   "metadata": {},
   "outputs": [
    {
     "name": "stderr",
     "output_type": "stream",
     "text": [
      "100%|██████████| 386254/386254 [03:32<00:00, 1819.19it/s]\n"
     ]
    }
   ],
   "source": [
    "# скрипт для приведения каждого размеченного для кореференции элемента к JSON виду\n",
    "# для удобного обращения к параметрам\n",
    "files_chain_list = []\n",
    "\n",
    "for message in tqdm(list_full_file_json):\n",
    "    list_coref_ent = message['annotation_sets']['']['annotations']\n",
    "    message_chain_list = []\n",
    "    \n",
    "    for entity in list_coref_ent:\n",
    "        entity = str(entity)[13:-1]  # адхок подрезка формата SH\n",
    "        entity = ast.literal_eval(entity) # превращаю строку в виде дикта в дикт\n",
    "        entity = json.dumps(entity) # делаем джсон из дикта\n",
    "        message_chain_list.append(json.loads(entity)) # парсим джсон в список\n",
    "        \n",
    "    files_chain_list.append(message_chain_list) # в этом списке каждый файл идет отдельным списком-джсоном\n",
    "    \n",
    "    \n"
   ]
  },
  {
   "cell_type": "code",
   "execution_count": 85,
   "metadata": {},
   "outputs": [
    {
     "name": "stderr",
     "output_type": "stream",
     "text": [
      "100%|██████████| 386254/386254 [00:09<00:00, 40910.10it/s]\n"
     ]
    }
   ],
   "source": [
    "# теперь составим список, где каждый элемент будет представлять количество цепочек в документе\n",
    "chain_amount_list = []\n",
    "\n",
    "for json_item in tqdm(files_chain_list):\n",
    "    chain_num_list = []\n",
    "    \n",
    "    for word in json_item:\n",
    "        chain_num_list.append(word['antecedent_id'])\n",
    "        \n",
    "    # через каунтер приведем все к списку туплов и посчитаем количество туплов\n",
    "    c = Counter(chain_num_list)\n",
    "    chain_amount_list.append(len(c))"
   ]
  },
  {
   "cell_type": "code",
   "execution_count": 23,
   "metadata": {},
   "outputs": [
    {
     "data": {
      "text/plain": [
       "[(3, 72852),\n",
       " (2, 71844),\n",
       " (4, 58352),\n",
       " (1, 42884),\n",
       " (5, 42401),\n",
       " (6, 29204),\n",
       " (7, 19644),\n",
       " (8, 13345),\n",
       " (9, 9034),\n",
       " (10, 6379),\n",
       " (11, 4588),\n",
       " (12, 3284),\n",
       " (13, 2425),\n",
       " (14, 1853),\n",
       " (0, 1437)]"
      ]
     },
     "execution_count": 23,
     "metadata": {},
     "output_type": "execute_result"
    }
   ],
   "source": [
    "c = Counter(chain_amount_list).most_common(15)\n",
    "c"
   ]
  },
  {
   "cell_type": "code",
   "execution_count": 24,
   "metadata": {
    "scrolled": false
   },
   "outputs": [
    {
     "data": {
      "image/png": "[encoded data removed]",
      "text/plain": [
       "<Figure size 1332x756 with 1 Axes>"
      ]
     },
     "metadata": {
      "needs_background": "light"
     },
     "output_type": "display_data"
    }
   ],
   "source": [
    "# построим по полученным данным нормализованную гистограмму\n",
    "c = Counter(chain_amount_list)\n",
    "keys = list(c.keys())\n",
    "values = list(c.values())\n",
    "\n",
    "#n, bins, patches = sns.histplot(x=keys, weights=values, discrete=True, , bins=90, facecolor='#2ab0ff', edgecolor='#e0e0e0', linewidth=0.5, alpha=0.7)\n",
    "n, bins, patches = plt.hist(x = keys, weights=values, bins=np.arange(len(keys))-0.5, facecolor='#2ab0ff', edgecolor='#e0e0e0', alpha=0.7)\n",
    "n = n.astype('int')\n",
    "\n",
    "for i in range(len(patches)):\n",
    "    patches[i].set_facecolor(plt.cm.viridis(n[i]/max(n)))\n",
    "\n",
    "#plt.style.use('seaborn-whitegrid')\n",
    "\n",
    "plt.xticks(np.arange(min(keys), max(keys)+1, 3.0))\n",
    "plt.xlim(0, 24)\n",
    "\n",
    "plt.xlabel('Coreference Chains', fontsize=20)\n",
    "plt.ylabel('Documents', fontsize=20)\n",
    "\n",
    "fig = plt.gcf()\n",
    "fig.set_size_inches(18.5, 10.5)\n",
    "#fig.savefig('test2png.png', dpi=100)\n",
    "\n",
    "plt.show()"
   ]
  },
  {
   "cell_type": "markdown",
   "metadata": {},
   "source": [
    "### Распределение количества слов, выделенных, как значимые для кореференции. "
   ]
  },
  {
   "cell_type": "code",
   "execution_count": 25,
   "metadata": {},
   "outputs": [
    {
     "name": "stderr",
     "output_type": "stream",
     "text": [
      "100%|██████████| 386254/386254 [00:00<00:00, 405286.70it/s]\n"
     ]
    }
   ],
   "source": [
    "# сделаем список, каждый элемент которого - количество выделенных сущностей на файл\n",
    "chain_entity_count_list = []\n",
    "\n",
    "for chain_list in tqdm(files_chain_list):\n",
    "    file_chain = len(chain_list)\n",
    "    chain_entity_count_list.append(file_chain)"
   ]
  },
  {
   "cell_type": "code",
   "execution_count": 26,
   "metadata": {},
   "outputs": [
    {
     "data": {
      "text/plain": [
       "[(3, 46122),\n",
       " (2, 44140),\n",
       " (4, 42001),\n",
       " (5, 36185),\n",
       " (6, 30509),\n",
       " (1, 27508),\n",
       " (7, 25025),\n",
       " (8, 21018),\n",
       " (9, 16878),\n",
       " (10, 13912)]"
      ]
     },
     "execution_count": 26,
     "metadata": {},
     "output_type": "execute_result"
    }
   ],
   "source": [
    "# посмотрим на самые частые количества выделенных слов на одно сообщение\n",
    "c = Counter(chain_entity_count_list).most_common(10)\n",
    "c"
   ]
  },
  {
   "cell_type": "code",
   "execution_count": 27,
   "metadata": {},
   "outputs": [
    {
     "data": {
      "image/png": "[encoded data removed]",
      "text/plain": [
       "<Figure size 1332x756 with 1 Axes>"
      ]
     },
     "metadata": {
      "needs_background": "light"
     },
     "output_type": "display_data"
    }
   ],
   "source": [
    "# построим по полученным данным нормализованную гистограмму\n",
    "c = Counter(chain_entity_count_list)\n",
    "keys = list(c.keys())\n",
    "values = list(c.values())\n",
    "\n",
    "#n, bins, patches = sns.histplot(x=keys, weights=values, discrete=True, , bins=90, facecolor='#2ab0ff', edgecolor='#e0e0e0', linewidth=0.5, alpha=0.7)\n",
    "n, bins, patches = plt.hist(x = keys, weights=values, bins=np.arange(len(keys))-0.5, facecolor='#2ab0ff', edgecolor='#e0e0e0', alpha=0.7)\n",
    "n = n.astype('int')\n",
    "\n",
    "for i in range(len(patches)):\n",
    "    patches[i].set_facecolor(plt.cm.viridis(n[i]/max(n)))\n",
    "\n",
    "#plt.style.use('seaborn-whitegrid')\n",
    "\n",
    "plt.xticks(np.arange(min(keys), max(keys)+1, 3.0))\n",
    "plt.xlim(0, 51)\n",
    "\n",
    "plt.xlabel('Tagged Words', fontsize=20)\n",
    "plt.ylabel('Documents', fontsize=20)\n",
    "\n",
    "fig = plt.gcf()\n",
    "fig.set_size_inches(18.5, 10.5)\n",
    "#fig.savefig('test2png.png', dpi=100)\n",
    "\n",
    "plt.show()"
   ]
  },
  {
   "cell_type": "markdown",
   "metadata": {},
   "source": [
    "### Общее количество кореференциальных цепочек"
   ]
  },
  {
   "cell_type": "code",
   "execution_count": 28,
   "metadata": {},
   "outputs": [
    {
     "name": "stderr",
     "output_type": "stream",
     "text": [
      "100%|██████████| 64/64 [00:00<00:00, 292413.35it/s]\n"
     ]
    },
    {
     "data": {
      "text/plain": [
       "1693773"
      ]
     },
     "execution_count": 28,
     "metadata": {},
     "output_type": "execute_result"
    }
   ],
   "source": [
    "# список количества цепочек в сообщении\n",
    "c = Counter(chain_amount_list).most_common()\n",
    "# счетчик цепочек\n",
    "counter = 0\n",
    "\n",
    "for pair in tqdm(c):\n",
    "    counter += pair[0]*pair[1]\n",
    "counter"
   ]
  },
  {
   "cell_type": "markdown",
   "metadata": {},
   "source": [
    "### Общее количество элементов в кореференциальных цепочках "
   ]
  },
  {
   "cell_type": "code",
   "execution_count": 29,
   "metadata": {},
   "outputs": [
    {
     "name": "stderr",
     "output_type": "stream",
     "text": [
      "100%|██████████| 136/136 [00:00<00:00, 245028.07it/s]\n"
     ]
    },
    {
     "data": {
      "text/plain": [
       "2968033"
      ]
     },
     "execution_count": 29,
     "metadata": {},
     "output_type": "execute_result"
    }
   ],
   "source": [
    "# список количества выделенных слов в сообщении\n",
    "c = Counter(chain_entity_count_list).most_common()\n",
    "# счетчик цепочек\n",
    "counter = 0\n",
    "\n",
    "for pair in tqdm(c):\n",
    "    counter += pair[0]*pair[1]\n",
    "counter"
   ]
  },
  {
   "cell_type": "markdown",
   "metadata": {},
   "source": [
    "### Отношение количества слов в сообщении к количеству цепочек"
   ]
  },
  {
   "cell_type": "code",
   "execution_count": 30,
   "metadata": {},
   "outputs": [
    {
     "data": {
      "text/plain": [
       "Counter({(16, 2): 404,\n",
       "         (173, 2): 93,\n",
       "         (177, 4): 149,\n",
       "         (50, 2): 726,\n",
       "         (127, 6): 134,\n",
       "         (62, 4): 460,\n",
       "         (92, 3): 457,\n",
       "         (58, 2): 659,\n",
       "         (249, 7): 40,\n",
       "         (51, 3): 625,\n",
       "         (83, 3): 531,\n",
       "         (74, 1): 294,\n",
       "         (227, 3): 200,\n",
       "         (81, 8): 34,\n",
       "         (52, 3): 634,\n",
       "         (247, 2): 24,\n",
       "         (77, 1): 254,\n",
       "         (22, 2): 547,\n",
       "         (249, 10): 26,\n",
       "         (154, 6): 138,\n",
       "         (61, 3): 656,\n",
       "         (356, 9): 9,\n",
       "         (116, 5): 255,\n",
       "         (244, 3): 56,\n",
       "         (116, 7): 103,\n",
       "         (83, 1): 247,\n",
       "         (74, 3): 582,\n",
       "         (101, 5): 257,\n",
       "         (80, 4): 419,\n",
       "         (26, 1): 562,\n",
       "         (116, 6): 165,\n",
       "         (100, 6): 179,\n",
       "         (102, 4): 359,\n",
       "         (161, 2): 113,\n",
       "         (64, 6): 159,\n",
       "         (123, 6): 159,\n",
       "         (131, 6): 161,\n",
       "         (82, 6): 174,\n",
       "         (242, 4): 53,\n",
       "         (145, 2): 162,\n",
       "         (74, 5): 271,\n",
       "         (30, 3): 451,\n",
       "         (124, 4): 289,\n",
       "         (23, 1): 519,\n",
       "         (162, 4): 138,\n",
       "         (98, 6): 179,\n",
       "         (232, 7): 43,\n",
       "         (92, 4): 397,\n",
       "         (352, 12): 6,\n",
       "         (597, 9): 3,\n",
       "         (411, 16): 3,\n",
       "         (131, 2): 188,\n",
       "         (59, 2): 663,\n",
       "         (101, 2): 348,\n",
       "         (146, 2): 145,\n",
       "         (102, 5): 260,\n",
       "         (150, 5): 167,\n",
       "         (73, 2): 529,\n",
       "         (72, 2): 577,\n",
       "         (67, 6): 139,\n",
       "         (249, 5): 45,\n",
       "         (133, 4): 247,\n",
       "         (32, 2): 744,\n",
       "         (187, 2): 74,\n",
       "         (71, 5): 281,\n",
       "         (237, 4): 69,\n",
       "         (139, 3): 234,\n",
       "         (66, 1): 353,\n",
       "         (172, 3): 138,\n",
       "         (291, 2): 20,\n",
       "         (36, 3): 611,\n",
       "         (250, 4): 50,\n",
       "         (228, 5): 74,\n",
       "         (81, 4): 428,\n",
       "         (170, 5): 141,\n",
       "         (57, 2): 724,\n",
       "         (267, 2): 21,\n",
       "         (31, 3): 476,\n",
       "         (71, 3): 603,\n",
       "         (74, 2): 548,\n",
       "         (255, 8): 43,\n",
       "         (281, 8): 22,\n",
       "         (127, 3): 290,\n",
       "         (87, 4): 384,\n",
       "         (64, 2): 639,\n",
       "         (295, 7): 29,\n",
       "         (82, 7): 93,\n",
       "         (44, 2): 780,\n",
       "         (54, 10): 3,\n",
       "         (78, 3): 515,\n",
       "         (182, 11): 14,\n",
       "         (41, 2): 824,\n",
       "         (65, 3): 595,\n",
       "         (143, 10): 29,\n",
       "         (147, 11): 16,\n",
       "         (72, 1): 269,\n",
       "         (514, 17): 1,\n",
       "         (79, 7): 92,\n",
       "         (240, 8): 28,\n",
       "         (52, 5): 220,\n",
       "         (116, 4): 281,\n",
       "         (958, 12): 1,\n",
       "         (41, 3): 636,\n",
       "         (157, 8): 63,\n",
       "         (34, 3): 551,\n",
       "         (57, 1): 433,\n",
       "         (138, 3): 235,\n",
       "         (483, 7): 4,\n",
       "         (390, 5): 12,\n",
       "         (100, 7): 119,\n",
       "         (67, 2): 574,\n",
       "         (107, 4): 347,\n",
       "         (102, 3): 381,\n",
       "         (23, 2): 566,\n",
       "         (62, 3): 621,\n",
       "         (54, 2): 717,\n",
       "         (591, 12): 1,\n",
       "         (92, 7): 84,\n",
       "         (354, 5): 19,\n",
       "         (31, 2): 707,\n",
       "         (240, 4): 69,\n",
       "         (340, 12): 11,\n",
       "         (157, 6): 108,\n",
       "         (83, 6): 171,\n",
       "         (63, 1): 385,\n",
       "         (41, 1): 563,\n",
       "         (198, 4): 114,\n",
       "         (152, 1): 52,\n",
       "         (86, 3): 433,\n",
       "         (42, 2): 823,\n",
       "         (85, 6): 164,\n",
       "         (98, 1): 150,\n",
       "         (94, 5): 284,\n",
       "         (47, 2): 754,\n",
       "         (153, 6): 127,\n",
       "         (36, 2): 792,\n",
       "         (427, 7): 8,\n",
       "         (181, 5): 86,\n",
       "         (383, 5): 15,\n",
       "         (77, 8): 35,\n",
       "         (71, 2): 596,\n",
       "         (210, 9): 37,\n",
       "         (51, 2): 722,\n",
       "         (380, 17): 3,\n",
       "         (35, 4): 272,\n",
       "         (143, 7): 94,\n",
       "         (215, 4): 74,\n",
       "         (278, 3): 33,\n",
       "         (169, 7): 72,\n",
       "         (133, 2): 162,\n",
       "         (84, 7): 96,\n",
       "         (322, 12): 5,\n",
       "         (137, 6): 155,\n",
       "         (140, 4): 231,\n",
       "         (276, 16): 2,\n",
       "         (79, 4): 463,\n",
       "         (29, 2): 721,\n",
       "         (54, 1): 468,\n",
       "         (36, 4): 266,\n",
       "         (68, 2): 572,\n",
       "         (221, 3): 74,\n",
       "         (286, 2): 24,\n",
       "         (90, 3): 494,\n",
       "         (122, 1): 91,\n",
       "         (50, 5): 201,\n",
       "         (95, 4): 350,\n",
       "         (147, 3): 172,\n",
       "         (203, 1): 27,\n",
       "         (148, 1): 56,\n",
       "         (73, 1): 305,\n",
       "         (248, 5): 66,\n",
       "         (172, 2): 106,\n",
       "         (84, 2): 430,\n",
       "         (259, 11): 12,\n",
       "         (65, 2): 602,\n",
       "         (108, 3): 335,\n",
       "         (169, 4): 130,\n",
       "         (55, 2): 749,\n",
       "         (55, 4): 419,\n",
       "         (17, 1): 409,\n",
       "         (89, 3): 494,\n",
       "         (96, 3): 439,\n",
       "         (240, 12): 13,\n",
       "         (213, 6): 88,\n",
       "         (269, 15): 7,\n",
       "         (665, 5): 1,\n",
       "         (53, 1): 416,\n",
       "         (48, 3): 627,\n",
       "         (186, 3): 155,\n",
       "         (42, 4): 356,\n",
       "         (156, 6): 109,\n",
       "         (224, 2): 44,\n",
       "         (66, 4): 437,\n",
       "         (75, 3): 583,\n",
       "         (177, 5): 112,\n",
       "         (105, 2): 346,\n",
       "         (82, 3): 523,\n",
       "         (46, 4): 366,\n",
       "         (52, 2): 745,\n",
       "         (235, 3): 53,\n",
       "         (96, 8): 49,\n",
       "         (126, 7): 102,\n",
       "         (228, 20): 3,\n",
       "         (80, 8): 39,\n",
       "         (149, 0): 2,\n",
       "         (53, 0): 11,\n",
       "         (87, 3): 480,\n",
       "         (109, 3): 330,\n",
       "         (90, 14): 2,\n",
       "         (71, 7): 85,\n",
       "         (58, 4): 438,\n",
       "         (35, 2): 771,\n",
       "         (18, 1): 445,\n",
       "         (38, 3): 589,\n",
       "         (462, 10): 4,\n",
       "         (96, 9): 36,\n",
       "         (30, 2): 737,\n",
       "         (112, 1): 132,\n",
       "         (112, 7): 111,\n",
       "         (21, 1): 457,\n",
       "         (253, 3): 43,\n",
       "         (20, 1): 442,\n",
       "         (60, 5): 267,\n",
       "         (70, 3): 563,\n",
       "         (47, 7): 36,\n",
       "         (105, 3): 375,\n",
       "         (37, 2): 816,\n",
       "         (137, 3): 190,\n",
       "         (63, 3): 617,\n",
       "         (426, 8): 10,\n",
       "         (200, 5): 111,\n",
       "         (153, 2): 119,\n",
       "         (28, 2): 672,\n",
       "         (63, 4): 430,\n",
       "         (90, 5): 286,\n",
       "         (32, 3): 477,\n",
       "         (112, 3): 365,\n",
       "         (80, 5): 283,\n",
       "         (573, 16): 1,\n",
       "         (86, 1): 226,\n",
       "         (72, 3): 586,\n",
       "         (199, 7): 66,\n",
       "         (466, 5): 4,\n",
       "         (124, 7): 86,\n",
       "         (246, 13): 10,\n",
       "         (70, 2): 576,\n",
       "         (28, 1): 573,\n",
       "         (76, 5): 295,\n",
       "         (62, 2): 635,\n",
       "         (221, 2): 40,\n",
       "         (108, 5): 226,\n",
       "         (40, 2): 851,\n",
       "         (562, 7): 7,\n",
       "         (24, 1): 550,\n",
       "         (214, 3): 68,\n",
       "         (200, 9): 31,\n",
       "         (53, 2): 770,\n",
       "         (158, 3): 176,\n",
       "         (190, 2): 66,\n",
       "         (204, 3): 73,\n",
       "         (18, 0): 29,\n",
       "         (139, 4): 220,\n",
       "         (121, 6): 151,\n",
       "         (13, 2): 257,\n",
       "         (104, 4): 336,\n",
       "         (136, 2): 188,\n",
       "         (59, 3): 634,\n",
       "         (47, 3): 684,\n",
       "         (164, 7): 79,\n",
       "         (231, 6): 54,\n",
       "         (66, 2): 598,\n",
       "         (93, 11): 7,\n",
       "         (77, 4): 432,\n",
       "         (95, 2): 378,\n",
       "         (170, 6): 91,\n",
       "         (252, 4): 69,\n",
       "         (101, 4): 350,\n",
       "         (75, 2): 562,\n",
       "         (105, 5): 254,\n",
       "         (153, 4): 177,\n",
       "         (117, 7): 116,\n",
       "         (76, 9): 22,\n",
       "         (63, 6): 116,\n",
       "         (199, 8): 38,\n",
       "         (52, 1): 429,\n",
       "         (23, 3): 280,\n",
       "         (99, 4): 366,\n",
       "         (103, 3): 399,\n",
       "         (270, 8): 30,\n",
       "         (76, 6): 161,\n",
       "         (132, 3): 249,\n",
       "         (293, 5): 31,\n",
       "         (110, 5): 233,\n",
       "         (104, 5): 227,\n",
       "         (239, 3): 124,\n",
       "         (168, 1): 40,\n",
       "         (61, 1): 377,\n",
       "         (364, 10): 5,\n",
       "         (34, 2): 767,\n",
       "         (38, 1): 582,\n",
       "         (90, 4): 366,\n",
       "         (257, 4): 59,\n",
       "         (57, 3): 654,\n",
       "         (140, 7): 97,\n",
       "         (80, 1): 236,\n",
       "         (126, 3): 257,\n",
       "         (110, 3): 365,\n",
       "         (277, 6): 37,\n",
       "         (335, 3): 20,\n",
       "         (359, 8): 8,\n",
       "         (213, 7): 43,\n",
       "         (14, 2): 287,\n",
       "         (112, 5): 234,\n",
       "         (194, 8): 44,\n",
       "         (120, 4): 290,\n",
       "         (85, 2): 460,\n",
       "         (97, 3): 438,\n",
       "         (56, 3): 688,\n",
       "         (131, 5): 208,\n",
       "         (42, 3): 579,\n",
       "         (184, 8): 54,\n",
       "         (226, 4): 80,\n",
       "         (259, 8): 31,\n",
       "         (225, 5): 76,\n",
       "         (115, 2): 287,\n",
       "         (460, 25): 1,\n",
       "         (141, 2): 155,\n",
       "         (34, 1): 596,\n",
       "         (118, 2): 277,\n",
       "         (113, 3): 365,\n",
       "         (61, 5): 280,\n",
       "         (288, 2): 14,\n",
       "         (203, 5): 87,\n",
       "         (119, 4): 265,\n",
       "         (91, 5): 259,\n",
       "         (122, 3): 268,\n",
       "         (60, 2): 677,\n",
       "         (227, 11): 18,\n",
       "         (145, 8): 58,\n",
       "         (33, 1): 584,\n",
       "         (654, 17): 1,\n",
       "         (228, 11): 15,\n",
       "         (175, 5): 130,\n",
       "         (247, 3): 446,\n",
       "         (203, 6): 85,\n",
       "         (317, 1): 4,\n",
       "         (195, 9): 32,\n",
       "         (525, 6): 7,\n",
       "         (64, 5): 259,\n",
       "         (202, 7): 55,\n",
       "         (86, 2): 405,\n",
       "         (326, 12): 10,\n",
       "         (183, 8): 42,\n",
       "         (119, 2): 225,\n",
       "         (27, 1): 565,\n",
       "         (96, 2): 333,\n",
       "         (350, 5): 13,\n",
       "         (43, 2): 758,\n",
       "         (285, 5): 42,\n",
       "         (24, 2): 560,\n",
       "         (218, 5): 73,\n",
       "         (120, 3): 309,\n",
       "         (103, 2): 329,\n",
       "         (190, 10): 24,\n",
       "         (525, 10): 3,\n",
       "         (152, 7): 94,\n",
       "         (267, 10): 9,\n",
       "         (104, 3): 393,\n",
       "         (112, 11): 8,\n",
       "         (142, 4): 215,\n",
       "         (45, 4): 379,\n",
       "         (114, 4): 288,\n",
       "         (106, 5): 214,\n",
       "         (52, 6): 108,\n",
       "         (404, 23): 1,\n",
       "         (567, 13): 6,\n",
       "         (296, 9): 14,\n",
       "         (324, 4): 23,\n",
       "         (104, 7): 90,\n",
       "         (56, 2): 738,\n",
       "         (230, 11): 15,\n",
       "         (70, 1): 316,\n",
       "         (122, 2): 214,\n",
       "         (250, 6): 35,\n",
       "         (51, 1): 446,\n",
       "         (100, 1): 164,\n",
       "         (147, 10): 19,\n",
       "         (95, 3): 438,\n",
       "         (226, 3): 57,\n",
       "         (218, 20): 5,\n",
       "         (382, 9): 9,\n",
       "         (227, 5): 72,\n",
       "         (266, 7): 29,\n",
       "         (143, 4): 230,\n",
       "         (94, 3): 446,\n",
       "         (38, 2): 851,\n",
       "         (108, 6): 158,\n",
       "         (151, 3): 198,\n",
       "         (204, 4): 115,\n",
       "         (60, 3): 631,\n",
       "         (173, 12): 8,\n",
       "         (188, 4): 127,\n",
       "         (40, 1): 557,\n",
       "         (185, 8): 57,\n",
       "         (164, 2): 112,\n",
       "         (264, 5): 51,\n",
       "         (223, 4): 73,\n",
       "         (79, 9): 27,\n",
       "         (172, 19): 2,\n",
       "         (623, 4): 1,\n",
       "         (210, 2): 45,\n",
       "         (106, 14): 6,\n",
       "         (60, 4): 449,\n",
       "         (20, 3): 229,\n",
       "         (119, 1): 103,\n",
       "         (164, 6): 109,\n",
       "         (128, 3): 300,\n",
       "         (228, 13): 19,\n",
       "         (70, 5): 295,\n",
       "         (192, 4): 114,\n",
       "         (242, 5): 53,\n",
       "         (135, 4): 226,\n",
       "         (61, 4): 458,\n",
       "         (47, 4): 386,\n",
       "         (173, 6): 105,\n",
       "         (45, 3): 650,\n",
       "         (271, 19): 3,\n",
       "         (55, 6): 117,\n",
       "         (93, 3): 455,\n",
       "         (79, 3): 514,\n",
       "         (321, 7): 21,\n",
       "         (111, 1): 136,\n",
       "         (91, 4): 358,\n",
       "         (27, 2): 665,\n",
       "         (12, 0): 26,\n",
       "         (172, 7): 72,\n",
       "         (135, 5): 221,\n",
       "         (108, 2): 293,\n",
       "         (130, 1): 71,\n",
       "         (211, 4): 93,\n",
       "         (97, 2): 324,\n",
       "         (222, 9): 36,\n",
       "         (196, 3): 91,\n",
       "         (121, 3): 291,\n",
       "         (298, 5): 38,\n",
       "         (55, 1): 394,\n",
       "         (114, 10): 26,\n",
       "         (207, 5): 71,\n",
       "         (125, 3): 285,\n",
       "         (40, 3): 646,\n",
       "         (44, 4): 330,\n",
       "         (167, 6): 117,\n",
       "         (284, 3): 29,\n",
       "         (90, 9): 28,\n",
       "         (196, 6): 91,\n",
       "         (234, 9): 31,\n",
       "         (63, 5): 240,\n",
       "         (178, 6): 92,\n",
       "         (347, 13): 2,\n",
       "         (207, 3): 76,\n",
       "         (19, 1): 420,\n",
       "         (183, 10): 14,\n",
       "         (81, 2): 516,\n",
       "         (490, 8): 5,\n",
       "         (74, 4): 437,\n",
       "         (224, 4): 69,\n",
       "         (42, 1): 544,\n",
       "         (353, 12): 4,\n",
       "         (15, 2): 316,\n",
       "         (127, 9): 38,\n",
       "         (178, 9): 31,\n",
       "         (311, 8): 25,\n",
       "         (531, 3): 4,\n",
       "         (48, 2): 722,\n",
       "         (49, 5): 220,\n",
       "         (387, 7): 11,\n",
       "         (67, 3): 606,\n",
       "         (695, 7): 2,\n",
       "         (57, 4): 425,\n",
       "         (223, 5): 68,\n",
       "         (250, 8): 27,\n",
       "         (47, 1): 498,\n",
       "         (375, 6): 15,\n",
       "         (142, 9): 44,\n",
       "         (78, 8): 46,\n",
       "         (257, 5): 44,\n",
       "         (443, 10): 4,\n",
       "         (45, 2): 766,\n",
       "         (231, 1): 14,\n",
       "         (354, 7): 16,\n",
       "         (37, 4): 272,\n",
       "         (70, 4): 448,\n",
       "         (50, 3): 667,\n",
       "         (113, 1): 113,\n",
       "         (33, 2): 778,\n",
       "         (49, 3): 652,\n",
       "         (174, 1): 35,\n",
       "         (475, 10): 5,\n",
       "         (127, 2): 183,\n",
       "         (58, 1): 423,\n",
       "         (284, 4): 38,\n",
       "         (80, 2): 546,\n",
       "         (131, 4): 246,\n",
       "         (70, 6): 140,\n",
       "         (393, 24): 1,\n",
       "         (46, 2): 784,\n",
       "         (7, 1): 135,\n",
       "         (58, 3): 657,\n",
       "         (159, 3): 166,\n",
       "         (101, 0): 6,\n",
       "         (94, 2): 381,\n",
       "         (293, 6): 22,\n",
       "         (121, 4): 273,\n",
       "         (108, 1): 127,\n",
       "         (68, 5): 286,\n",
       "         (44, 3): 642,\n",
       "         (174, 4): 133,\n",
       "         (128, 1): 97,\n",
       "         (97, 4): 388,\n",
       "         (124, 1): 75,\n",
       "         (97, 5): 266,\n",
       "         (55, 3): 689,\n",
       "         (269, 13): 7,\n",
       "         (78, 5): 323,\n",
       "         (134, 5): 208,\n",
       "         (437, 10): 3,\n",
       "         (29, 1): 556,\n",
       "         (189, 7): 55,\n",
       "         (144, 3): 214,\n",
       "         (292, 6): 25,\n",
       "         (489, 10): 7,\n",
       "         (82, 9): 24,\n",
       "         (24, 4): 108,\n",
       "         (301, 6): 38,\n",
       "         (109, 5): 280,\n",
       "         (305, 5): 50,\n",
       "         (78, 2): 479,\n",
       "         (99, 3): 405,\n",
       "         (121, 5): 245,\n",
       "         (138, 7): 104,\n",
       "         (15, 3): 105,\n",
       "         (170, 4): 131,\n",
       "         (263, 6): 32,\n",
       "         (108, 4): 326,\n",
       "         (36, 1): 599,\n",
       "         (169, 2): 108,\n",
       "         (269, 8): 27,\n",
       "         (5, 1): 66,\n",
       "         (46, 1): 496,\n",
       "         (110, 2): 282,\n",
       "         (401, 10): 8,\n",
       "         (214, 4): 89,\n",
       "         (24, 3): 302,\n",
       "         (65, 5): 248,\n",
       "         (17, 3): 187,\n",
       "         (54, 3): 664,\n",
       "         (44, 1): 529,\n",
       "         (164, 8): 60,\n",
       "         (336, 13): 2,\n",
       "         (39, 2): 810,\n",
       "         (227, 4): 83,\n",
       "         (65, 4): 490,\n",
       "         (196, 4): 104,\n",
       "         (287, 3): 28,\n",
       "         (56, 1): 434,\n",
       "         (102, 6): 159,\n",
       "         (172, 6): 101,\n",
       "         (102, 2): 312,\n",
       "         (134, 2): 183,\n",
       "         (274, 17): 4,\n",
       "         (163, 1): 40,\n",
       "         (171, 2): 61,\n",
       "         (76, 3): 551,\n",
       "         (117, 2): 284,\n",
       "         (299, 9): 8,\n",
       "         (183, 3): 100,\n",
       "         (61, 6): 124,\n",
       "         (46, 3): 611,\n",
       "         (25, 2): 631,\n",
       "         (166, 7): 79,\n",
       "         (52, 4): 437,\n",
       "         (141, 4): 234,\n",
       "         (199, 4): 112,\n",
       "         (106, 1): 123,\n",
       "         (483, 6): 4,\n",
       "         (116, 2): 254,\n",
       "         (115, 3): 315,\n",
       "         (213, 9): 34,\n",
       "         (40, 4): 364,\n",
       "         (158, 4): 189,\n",
       "         (446, 9): 2,\n",
       "         (149, 3): 184,\n",
       "         (23, 4): 94,\n",
       "         (650, 8): 1,\n",
       "         (138, 8): 69,\n",
       "         (168, 4): 135,\n",
       "         (509, 13): 2,\n",
       "         (144, 4): 205,\n",
       "         (142, 3): 247,\n",
       "         (90, 2): 412,\n",
       "         (138, 1): 89,\n",
       "         (118, 6): 171,\n",
       "         (283, 6): 32,\n",
       "         (84, 1): 238,\n",
       "         (155, 2): 136,\n",
       "         (67, 1): 343,\n",
       "         (107, 7): 103,\n",
       "         (260, 5): 53,\n",
       "         (110, 4): 316,\n",
       "         (48, 1): 455,\n",
       "         (129, 2): 201,\n",
       "         (174, 3): 129,\n",
       "         (166, 5): 121,\n",
       "         (91, 8): 52,\n",
       "         (431, 9): 5,\n",
       "         (51, 6): 84,\n",
       "         (78, 1): 252,\n",
       "         (570, 32): 2,\n",
       "         (61, 2): 706,\n",
       "         (29, 3): 436,\n",
       "         (59, 1): 388,\n",
       "         (176, 4): 153,\n",
       "         (289, 7): 23,\n",
       "         (75, 5): 288,\n",
       "         (140, 8): 80,\n",
       "         (170, 9): 34,\n",
       "         (26, 2): 628,\n",
       "         (182, 4): 109,\n",
       "         (80, 6): 151,\n",
       "         (191, 9): 51,\n",
       "         (100, 3): 397,\n",
       "         (82, 5): 270,\n",
       "         (148, 3): 183,\n",
       "         (49, 1): 493,\n",
       "         (548, 5): 4,\n",
       "         (170, 3): 154,\n",
       "         (209, 8): 46,\n",
       "         (151, 2): 135,\n",
       "         (233, 6): 57,\n",
       "         (212, 2): 60,\n",
       "         (31, 1): 601,\n",
       "         (226, 10): 22,\n",
       "         (207, 11): 18,\n",
       "         (21, 0): 24,\n",
       "         (220, 8): 28,\n",
       "         (157, 13): 5,\n",
       "         (144, 6): 151,\n",
       "         (69, 2): 592,\n",
       "         (181, 8): 34,\n",
       "         (147, 4): 200,\n",
       "         (98, 10): 14,\n",
       "         (114, 7): 105,\n",
       "         (310, 10): 14,\n",
       "         (58, 5): 239,\n",
       "         (174, 2): 93,\n",
       "         (56, 4): 421,\n",
       "         (44, 5): 166,\n",
       "         (211, 10): 27,\n",
       "         (99, 5): 273,\n",
       "         (160, 10): 22,\n",
       "         (321, 3): 17,\n",
       "         (64, 4): 440,\n",
       "         (216, 5): 66,\n",
       "         (228, 7): 37,\n",
       "         (127, 1): 86,\n",
       "         (29, 4): 179,\n",
       "         (131, 1): 80,\n",
       "         (143, 12): 15,\n",
       "         (77, 3): 530,\n",
       "         (137, 8): 47,\n",
       "         (28, 4): 172,\n",
       "         (100, 2): 340,\n",
       "         (115, 1): 118,\n",
       "         (139, 6): 161,\n",
       "         (221, 6): 64,\n",
       "         (90, 8): 59,\n",
       "         (150, 9): 37,\n",
       "         (130, 5): 209,\n",
       "         (368, 6): 18,\n",
       "         (334, 6): 19,\n",
       "         (174, 6): 102,\n",
       "         (137, 4): 238,\n",
       "         (98, 2): 344,\n",
       "         (167, 16): 4,\n",
       "         (143, 5): 211,\n",
       "         (166, 10): 23,\n",
       "         (507, 13): 5,\n",
       "         (128, 4): 260,\n",
       "         (141, 12): 7,\n",
       "         (88, 3): 489,\n",
       "         (376, 6): 8,\n",
       "         (130, 3): 283,\n",
       "         (124, 5): 224,\n",
       "         (426, 5): 13,\n",
       "         (319, 9): 15,\n",
       "         (137, 2): 166,\n",
       "         (120, 6): 139,\n",
       "         (295, 9): 18,\n",
       "         (298, 10): 10,\n",
       "         (64, 3): 665,\n",
       "         (82, 2): 487,\n",
       "         (125, 4): 276,\n",
       "         (120, 7): 95,\n",
       "         (212, 3): 77,\n",
       "         (92, 6): 162,\n",
       "         (90, 10): 16,\n",
       "         (472, 0): 1,\n",
       "         (537, 10): 2,\n",
       "         (154, 3): 183,\n",
       "         (155, 7): 78,\n",
       "         (131, 9): 42,\n",
       "         (92, 2): 397,\n",
       "         (18, 3): 199,\n",
       "         (97, 1): 161,\n",
       "         (85, 4): 411,\n",
       "         (37, 1): 572,\n",
       "         (30, 1): 526,\n",
       "         (151, 1): 50,\n",
       "         (157, 5): 138,\n",
       "         (65, 1): 358,\n",
       "         (33, 3): 519,\n",
       "         (32, 1): 571,\n",
       "         (17, 2): 377,\n",
       "         (201, 5): 82,\n",
       "         (69, 3): 629,\n",
       "         (143, 3): 210,\n",
       "         (19, 2): 486,\n",
       "         (192, 1): 19,\n",
       "         (192, 5): 109,\n",
       "         (69, 5): 253,\n",
       "         (90, 13): 4,\n",
       "         (264, 11): 11,\n",
       "         (189, 2): 70,\n",
       "         (288, 4): 37,\n",
       "         (154, 1): 44,\n",
       "         (135, 7): 93,\n",
       "         (109, 4): 308,\n",
       "         (146, 6): 141,\n",
       "         (114, 3): 335,\n",
       "         (453, 6): 9,\n",
       "         (67, 4): 428,\n",
       "         (402, 7): 9,\n",
       "         (88, 7): 116,\n",
       "         (177, 8): 39,\n",
       "         (75, 1): 245,\n",
       "         (77, 5): 281,\n",
       "         (323, 4): 25,\n",
       "         (93, 4): 392,\n",
       "         (10, 2): 147,\n",
       "         (41, 4): 338,\n",
       "         (397, 11): 9,\n",
       "         (363, 12): 10,\n",
       "         (14, 1): 330,\n",
       "         (164, 3): 156,\n",
       "         (132, 4): 260,\n",
       "         (71, 8): 38,\n",
       "         (95, 8): 58,\n",
       "         (616, 5): 5,\n",
       "         (147, 9): 50,\n",
       "         (111, 7): 108,\n",
       "         (49, 2): 722,\n",
       "         (39, 3): 563,\n",
       "         (97, 6): 153,\n",
       "         (686, 7): 2,\n",
       "         (123, 5): 231,\n",
       "         (81, 3): 569,\n",
       "         (151, 6): 130,\n",
       "         (142, 10): 27,\n",
       "         (138, 5): 204,\n",
       "         (437, 6): 12,\n",
       "         (84, 5): 253,\n",
       "         (252, 10): 14,\n",
       "         (240, 13): 11,\n",
       "         (73, 5): 260,\n",
       "         (174, 7): 70,\n",
       "         (334, 12): 4,\n",
       "         (59, 7): 41,\n",
       "         (347, 3): 12,\n",
       "         (285, 11): 11,\n",
       "         (230, 3): 53,\n",
       "         (263, 7): 36,\n",
       "         (144, 5): 180,\n",
       "         (121, 1): 112,\n",
       "         (51, 9): 7,\n",
       "         (236, 3): 61,\n",
       "         (174, 8): 57,\n",
       "         (475, 19): 1,\n",
       "         (216, 4): 95,\n",
       "         (59, 4): 460,\n",
       "         (115, 4): 296,\n",
       "         (147, 7): 81,\n",
       "         (155, 4): 170,\n",
       "         (217, 8): 25,\n",
       "         (308, 8): 22,\n",
       "         (650, 4): 2,\n",
       "         (63, 2): 646,\n",
       "         (199, 6): 74,\n",
       "         (139, 2): 186,\n",
       "         (179, 2): 78,\n",
       "         (202, 6): 90,\n",
       "         (77, 10): 11,\n",
       "         (166, 8): 48,\n",
       "         (239, 11): 24,\n",
       "         (143, 14): 8,\n",
       "         (347, 6): 21,\n",
       "         (251, 11): 17,\n",
       "         (18, 2): 416,\n",
       "         (812, 3): 2,\n",
       "         (623, 9): 4,\n",
       "         (179, 7): 82,\n",
       "         (253, 12): 10,\n",
       "         (245, 4): 54,\n",
       "         (432, 10): 4,\n",
       "         (681, 10): 1,\n",
       "         (69, 1): 338,\n",
       "         (93, 6): 170,\n",
       "         (440, 10): 9,\n",
       "         (502, 6): 11,\n",
       "         (487, 4): 5,\n",
       "         (152, 4): 213,\n",
       "         (142, 2): 135,\n",
       "         (88, 5): 306,\n",
       "         (252, 2): 26,\n",
       "         (96, 4): 381,\n",
       "         (83, 2): 464,\n",
       "         (362, 5): 11,\n",
       "         (94, 16): 1,\n",
       "         (160, 9): 34,\n",
       "         (99, 6): 176,\n",
       "         (87, 2): 408,\n",
       "         (241, 3): 115,\n",
       "         (162, 12): 9,\n",
       "         (218, 4): 59,\n",
       "         (185, 10): 20,\n",
       "         (128, 2): 196,\n",
       "         (188, 6): 84,\n",
       "         (118, 11): 10,\n",
       "         (184, 2): 90,\n",
       "         (227, 6): 48,\n",
       "         (183, 7): 78,\n",
       "         (66, 5): 269,\n",
       "         (157, 4): 176,\n",
       "         (281, 5): 40,\n",
       "         (230, 6): 58,\n",
       "         (209, 4): 90,\n",
       "         (317, 5): 28,\n",
       "         (66, 3): 597,\n",
       "         (71, 1): 292,\n",
       "         (15, 1): 347,\n",
       "         (91, 2): 397,\n",
       "         (417, 17): 2,\n",
       "         (31, 4): 173,\n",
       "         (334, 7): 23,\n",
       "         (411, 3): 4,\n",
       "         (35, 3): 557,\n",
       "         (205, 5): 101,\n",
       "         (75, 6): 157,\n",
       "         (172, 4): 152,\n",
       "         (98, 5): 267,\n",
       "         (68, 3): 633,\n",
       "         (177, 7): 73,\n",
       "         (145, 9): 46,\n",
       "         (76, 1): 284,\n",
       "         (609, 4): 2,\n",
       "         (73, 3): 615,\n",
       "         (290, 9): 13,\n",
       "         (53, 3): 656,\n",
       "         (172, 5): 116,\n",
       "         (232, 6): 62,\n",
       "         (151, 4): 183,\n",
       "         (88, 4): 395,\n",
       "         (397, 3): 7,\n",
       "         (150, 8): 64,\n",
       "         (20, 2): 517,\n",
       "         (908, 6): 1,\n",
       "         (35, 1): 564,\n",
       "         (79, 1): 246,\n",
       "         (270, 6): 38,\n",
       "         (118, 15): 3,\n",
       "         (66, 6): 133,\n",
       "         (86, 5): 284,\n",
       "         (75, 4): 469,\n",
       "         (126, 2): 227,\n",
       "         (237, 3): 54,\n",
       "         (72, 5): 268,\n",
       "         (206, 6): 55,\n",
       "         (352, 14): 4,\n",
       "         (94, 4): 388,\n",
       "         (119, 3): 304,\n",
       "         (27, 4): 164,\n",
       "         (161, 6): 112,\n",
       "         (174, 5): 137,\n",
       "         (76, 2): 475,\n",
       "         (83, 5): 267,\n",
       "         (158, 8): 59,\n",
       "         (399, 7): 7,\n",
       "         (32, 5): 75,\n",
       "         (87, 9): 20,\n",
       "         (50, 4): 378,\n",
       "         (43, 3): 594,\n",
       "         (144, 1): 50,\n",
       "         (101, 3): 415,\n",
       "         (463, 9): 14,\n",
       "         (133, 5): 208,\n",
       "         (432, 9): 5,\n",
       "         (107, 3): 347,\n",
       "         (232, 3): 44,\n",
       "         (125, 13): 11,\n",
       "         (267, 6): 31,\n",
       "         (689, 22): 1,\n",
       "         (138, 10): 26,\n",
       "         (316, 6): 26,\n",
       "         (62, 5): 267,\n",
       "         (384, 3): 9,\n",
       "         (256, 4): 34,\n",
       "         (121, 7): 104,\n",
       "         (111, 4): 314,\n",
       "         (706, 5): 2,\n",
       "         (310, 7): 19,\n",
       "         (350, 8): 12,\n",
       "         (49, 4): 373,\n",
       "         (141, 7): 91,\n",
       "         (454, 6): 8,\n",
       "         (283, 12): 9,\n",
       "         (113, 4): 272,\n",
       "         (224, 6): 64,\n",
       "         (278, 4): 46,\n",
       "         (205, 8): 51,\n",
       "         (114, 5): 265,\n",
       "         (98, 4): 353,\n",
       "         (169, 3): 173,\n",
       "         (134, 7): 97,\n",
       "         (167, 17): 1,\n",
       "         (134, 4): 236,\n",
       "         (79, 2): 476,\n",
       "         (14, 4): 25,\n",
       "         (107, 1): 126,\n",
       "         (129, 5): 202,\n",
       "         (173, 4): 147,\n",
       "         (513, 6): 10,\n",
       "         (106, 7): 100,\n",
       "         (472, 6): 8,\n",
       "         (135, 1): 69,\n",
       "         (190, 3): 110,\n",
       "         (55, 7): 48,\n",
       "         (729, 3): 2,\n",
       "         (42, 6): 62,\n",
       "         (184, 9): 35,\n",
       "         (90, 7): 85,\n",
       "         (149, 1): 56,\n",
       "         (71, 4): 447,\n",
       "         (119, 8): 63,\n",
       "         (182, 5): 124,\n",
       "         (121, 2): 239,\n",
       "         (151, 7): 78,\n",
       "         (98, 3): 403,\n",
       "         (80, 3): 530,\n",
       "         (22, 4): 96,\n",
       "         (399, 8): 7,\n",
       "         (167, 4): 136,\n",
       "         (307, 5): 31,\n",
       "         (121, 8): 72,\n",
       "         (69, 4): 432,\n",
       "         (200, 8): 47,\n",
       "         (168, 8): 51,\n",
       "         (111, 3): 379,\n",
       "         (757, 19): 1,\n",
       "         (89, 4): 387,\n",
       "         (250, 26): 1,\n",
       "         (144, 7): 86,\n",
       "         (223, 6): 63,\n",
       "         (161, 4): 161,\n",
       "         (106, 6): 168,\n",
       "         (259, 4): 64,\n",
       "         (127, 4): 272,\n",
       "         (88, 2): 434,\n",
       "         (19, 4): 54,\n",
       "         (169, 5): 146,\n",
       "         (435, 18): 2,\n",
       "         (262, 9): 35,\n",
       "         (43, 8): 13,\n",
       "         (99, 2): 351,\n",
       "         (135, 3): 244,\n",
       "         (119, 7): 98,\n",
       "         (856, 15): 1,\n",
       "         (227, 9): 30,\n",
       "         (39, 1): 573,\n",
       "         (506, 7): 3,\n",
       "         (638, 20): 1,\n",
       "         (171, 3): 141,\n",
       "         (176, 11): 22,\n",
       "         (193, 1): 28,\n",
       "         (25, 0): 31,\n",
       "         (179, 9): 49,\n",
       "         (156, 5): 156,\n",
       "         (22, 1): 522,\n",
       "         (72, 4): 454,\n",
       "         (151, 5): 156,\n",
       "         (118, 12): 8,\n",
       "         (426, 12): 3,\n",
       "         ...})"
      ]
     },
     "execution_count": 30,
     "metadata": {},
     "output_type": "execute_result"
    }
   ],
   "source": [
    "# количество слов по сообщениям уже есть\n",
    "# количество цепочек по сообщениям уже есть\n",
    "# осталось посчитать количество каждых возможных пар\n",
    "word_chain_count_list = []\n",
    "for word_count, chain_count in zip(words_list, chain_amount_list):\n",
    "    word_chain_count_list.append((word_count, chain_count, ))\n",
    "c = Counter(word_chain_count_list)\n",
    "c"
   ]
  },
  {
   "cell_type": "code",
   "execution_count": 31,
   "metadata": {},
   "outputs": [
    {
     "data": {
      "text/plain": [
       "(1007, 64)"
      ]
     },
     "execution_count": 31,
     "metadata": {},
     "output_type": "execute_result"
    }
   ],
   "source": [
    "ser = pd.Series(list(dict(c).values()), index=pd.MultiIndex.from_tuples(dict(c).keys()))\n",
    "df = ser.unstack().fillna(0)\n",
    "df.shape"
   ]
  },
  {
   "cell_type": "code",
   "execution_count": 32,
   "metadata": {},
   "outputs": [
    {
     "data": {
      "image/png": "[encoded data removed]",
      "text/plain": [
       "<Figure size 1332x756 with 2 Axes>"
      ]
     },
     "metadata": {
      "needs_background": "light"
     },
     "output_type": "display_data"
    }
   ],
   "source": [
    "sns.heatmap(df)\n",
    "\n",
    "plt.xlim(0, 29)\n",
    "plt.ylim(0, 295)\n",
    "\n",
    "\n",
    "plt.xlabel('Coreference Chains', fontsize=20)\n",
    "plt.ylabel('Words', fontsize=20)\n",
    "\n",
    "fig = plt.gcf()\n",
    "fig.set_size_inches(18.5, 10.5)\n",
    "#fig.savefig('test2png.png', dpi=100)\n",
    "\n",
    "plt.show()"
   ]
  },
  {
   "cell_type": "markdown",
   "metadata": {},
   "source": [
    "# Перевод данных в формат CoNLL"
   ]
  },
  {
   "cell_type": "markdown",
   "metadata": {},
   "source": [
    "Имеющиеся переменные:\n",
    "+ количество слов\n",
    "+ количество предложений\n",
    "+ количество кореференциальных цеопчек\n",
    "+ количество выделенных слов\n",
    "+ список джейсонов аннотаций\n",
    "+ список полных джейсонов"
   ]
  },
  {
   "cell_type": "code",
   "execution_count": 33,
   "metadata": {},
   "outputs": [
    {
     "data": {
      "text/plain": [
       "[16, 173, 177, 50, 127, 62, 92, 58, 249, 51]"
      ]
     },
     "execution_count": 33,
     "metadata": {},
     "output_type": "execute_result"
    }
   ],
   "source": [
    "words_list[:10]"
   ]
  },
  {
   "cell_type": "code",
   "execution_count": 34,
   "metadata": {},
   "outputs": [
    {
     "data": {
      "text/plain": [
       "[1, 5, 3, 5, 10, 9, 15, 8, 23, 9]"
      ]
     },
     "execution_count": 34,
     "metadata": {},
     "output_type": "execute_result"
    }
   ],
   "source": [
    "sentences_list[:10]"
   ]
  },
  {
   "cell_type": "code",
   "execution_count": 35,
   "metadata": {},
   "outputs": [
    {
     "data": {
      "text/plain": [
       "[[{'norm': 'ребенок',\n",
       "   '_string': 'ребенок',\n",
       "   '_id': 882,\n",
       "   'antecedent_id': 882,\n",
       "   'status': 'antecedent',\n",
       "   'start': 518,\n",
       "   'end': 525},\n",
       "  {'norm': 'я',\n",
       "   '_string': 'меня',\n",
       "   '_id': 884,\n",
       "   'antecedent_id': 916,\n",
       "   'status': 'anaphor',\n",
       "   'start': 547,\n",
       "   'end': 551}]]"
      ]
     },
     "execution_count": 35,
     "metadata": {},
     "output_type": "execute_result"
    }
   ],
   "source": [
    "files_chain_list[:1]"
   ]
  },
  {
   "cell_type": "code",
   "execution_count": 36,
   "metadata": {},
   "outputs": [
    {
     "data": {
      "text/plain": [
       "'Здравствуйте! Ребенку (мальчик) 7 лет. Находимся на стационарном лечении 3 с хвостиком недели с диагнозом гематогенный остеомиелит грудины. Сначала на груди образовалась болезненная припухлость. Вялость, усталость ,плохой аппетит, плохой сон (стонал ночью даже во сне). Врачом в нашем городе после осмотра и рентгена был направлен на консультацию в г. Ровно, где по срочному положили в стационар (12.09.07). На момент госпитализации у ребенка сохранялась температура от 37,3 до 38,4 в течение недели. На стационаре температура держалась еще 10-12 дней, сейчас в норме. После анализа крови, мочи и просмотра сделанного дома снимка в стационаре выполнен разрез до кости и поставили дренаж (резинка). Затем, в период с 26.09. по 30.09.07 дренаж не устанавливался. Повторно установлен 01.10.07. Посев гнойного содержимого не проводился, доктора мы спрашивали. Томографию в клинике не выполняли. Пропили курс (10 дней) Аксеф-250, сейчас назначен препарат рифампицин. Повторный рентген сделан 3 недели спустя и по словам врача показал воспаление в кости , . Анализ крови на 12.09.07 г. , . В данный момент направлены в республиканскую клинику ОХМАТДЕТ с думя диагнозами: гематогенный остеомиелит грудины и ТВС грудины ,при этом дренаж снят. Данные проб Манту: 17.10.00 пап 7 мм, 05.11.01 пап 5 мм, 11.11.02 пап 8 мм, 10.11.03 пап 11 мм, 18.05.04 гин(п?) 8мм, 16.05.05. гин(п) 7 мм, 10.11.06 гин(п) 8 мм - это из сравки о прививках. Манту, сделанная 14.09.2007 г. на стационаре - 8 мм. Последняя выполнена на стационаре. Завтра выложу выписку, сделанную сегодня лечащим врачом при переводе ребенка в другую клинику, и результаты анализа крови от 02.10.07. Помогите, пожалуйста!'"
      ]
     },
     "execution_count": 36,
     "metadata": {},
     "output_type": "execute_result"
    }
   ],
   "source": [
    "list_full_file_json[8]['text']"
   ]
  },
  {
   "cell_type": "code",
   "execution_count": 229,
   "metadata": {},
   "outputs": [
    {
     "data": {
      "text/html": [
       "<div>\n",
       "<style scoped>\n",
       "    .dataframe tbody tr th:only-of-type {\n",
       "        vertical-align: middle;\n",
       "    }\n",
       "\n",
       "    .dataframe tbody tr th {\n",
       "        vertical-align: top;\n",
       "    }\n",
       "\n",
       "    .dataframe thead th {\n",
       "        text-align: right;\n",
       "    }\n",
       "</style>\n",
       "<table border=\"1\" class=\"dataframe\">\n",
       "  <thead>\n",
       "    <tr style=\"text-align: right;\">\n",
       "      <th></th>\n",
       "      <th>doc_name</th>\n",
       "      <th>zeros</th>\n",
       "      <th>word_num_sent</th>\n",
       "      <th>sent_entry</th>\n",
       "      <th>pos</th>\n",
       "      <th>star1</th>\n",
       "      <th>empty1</th>\n",
       "      <th>empty2</th>\n",
       "      <th>empty3</th>\n",
       "      <th>empty4</th>\n",
       "      <th>empty5</th>\n",
       "      <th>star2</th>\n",
       "      <th>coref</th>\n",
       "    </tr>\n",
       "  </thead>\n",
       "  <tbody>\n",
       "  </tbody>\n",
       "</table>\n",
       "</div>"
      ],
      "text/plain": [
       "Empty DataFrame\n",
       "Columns: [doc_name, zeros, word_num_sent, sent_entry, pos, star1, empty1, empty2, empty3, empty4, empty5, star2, coref]\n",
       "Index: []"
      ]
     },
     "execution_count": 229,
     "metadata": {},
     "output_type": "execute_result"
    }
   ],
   "source": [
    "conll_df = pd.DataFrame({'doc_name': [], 'zeros': [], 'word_num_sent': [], 'sent_entry': [], 'pos': [], 'star1': [], 'empty1': [], 'empty2': [],'empty3': [],'empty4': [],'empty5': [], 'star2': [], 'coref': [],})\n",
    "\n",
    "conll_df.head()"
   ]
  },
  {
   "cell_type": "code",
   "execution_count": 38,
   "metadata": {},
   "outputs": [],
   "source": [
    "name_ptt = re.compile('[^/]+$') # а был же уже файл ну ладно и так можно....\n",
    "sentence_ptt = re.compile('.*?(?:\\.|\\?|\\!|…)(?= *[А-Я]|$)')"
   ]
  },
  {
   "cell_type": "code",
   "execution_count": 235,
   "metadata": {},
   "outputs": [
    {
     "name": "stderr",
     "output_type": "stream",
     "text": [
      "100%|██████████| 386254/386254 [01:09<00:00, 5569.79it/s]\n"
     ]
    },
    {
     "data": {
      "text/plain": [
       "'Астигматизм это наследственное, лечиться только хирургически, ребенок неправильно видит, у меня такая же беда с рождения!'"
      ]
     },
     "execution_count": 235,
     "metadata": {},
     "output_type": "execute_result"
    }
   ],
   "source": [
    "# создадим все нужные параметры, чтобы потом построчно записывать в датафрейм \n",
    "document_name = ''\n",
    "sentences_list = []\n",
    "names_list = []\n",
    "for document in tqdm(list_full_file_json):\n",
    "    \n",
    "    # имя документа\n",
    "    document_name = name_ptt.search(document['features']['path']).group(0) # nedug-ru_734132-0000.xml\n",
    "    \n",
    "    # предложения документа \n",
    "    document_sentences = sentence_ptt.findall(document['text'])\n",
    "    sentences_list.append(document_sentences)\n",
    "    names_list.append(document_name)\n",
    "sentences_list[0][0]"
   ]
  },
  {
   "cell_type": "code",
   "execution_count": 200,
   "metadata": {},
   "outputs": [
    {
     "data": {
      "text/plain": [
       "'З'"
      ]
     },
     "execution_count": 200,
     "metadata": {},
     "output_type": "execute_result"
    }
   ],
   "source": [
    "sentences_list[0][0][0]"
   ]
  },
  {
   "cell_type": "code",
   "execution_count": 236,
   "metadata": {},
   "outputs": [
    {
     "name": "stderr",
     "output_type": "stream",
     "text": [
      "100%|██████████| 386254/386254 [2:25:51<00:00, 44.14it/s]     \n"
     ]
    }
   ],
   "source": [
    "tagged_sentences_list = []\n",
    "for sentences_document in tqdm(sentences_list):\n",
    "    tagged_sentences_doc = []\n",
    "    for sentence in sentences_document:\n",
    "        # слова в предложениях + pos\n",
    "        tokens = nltk.word_tokenize(sentence)\n",
    "        tagged_sentences_doc.append(nltk.pos_tag(tokens, lang = 'rus'))\n",
    "    tagged_sentences_list.append(tagged_sentences_doc)"
   ]
  },
  {
   "cell_type": "code",
   "execution_count": 202,
   "metadata": {},
   "outputs": [
    {
     "data": {
      "text/plain": [
       "[[('Здравствуйте', 'INTJ'), ('!', 'NONLEX')],\n",
       " [('Очень', 'ADV'),\n",
       "  ('надеюсь', 'V'),\n",
       "  ('получить', 'V'),\n",
       "  ('здесь', 'ADV-PRO'),\n",
       "  ('второе', 'ANUM=n'),\n",
       "  ('мнение', 'S'),\n",
       "  ('по', 'PR'),\n",
       "  ('поводу', 'S'),\n",
       "  ('здоровья', 'S'),\n",
       "  ('своего', 'A-PRO=m'),\n",
       "  ('сына', 'S'),\n",
       "  ('.', 'NONLEX')],\n",
       " [('Ребенку', 'S'),\n",
       "  ('2', 'NUM=ciph'),\n",
       "  ('года', 'S'),\n",
       "  ('7', 'NUM=ciph'),\n",
       "  ('месяцев', 'S'),\n",
       "  ('.', 'NONLEX')],\n",
       " [('Поставлены', 'V'),\n",
       "  ('диагнозы', 'S'),\n",
       "  (':', 'NONLEX'),\n",
       "  ('анизометропия', 'S'),\n",
       "  (',', 'NONLEX'),\n",
       "  ('гиперметропия', 'S'),\n",
       "  ('.', 'NONLEX'),\n",
       "  ('OD', 'NONLEX'),\n",
       "  ('+2,5', 'NONLEX'),\n",
       "  (',', 'NONLEX'),\n",
       "  ('OS', 'NONLEX'),\n",
       "  ('+5,0', 'NONLEX'),\n",
       "  ('.', 'NONLEX')],\n",
       " [('Рекомендованы', 'V'),\n",
       "  ('очки', 'S'),\n",
       "  ('для', 'PR'),\n",
       "  ('постоянного', 'A=n'),\n",
       "  ('ношения', 'S'),\n",
       "  ('+0,5/+2,0', 'S'),\n",
       "  ('.', 'NONLEX')],\n",
       " [('Явка', 'S'),\n",
       "  ('через', 'PR'),\n",
       "  ('2', 'NUM=ciph'),\n",
       "  ('месяца', 'S'),\n",
       "  ('.', 'NONLEX')],\n",
       " [('Вопросы', 'S'), (':', 'NONLEX'), ('1', 'NUM=ciph'), ('.', 'NONLEX')],\n",
       " [('Адекватна', 'A=f'),\n",
       "  ('ли', 'PART'),\n",
       "  ('очковая', 'A=f'),\n",
       "  ('коррекция', 'S'),\n",
       "  ('?', 'NONLEX'),\n",
       "  ('2', 'NUM=ciph'),\n",
       "  ('.', 'NONLEX')],\n",
       " [('Обязательно', 'ADV'),\n",
       "  ('ли', 'PART'),\n",
       "  ('носить', 'V'),\n",
       "  ('очки', 'S'),\n",
       "  ('постоянно', 'ADV'),\n",
       "  ('?', 'NONLEX')],\n",
       " [('Ожидаю', 'V'),\n",
       "  (',', 'NONLEX'),\n",
       "  ('что', 'CONJ'),\n",
       "  ('ребенок', 'S'),\n",
       "  ('будет', 'V'),\n",
       "  ('сопротивляться', 'V'),\n",
       "  ('-', 'NONLEX'),\n",
       "  ('подскажите', 'V'),\n",
       "  (',', 'NONLEX'),\n",
       "  ('в', 'PR'),\n",
       "  ('таком', 'A-PRO=m'),\n",
       "  ('случае', 'S'),\n",
       "  (',', 'NONLEX'),\n",
       "  ('для', 'PR'),\n",
       "  ('какого', 'A-PRO=m'),\n",
       "  ('рода', 'S'),\n",
       "  ('занятий', 'S'),\n",
       "  ('использование', 'S'),\n",
       "  ('очков', 'S'),\n",
       "  ('первостепенно', 'ADV'),\n",
       "  ('?', 'NONLEX'),\n",
       "  ('3', 'NUM=ciph'),\n",
       "  ('.', 'NONLEX')],\n",
       " [('Есть', 'V'),\n",
       "  ('ли', 'PART'),\n",
       "  ('необходимость', 'S'),\n",
       "  ('в', 'PR'),\n",
       "  ('дополнительных', 'A=pl'),\n",
       "  ('обследованиях', 'S'),\n",
       "  ('?', 'NONLEX')],\n",
       " [('Рефракцию', 'S'),\n",
       "  ('сыну', 'S'),\n",
       "  ('измеряли', 'V'),\n",
       "  ('вручную', 'ADV'),\n",
       "  (',', 'NONLEX'),\n",
       "  ('спустя', 'PR'),\n",
       "  ('10', 'NUM=ciph'),\n",
       "  ('мин', 'S'),\n",
       "  ('.', 'NONLEX'),\n",
       "  ('после', 'PR'),\n",
       "  ('единократного', 'A=n'),\n",
       "  ('закапывания', 'S'),\n",
       "  ('Цикломеда', 'S'),\n",
       "  ('.', 'NONLEX')],\n",
       " [('Спасибо', 'PRAEDIC'), ('.', 'NONLEX')]]"
      ]
     },
     "execution_count": 202,
     "metadata": {},
     "output_type": "execute_result"
    }
   ],
   "source": [
    "tagged_sentences_list[1] #[0]#[0]#[1]"
   ]
  },
  {
   "cell_type": "code",
   "execution_count": 237,
   "metadata": {},
   "outputs": [
    {
     "name": "stderr",
     "output_type": "stream",
     "text": [
      "100%|██████████| 386254/386254 [12:19<00:00, 522.35it/s]  \n"
     ]
    }
   ],
   "source": [
    "# осталось только сделать кореференцию\n",
    "# получим список неочищенных файлов, чтобы обращаться к кореференциальным\n",
    "# цепочкам по их положению в тексте,\n",
    "# а не по написанию, таким образом ничего не перепутается\n",
    "\n",
    "list_full_file_json_dirty = [] # список, в котором каждый элемент - содержимое одного файла\n",
    "\n",
    "# цикл для прохода по всем файлам и сбора их содержимого\n",
    "for filename in tqdm(list_of_files):\n",
    "    # абсолютный путь к единичному файлу\n",
    "    path_single = path + '/' + filename\n",
    "    # открываем\n",
    "    with open(path_single) as file:\n",
    "        file = json.load(file)\n",
    "        list_full_file_json_dirty.append(file)"
   ]
  },
  {
   "cell_type": "code",
   "execution_count": 208,
   "metadata": {},
   "outputs": [
    {
     "data": {
      "text/plain": [
       "list"
      ]
     },
     "execution_count": 208,
     "metadata": {},
     "output_type": "execute_result"
    }
   ],
   "source": [
    "type(list_full_file_json_dirty[1]['annotation_sets']['']['annotations'])#[1]['features']['_string']"
   ]
  },
  {
   "cell_type": "code",
   "execution_count": 209,
   "metadata": {},
   "outputs": [
    {
     "name": "stdout",
     "output_type": "stream",
     "text": [
      "2 2 2\n"
     ]
    }
   ],
   "source": [
    "print(len(names_list), len(tagged_sentences_list), len(list_full_file_json_dirty))"
   ]
  },
  {
   "cell_type": "code",
   "execution_count": 238,
   "metadata": {
    "scrolled": true
   },
   "outputs": [
    {
     "ename": "KeyboardInterrupt",
     "evalue": "",
     "output_type": "error",
     "traceback": [
      "\u001b[0;31m---------------------------------------------------------------------------\u001b[0m",
      "\u001b[0;31mKeyboardInterrupt\u001b[0m                         Traceback (most recent call last)",
      "\u001b[0;32m<ipython-input-238-dae5a73b070d>\u001b[0m in \u001b[0;36m<module>\u001b[0;34m\u001b[0m\n\u001b[1;32m     63\u001b[0m             \u001b[0mlist_of_rows\u001b[0m\u001b[0;34m.\u001b[0m\u001b[0mappend\u001b[0m\u001b[0;34m(\u001b[0m\u001b[0mrow\u001b[0m\u001b[0;34m)\u001b[0m\u001b[0;34m\u001b[0m\u001b[0;34m\u001b[0m\u001b[0m\n\u001b[1;32m     64\u001b[0m \u001b[0;34m\u001b[0m\u001b[0m\n\u001b[0;32m---> 65\u001b[0;31m     \u001b[0mconll_df\u001b[0m \u001b[0;34m=\u001b[0m \u001b[0mconll_df\u001b[0m\u001b[0;34m.\u001b[0m\u001b[0mappend\u001b[0m\u001b[0;34m(\u001b[0m\u001b[0mpd\u001b[0m\u001b[0;34m.\u001b[0m\u001b[0mDataFrame\u001b[0m\u001b[0;34m(\u001b[0m\u001b[0mlist_of_rows\u001b[0m\u001b[0;34m,\u001b[0m \u001b[0mcolumns\u001b[0m\u001b[0;34m=\u001b[0m\u001b[0mconll_df\u001b[0m\u001b[0;34m.\u001b[0m\u001b[0mcolumns\u001b[0m\u001b[0;34m)\u001b[0m\u001b[0;34m)\u001b[0m\u001b[0;34m\u001b[0m\u001b[0;34m\u001b[0m\u001b[0m\n\u001b[0m\u001b[1;32m     66\u001b[0m \u001b[0;34m\u001b[0m\u001b[0m\n\u001b[1;32m     67\u001b[0m \u001b[0;34m\u001b[0m\u001b[0m\n",
      "\u001b[0;32m~/opt/anaconda3/lib/python3.7/site-packages/pandas/core/frame.py\u001b[0m in \u001b[0;36mappend\u001b[0;34m(self, other, ignore_index, verify_integrity, sort)\u001b[0m\n\u001b[1;32m   7136\u001b[0m             \u001b[0mignore_index\u001b[0m\u001b[0;34m=\u001b[0m\u001b[0mignore_index\u001b[0m\u001b[0;34m,\u001b[0m\u001b[0;34m\u001b[0m\u001b[0;34m\u001b[0m\u001b[0m\n\u001b[1;32m   7137\u001b[0m             \u001b[0mverify_integrity\u001b[0m\u001b[0;34m=\u001b[0m\u001b[0mverify_integrity\u001b[0m\u001b[0;34m,\u001b[0m\u001b[0;34m\u001b[0m\u001b[0;34m\u001b[0m\u001b[0m\n\u001b[0;32m-> 7138\u001b[0;31m             \u001b[0msort\u001b[0m\u001b[0;34m=\u001b[0m\u001b[0msort\u001b[0m\u001b[0;34m,\u001b[0m\u001b[0;34m\u001b[0m\u001b[0;34m\u001b[0m\u001b[0m\n\u001b[0m\u001b[1;32m   7139\u001b[0m         )\n\u001b[1;32m   7140\u001b[0m \u001b[0;34m\u001b[0m\u001b[0m\n",
      "\u001b[0;32m~/opt/anaconda3/lib/python3.7/site-packages/pandas/core/reshape/concat.py\u001b[0m in \u001b[0;36mconcat\u001b[0;34m(objs, axis, join, join_axes, ignore_index, keys, levels, names, verify_integrity, sort, copy)\u001b[0m\n\u001b[1;32m    256\u001b[0m     )\n\u001b[1;32m    257\u001b[0m \u001b[0;34m\u001b[0m\u001b[0m\n\u001b[0;32m--> 258\u001b[0;31m     \u001b[0;32mreturn\u001b[0m \u001b[0mop\u001b[0m\u001b[0;34m.\u001b[0m\u001b[0mget_result\u001b[0m\u001b[0;34m(\u001b[0m\u001b[0;34m)\u001b[0m\u001b[0;34m\u001b[0m\u001b[0;34m\u001b[0m\u001b[0m\n\u001b[0m\u001b[1;32m    259\u001b[0m \u001b[0;34m\u001b[0m\u001b[0m\n\u001b[1;32m    260\u001b[0m \u001b[0;34m\u001b[0m\u001b[0m\n",
      "\u001b[0;32m~/opt/anaconda3/lib/python3.7/site-packages/pandas/core/reshape/concat.py\u001b[0m in \u001b[0;36mget_result\u001b[0;34m(self)\u001b[0m\n\u001b[1;32m    471\u001b[0m \u001b[0;34m\u001b[0m\u001b[0m\n\u001b[1;32m    472\u001b[0m             new_data = concatenate_block_managers(\n\u001b[0;32m--> 473\u001b[0;31m                 \u001b[0mmgrs_indexers\u001b[0m\u001b[0;34m,\u001b[0m \u001b[0mself\u001b[0m\u001b[0;34m.\u001b[0m\u001b[0mnew_axes\u001b[0m\u001b[0;34m,\u001b[0m \u001b[0mconcat_axis\u001b[0m\u001b[0;34m=\u001b[0m\u001b[0mself\u001b[0m\u001b[0;34m.\u001b[0m\u001b[0maxis\u001b[0m\u001b[0;34m,\u001b[0m \u001b[0mcopy\u001b[0m\u001b[0;34m=\u001b[0m\u001b[0mself\u001b[0m\u001b[0;34m.\u001b[0m\u001b[0mcopy\u001b[0m\u001b[0;34m\u001b[0m\u001b[0;34m\u001b[0m\u001b[0m\n\u001b[0m\u001b[1;32m    474\u001b[0m             )\n\u001b[1;32m    475\u001b[0m             \u001b[0;32mif\u001b[0m \u001b[0;32mnot\u001b[0m \u001b[0mself\u001b[0m\u001b[0;34m.\u001b[0m\u001b[0mcopy\u001b[0m\u001b[0;34m:\u001b[0m\u001b[0;34m\u001b[0m\u001b[0;34m\u001b[0m\u001b[0m\n",
      "\u001b[0;32m~/opt/anaconda3/lib/python3.7/site-packages/pandas/core/internals/managers.py\u001b[0m in \u001b[0;36mconcatenate_block_managers\u001b[0;34m(mgrs_indexers, axes, concat_axis, copy)\u001b[0m\n\u001b[1;32m   2052\u001b[0m         \u001b[0;32melse\u001b[0m\u001b[0;34m:\u001b[0m\u001b[0;34m\u001b[0m\u001b[0;34m\u001b[0m\u001b[0m\n\u001b[1;32m   2053\u001b[0m             b = make_block(\n\u001b[0;32m-> 2054\u001b[0;31m                 \u001b[0mconcatenate_join_units\u001b[0m\u001b[0;34m(\u001b[0m\u001b[0mjoin_units\u001b[0m\u001b[0;34m,\u001b[0m \u001b[0mconcat_axis\u001b[0m\u001b[0;34m,\u001b[0m \u001b[0mcopy\u001b[0m\u001b[0;34m=\u001b[0m\u001b[0mcopy\u001b[0m\u001b[0;34m)\u001b[0m\u001b[0;34m,\u001b[0m\u001b[0;34m\u001b[0m\u001b[0;34m\u001b[0m\u001b[0m\n\u001b[0m\u001b[1;32m   2055\u001b[0m                 \u001b[0mplacement\u001b[0m\u001b[0;34m=\u001b[0m\u001b[0mplacement\u001b[0m\u001b[0;34m,\u001b[0m\u001b[0;34m\u001b[0m\u001b[0;34m\u001b[0m\u001b[0m\n\u001b[1;32m   2056\u001b[0m             )\n",
      "\u001b[0;31mKeyboardInterrupt\u001b[0m: "
     ]
    }
   ],
   "source": [
    "# количество элементов во всех списках одинаковое, поэтому можно сделать zip, а не map\n",
    "for filename, tagged_sentences_list_small, annotations_text in zip(names_list, tagged_sentences_list, list_full_file_json_dirty):\n",
    "            \n",
    "    # кореференция\n",
    "    # отсюда буду получать номера начала и конца кореференциального участника\n",
    "    annotations = annotations_text['annotation_sets']['']['annotations'].copy()\n",
    "    # здесь буду искать по номерам начала и конца кусочек текста - на всякий случай\n",
    "    text = annotations_text['text']\n",
    "    # список, который станет строчками датафрейма\n",
    "    list_of_rows = []\n",
    "    \n",
    "    for sentences in tagged_sentences_list_small:\n",
    "        \n",
    "        \n",
    "        word_position_counter = 0\n",
    "        \n",
    "        for sentence in sentences:\n",
    "            \n",
    "            row = []\n",
    "            \n",
    "            \n",
    "            #первый столбец имя файла\n",
    "            row.append(filename)\n",
    "            # строка нулей\n",
    "            row.append(0)\n",
    "            # номер слова\n",
    "            row.append(word_position_counter)\n",
    "            word_position_counter += 1\n",
    "            # единица предложения\n",
    "            row.append(sentence[0])\n",
    "            # pos-tag для единицы\n",
    "            row.append(sentence[1])\n",
    "            # строка для дерева\n",
    "            row.append('-')\n",
    "            # строка \n",
    "            row.append('-')\n",
    "            # строка \n",
    "            row.append('-')\n",
    "            # строка \n",
    "            row.append('-')\n",
    "            # строка \n",
    "            row.append('-')\n",
    "            # строка \n",
    "            row.append('__')\n",
    "            # строка \n",
    "            row.append('*')\n",
    "            \n",
    "            # реверс нужен для удаления\n",
    "            for features_list in reversed(annotations):\n",
    "                # проходим по списку фичерсов и смотрим: если совпадает sentence[0][0] со _string,\n",
    "                #то добавляем слову кореф\n",
    "                string_from_txt = features_list['features']['_string']\n",
    "                \n",
    "                if sentence[0] == string_from_txt:\n",
    "                    row.append('(' + str(features_list['features']['antecedent_id']) + ')')\n",
    "                    # удаляем использованный тег кореференции\n",
    "                    annotations.remove(features_list)\n",
    "                    break\n",
    "            else:\n",
    "                row.append('-')\n",
    "            \n",
    "            list_of_rows.append(row)\n",
    "            \n",
    "    conll_df = conll_df.append(pd.DataFrame(list_of_rows, columns=conll_df.columns))        \n",
    "            \n"
   ]
  },
  {
   "cell_type": "code",
   "execution_count": 233,
   "metadata": {},
   "outputs": [],
   "source": [
    "#conll_df = conll_df.iloc[0:0] # лучше дропа "
   ]
  },
  {
   "cell_type": "code",
   "execution_count": 273,
   "metadata": {},
   "outputs": [
    {
     "name": "stdout",
     "output_type": "stream",
     "text": [
      "<class 'pandas.core.frame.DataFrame'>\n",
      "Int64Index: 11932678 entries, 0 to 310\n",
      "Data columns (total 14 columns):\n",
      "doc_name           object\n",
      "zeros              float64\n",
      "word_num_sent      float64\n",
      "sent_entry         object\n",
      "pos                object\n",
      "star1              object\n",
      "empty1             object\n",
      "empty2             object\n",
      "empty3             object\n",
      "empty4             object\n",
      "empty5             object\n",
      "star2              object\n",
      "coref              object\n",
      "sentence_number    int64\n",
      "dtypes: float64(2), int64(1), object(11)\n",
      "memory usage: 1.3+ GB\n"
     ]
    }
   ],
   "source": [
    "conll_df.info()"
   ]
  },
  {
   "cell_type": "code",
   "execution_count": 247,
   "metadata": {},
   "outputs": [],
   "source": [
    "def getSizeOfNestedList(listOfElem):\n",
    "    ''' Get number of elements in a nested list'''\n",
    "    count = 0\n",
    "    # итерируем по списку\n",
    "    for elem in listOfElem:\n",
    "        # проверяем тип элемента\n",
    "        if type(elem) == list:  \n",
    "            # и ркекурсивно вызываем снова эту функцию для подсчета\n",
    "            count += getSizeOfNestedList(elem)\n",
    "        else:\n",
    "            count += 1    \n",
    "    return count"
   ]
  },
  {
   "cell_type": "code",
   "execution_count": 248,
   "metadata": {},
   "outputs": [
    {
     "data": {
      "text/plain": [
       "64851795"
      ]
     },
     "execution_count": 248,
     "metadata": {},
     "output_type": "execute_result"
    }
   ],
   "source": [
    "getSizeOfNestedList(tagged_sentences_list)"
   ]
  },
  {
   "cell_type": "markdown",
   "metadata": {},
   "source": [
    "# Результаты 180 часов работы программы.\n",
    "Было обработано и внесено в датафрейм 11 932 678 элементов из 64 851 795.\n",
    "\n",
    "Осталось обработать 52 919 117 элементов\n",
    "\n",
    "На настоящем этапе правильно будет остановиться на этом и выделить доступные компьютерные мощности на запуск следующих этапов пайплайна."
   ]
  },
  {
   "cell_type": "code",
   "execution_count": 249,
   "metadata": {},
   "outputs": [
    {
     "name": "stderr",
     "output_type": "stream",
     "text": [
      "100%|██████████| 386254/386254 [01:05<00:00, 5930.58it/s]\n"
     ]
    }
   ],
   "source": [
    "# нужна функция для добавления колонки номера предложения зфтвф\n",
    "sentence_number_list = []\n",
    "i = 0\n",
    "for document in tqdm(tagged_sentences_list):\n",
    "    for sentence in document:\n",
    "        for word in sentence:\n",
    "            sentence_number_list.append(i)\n",
    "        i += 1"
   ]
  },
  {
   "cell_type": "code",
   "execution_count": 251,
   "metadata": {},
   "outputs": [
    {
     "data": {
      "text/plain": [
       "64851795"
      ]
     },
     "execution_count": 251,
     "metadata": {},
     "output_type": "execute_result"
    }
   ],
   "source": [
    "len(sentence_number_list)"
   ]
  },
  {
   "cell_type": "code",
   "execution_count": 270,
   "metadata": {},
   "outputs": [
    {
     "data": {
      "text/plain": [
       "11932678"
      ]
     },
     "execution_count": 270,
     "metadata": {},
     "output_type": "execute_result"
    }
   ],
   "source": [
    "sentence_number_list_180h = sentence_number_list[:11932678]\n",
    "len(sentence_number_list_180h)"
   ]
  },
  {
   "cell_type": "code",
   "execution_count": 271,
   "metadata": {},
   "outputs": [
    {
     "data": {
      "text/plain": [
       "11932678"
      ]
     },
     "execution_count": 271,
     "metadata": {},
     "output_type": "execute_result"
    }
   ],
   "source": [
    "len(conll_df)"
   ]
  },
  {
   "cell_type": "code",
   "execution_count": 272,
   "metadata": {},
   "outputs": [],
   "source": [
    "conll_df['sentence_number'] = sentence_number_list_180h"
   ]
  },
  {
   "cell_type": "code",
   "execution_count": 277,
   "metadata": {},
   "outputs": [],
   "source": [
    "conll_df['zeros'] = conll_df['zeros'].astype(np.int64)"
   ]
  },
  {
   "cell_type": "code",
   "execution_count": 279,
   "metadata": {},
   "outputs": [],
   "source": [
    "conll_df['word_num_sent'] = conll_df['word_num_sent'].astype(np.int64)"
   ]
  },
  {
   "cell_type": "code",
   "execution_count": 280,
   "metadata": {},
   "outputs": [
    {
     "name": "stdout",
     "output_type": "stream",
     "text": [
      "<class 'pandas.core.frame.DataFrame'>\n",
      "Int64Index: 11932678 entries, 0 to 310\n",
      "Data columns (total 14 columns):\n",
      "doc_name           object\n",
      "zeros              int64\n",
      "word_num_sent      int64\n",
      "sent_entry         object\n",
      "pos                object\n",
      "star1              object\n",
      "empty1             object\n",
      "empty2             object\n",
      "empty3             object\n",
      "empty4             object\n",
      "empty5             object\n",
      "star2              object\n",
      "coref              object\n",
      "sentence_number    int64\n",
      "dtypes: int64(3), object(11)\n",
      "memory usage: 1.3+ GB\n"
     ]
    }
   ],
   "source": [
    "conll_df.info()"
   ]
  },
  {
   "cell_type": "code",
   "execution_count": 281,
   "metadata": {},
   "outputs": [
    {
     "data": {
      "text/html": [
       "<div>\n",
       "<style scoped>\n",
       "    .dataframe tbody tr th:only-of-type {\n",
       "        vertical-align: middle;\n",
       "    }\n",
       "\n",
       "    .dataframe tbody tr th {\n",
       "        vertical-align: top;\n",
       "    }\n",
       "\n",
       "    .dataframe thead th {\n",
       "        text-align: right;\n",
       "    }\n",
       "</style>\n",
       "<table border=\"1\" class=\"dataframe\">\n",
       "  <thead>\n",
       "    <tr style=\"text-align: right;\">\n",
       "      <th></th>\n",
       "      <th>doc_name</th>\n",
       "      <th>zeros</th>\n",
       "      <th>word_num_sent</th>\n",
       "      <th>sent_entry</th>\n",
       "      <th>pos</th>\n",
       "      <th>star1</th>\n",
       "      <th>empty1</th>\n",
       "      <th>empty2</th>\n",
       "      <th>empty3</th>\n",
       "      <th>empty4</th>\n",
       "      <th>empty5</th>\n",
       "      <th>star2</th>\n",
       "      <th>coref</th>\n",
       "      <th>sentence_number</th>\n",
       "    </tr>\n",
       "  </thead>\n",
       "  <tbody>\n",
       "    <tr>\n",
       "      <th>0</th>\n",
       "      <td>babyblog-ru-communities_diseases-1696018-0001.xml</td>\n",
       "      <td>0</td>\n",
       "      <td>0</td>\n",
       "      <td>Астигматизм</td>\n",
       "      <td>S</td>\n",
       "      <td>-</td>\n",
       "      <td>-</td>\n",
       "      <td>-</td>\n",
       "      <td>-</td>\n",
       "      <td>-</td>\n",
       "      <td>-</td>\n",
       "      <td>*</td>\n",
       "      <td>-</td>\n",
       "      <td>0</td>\n",
       "    </tr>\n",
       "    <tr>\n",
       "      <th>1</th>\n",
       "      <td>babyblog-ru-communities_diseases-1696018-0001.xml</td>\n",
       "      <td>0</td>\n",
       "      <td>1</td>\n",
       "      <td>это</td>\n",
       "      <td>A-PRO=n</td>\n",
       "      <td>-</td>\n",
       "      <td>-</td>\n",
       "      <td>-</td>\n",
       "      <td>-</td>\n",
       "      <td>-</td>\n",
       "      <td>-</td>\n",
       "      <td>*</td>\n",
       "      <td>-</td>\n",
       "      <td>0</td>\n",
       "    </tr>\n",
       "    <tr>\n",
       "      <th>2</th>\n",
       "      <td>babyblog-ru-communities_diseases-1696018-0001.xml</td>\n",
       "      <td>0</td>\n",
       "      <td>2</td>\n",
       "      <td>наследственное</td>\n",
       "      <td>A=n</td>\n",
       "      <td>-</td>\n",
       "      <td>-</td>\n",
       "      <td>-</td>\n",
       "      <td>-</td>\n",
       "      <td>-</td>\n",
       "      <td>-</td>\n",
       "      <td>*</td>\n",
       "      <td>-</td>\n",
       "      <td>0</td>\n",
       "    </tr>\n",
       "    <tr>\n",
       "      <th>3</th>\n",
       "      <td>babyblog-ru-communities_diseases-1696018-0001.xml</td>\n",
       "      <td>0</td>\n",
       "      <td>3</td>\n",
       "      <td>,</td>\n",
       "      <td>NONLEX</td>\n",
       "      <td>-</td>\n",
       "      <td>-</td>\n",
       "      <td>-</td>\n",
       "      <td>-</td>\n",
       "      <td>-</td>\n",
       "      <td>-</td>\n",
       "      <td>*</td>\n",
       "      <td>-</td>\n",
       "      <td>0</td>\n",
       "    </tr>\n",
       "    <tr>\n",
       "      <th>4</th>\n",
       "      <td>babyblog-ru-communities_diseases-1696018-0001.xml</td>\n",
       "      <td>0</td>\n",
       "      <td>4</td>\n",
       "      <td>лечиться</td>\n",
       "      <td>V</td>\n",
       "      <td>-</td>\n",
       "      <td>-</td>\n",
       "      <td>-</td>\n",
       "      <td>-</td>\n",
       "      <td>-</td>\n",
       "      <td>-</td>\n",
       "      <td>*</td>\n",
       "      <td>-</td>\n",
       "      <td>0</td>\n",
       "    </tr>\n",
       "  </tbody>\n",
       "</table>\n",
       "</div>"
      ],
      "text/plain": [
       "                                            doc_name  zeros  word_num_sent  \\\n",
       "0  babyblog-ru-communities_diseases-1696018-0001.xml      0              0   \n",
       "1  babyblog-ru-communities_diseases-1696018-0001.xml      0              1   \n",
       "2  babyblog-ru-communities_diseases-1696018-0001.xml      0              2   \n",
       "3  babyblog-ru-communities_diseases-1696018-0001.xml      0              3   \n",
       "4  babyblog-ru-communities_diseases-1696018-0001.xml      0              4   \n",
       "\n",
       "       sent_entry      pos star1 empty1 empty2 empty3 empty4 empty5 star2  \\\n",
       "0     Астигматизм        S     -      -      -      -      -      -     *   \n",
       "1             это  A-PRO=n     -      -      -      -      -      -     *   \n",
       "2  наследственное      A=n     -      -      -      -      -      -     *   \n",
       "3               ,   NONLEX     -      -      -      -      -      -     *   \n",
       "4        лечиться        V     -      -      -      -      -      -     *   \n",
       "\n",
       "  coref  sentence_number  \n",
       "0     -                0  \n",
       "1     -                0  \n",
       "2     -                0  \n",
       "3     -                0  \n",
       "4     -                0  "
      ]
     },
     "execution_count": 281,
     "metadata": {},
     "output_type": "execute_result"
    }
   ],
   "source": [
    "conll_df.head()"
   ]
  },
  {
   "cell_type": "code",
   "execution_count": null,
   "metadata": {},
   "outputs": [],
   "source": [
    "# заменить двойные кавычки и отредактировать тире на два нижних подчеркивания(__) и нонлекс на знак"
   ]
  },
  {
   "cell_type": "markdown",
   "metadata": {},
   "source": [
    "### Заменить тире на два нижних подчеркивания (__)"
   ]
  },
  {
   "cell_type": "code",
   "execution_count": 290,
   "metadata": {},
   "outputs": [
    {
     "data": {
      "text/html": [
       "<div>\n",
       "<style scoped>\n",
       "    .dataframe tbody tr th:only-of-type {\n",
       "        vertical-align: middle;\n",
       "    }\n",
       "\n",
       "    .dataframe tbody tr th {\n",
       "        vertical-align: top;\n",
       "    }\n",
       "\n",
       "    .dataframe thead th {\n",
       "        text-align: right;\n",
       "    }\n",
       "</style>\n",
       "<table border=\"1\" class=\"dataframe\">\n",
       "  <thead>\n",
       "    <tr style=\"text-align: right;\">\n",
       "      <th></th>\n",
       "      <th>doc_name</th>\n",
       "      <th>zeros</th>\n",
       "      <th>word_num_sent</th>\n",
       "      <th>sent_entry</th>\n",
       "      <th>pos</th>\n",
       "      <th>star1</th>\n",
       "      <th>empty1</th>\n",
       "      <th>empty2</th>\n",
       "      <th>empty3</th>\n",
       "      <th>empty4</th>\n",
       "      <th>empty5</th>\n",
       "      <th>star2</th>\n",
       "      <th>coref</th>\n",
       "      <th>sentence_number</th>\n",
       "    </tr>\n",
       "  </thead>\n",
       "  <tbody>\n",
       "    <tr>\n",
       "      <th>0</th>\n",
       "      <td>babyblog-ru-communities_diseases-1696018-0001.xml</td>\n",
       "      <td>0</td>\n",
       "      <td>0</td>\n",
       "      <td>Астигматизм</td>\n",
       "      <td>S</td>\n",
       "      <td>-</td>\n",
       "      <td>-</td>\n",
       "      <td>-</td>\n",
       "      <td>-</td>\n",
       "      <td>-</td>\n",
       "      <td>__</td>\n",
       "      <td>*</td>\n",
       "      <td>-</td>\n",
       "      <td>0</td>\n",
       "    </tr>\n",
       "    <tr>\n",
       "      <th>1</th>\n",
       "      <td>babyblog-ru-communities_diseases-1696018-0001.xml</td>\n",
       "      <td>0</td>\n",
       "      <td>1</td>\n",
       "      <td>это</td>\n",
       "      <td>A-PRO=n</td>\n",
       "      <td>-</td>\n",
       "      <td>-</td>\n",
       "      <td>-</td>\n",
       "      <td>-</td>\n",
       "      <td>-</td>\n",
       "      <td>__</td>\n",
       "      <td>*</td>\n",
       "      <td>-</td>\n",
       "      <td>0</td>\n",
       "    </tr>\n",
       "    <tr>\n",
       "      <th>2</th>\n",
       "      <td>babyblog-ru-communities_diseases-1696018-0001.xml</td>\n",
       "      <td>0</td>\n",
       "      <td>2</td>\n",
       "      <td>наследственное</td>\n",
       "      <td>A=n</td>\n",
       "      <td>-</td>\n",
       "      <td>-</td>\n",
       "      <td>-</td>\n",
       "      <td>-</td>\n",
       "      <td>-</td>\n",
       "      <td>__</td>\n",
       "      <td>*</td>\n",
       "      <td>-</td>\n",
       "      <td>0</td>\n",
       "    </tr>\n",
       "    <tr>\n",
       "      <th>3</th>\n",
       "      <td>babyblog-ru-communities_diseases-1696018-0001.xml</td>\n",
       "      <td>0</td>\n",
       "      <td>3</td>\n",
       "      <td>,</td>\n",
       "      <td>NONLEX</td>\n",
       "      <td>-</td>\n",
       "      <td>-</td>\n",
       "      <td>-</td>\n",
       "      <td>-</td>\n",
       "      <td>-</td>\n",
       "      <td>__</td>\n",
       "      <td>*</td>\n",
       "      <td>-</td>\n",
       "      <td>0</td>\n",
       "    </tr>\n",
       "    <tr>\n",
       "      <th>4</th>\n",
       "      <td>babyblog-ru-communities_diseases-1696018-0001.xml</td>\n",
       "      <td>0</td>\n",
       "      <td>4</td>\n",
       "      <td>лечиться</td>\n",
       "      <td>V</td>\n",
       "      <td>-</td>\n",
       "      <td>-</td>\n",
       "      <td>-</td>\n",
       "      <td>-</td>\n",
       "      <td>-</td>\n",
       "      <td>__</td>\n",
       "      <td>*</td>\n",
       "      <td>-</td>\n",
       "      <td>0</td>\n",
       "    </tr>\n",
       "  </tbody>\n",
       "</table>\n",
       "</div>"
      ],
      "text/plain": [
       "                                            doc_name  zeros  word_num_sent  \\\n",
       "0  babyblog-ru-communities_diseases-1696018-0001.xml      0              0   \n",
       "1  babyblog-ru-communities_diseases-1696018-0001.xml      0              1   \n",
       "2  babyblog-ru-communities_diseases-1696018-0001.xml      0              2   \n",
       "3  babyblog-ru-communities_diseases-1696018-0001.xml      0              3   \n",
       "4  babyblog-ru-communities_diseases-1696018-0001.xml      0              4   \n",
       "\n",
       "       sent_entry      pos star1 empty1 empty2 empty3 empty4 empty5 star2  \\\n",
       "0     Астигматизм        S     -      -      -      -      -     __     *   \n",
       "1             это  A-PRO=n     -      -      -      -      -     __     *   \n",
       "2  наследственное      A=n     -      -      -      -      -     __     *   \n",
       "3               ,   NONLEX     -      -      -      -      -     __     *   \n",
       "4        лечиться        V     -      -      -      -      -     __     *   \n",
       "\n",
       "  coref  sentence_number  \n",
       "0     -                0  \n",
       "1     -                0  \n",
       "2     -                0  \n",
       "3     -                0  \n",
       "4     -                0  "
      ]
     },
     "execution_count": 290,
     "metadata": {},
     "output_type": "execute_result"
    }
   ],
   "source": [
    "def remean_points(cell):\n",
    "    cell = \"__\"\n",
    "    return cell\n",
    "\n",
    "conll_df.empty5 = conll_df.empty5.apply(remean_points)\n",
    "conll_df.head()"
   ]
  },
  {
   "cell_type": "markdown",
   "metadata": {},
   "source": [
    "Замена успешна"
   ]
  },
  {
   "cell_type": "markdown",
   "metadata": {},
   "source": [
    "### Заменить двойные кавычки"
   ]
  },
  {
   "cell_type": "code",
   "execution_count": 300,
   "metadata": {},
   "outputs": [
    {
     "data": {
      "text/plain": [
       "0         Астигматизм\n",
       "1                 это\n",
       "2      наследственное\n",
       "3                   ,\n",
       "4            лечиться\n",
       "            ...      \n",
       "306               еще\n",
       "307               для\n",
       "308        постановки\n",
       "309          диагноза\n",
       "310                 .\n",
       "Name: sent_entry, Length: 11932678, dtype: object"
      ]
     },
     "execution_count": 300,
     "metadata": {},
     "output_type": "execute_result"
    }
   ],
   "source": [
    "changed_cells = []\n",
    "def remean_points(cell):\n",
    "    if str(cell) == '\"':\n",
    "        cell = \"'\"\n",
    "        changed_cells.append(1)\n",
    "    else:\n",
    "        changed_cells.append(0)\n",
    "    return cell\n",
    "\n",
    "conll_df.sent_entry.apply(remean_points)"
   ]
  },
  {
   "cell_type": "code",
   "execution_count": 301,
   "metadata": {},
   "outputs": [
    {
     "data": {
      "text/plain": [
       "[]"
      ]
     },
     "execution_count": 301,
     "metadata": {},
     "output_type": "execute_result"
    }
   ],
   "source": [
    "len(changed_cells)\n",
    "[i for i, e in enumerate(changed_cells) if e == 1]"
   ]
  },
  {
   "cell_type": "markdown",
   "metadata": {},
   "source": [
    "Двойных кавычек нет, можно будет спокойно удалять."
   ]
  },
  {
   "cell_type": "code",
   "execution_count": 302,
   "metadata": {},
   "outputs": [],
   "source": [
    "# правкой тегов имеет смысл заняться после получения результатов на имеющемся тегсете."
   ]
  },
  {
   "cell_type": "markdown",
   "metadata": {},
   "source": [
    "## Подготовка документа"
   ]
  },
  {
   "cell_type": "code",
   "execution_count": 303,
   "metadata": {},
   "outputs": [],
   "source": [
    "conll_df['join'] = conll_df['doc_name'] + '          ' + conll_df['zeros'].astype(str) + '          ' + conll_df['word_num_sent'].astype(str) + '          ' + conll_df['sent_entry'] + '          ' + conll_df['pos'] + '          ' + conll_df['star1'] + '          ' + conll_df['empty1'] + '          ' + conll_df['empty2'] + '          ' + conll_df['empty3'] + '          ' + conll_df['empty4'] + ' ' + conll_df['empty5'] + '          ' + conll_df['star2'] + '          ' + conll_df['coref']\n",
    "\n",
    "\n"
   ]
  },
  {
   "cell_type": "code",
   "execution_count": 304,
   "metadata": {},
   "outputs": [
    {
     "name": "stderr",
     "output_type": "stream",
     "text": [
      "Exception ignored in: <function tqdm.__del__ at 0x7fba6d99a4d0>\n",
      "Traceback (most recent call last):\n",
      "  File \"/Users/egor/opt/anaconda3/lib/python3.7/site-packages/tqdm/std.py\", line 1145, in __del__\n",
      "    self.close()\n",
      "  File \"/Users/egor/opt/anaconda3/lib/python3.7/site-packages/tqdm/std.py\", line 1274, in close\n",
      "    if self.last_print_t < self.start_t + self.delay:\n",
      "AttributeError: 'tqdm' object has no attribute 'last_print_t'\n",
      "Exception ignored in: <function tqdm.__del__ at 0x7fba6d99a4d0>\n",
      "Traceback (most recent call last):\n",
      "  File \"/Users/egor/opt/anaconda3/lib/python3.7/site-packages/tqdm/std.py\", line 1145, in __del__\n",
      "    self.close()\n",
      "  File \"/Users/egor/opt/anaconda3/lib/python3.7/site-packages/tqdm/std.py\", line 1274, in close\n",
      "    if self.last_print_t < self.start_t + self.delay:\n",
      "AttributeError: 'tqdm' object has no attribute 'last_print_t'\n",
      "Exception ignored in: <function tqdm.__del__ at 0x7fba6d99a4d0>\n",
      "Traceback (most recent call last):\n",
      "  File \"/Users/egor/opt/anaconda3/lib/python3.7/site-packages/tqdm/std.py\", line 1145, in __del__\n",
      "    self.close()\n",
      "  File \"/Users/egor/opt/anaconda3/lib/python3.7/site-packages/tqdm/std.py\", line 1274, in close\n",
      "    if self.last_print_t < self.start_t + self.delay:\n",
      "AttributeError: 'tqdm' object has no attribute 'last_print_t'\n",
      "  0%|          | 0/748278 [00:00<?, ?it/s]/Users/egor/opt/anaconda3/lib/python3.7/site-packages/ipykernel_launcher.py:3: FutureWarning: The signature of `Series.to_csv` was aligned to that of `DataFrame.to_csv`, and argument 'header' will change its default value from False to True: please pass an explicit value to suppress this warning.\n",
      "  This is separate from the ipykernel package so we can avoid doing imports until\n",
      "100%|██████████| 748278/748278 [29:25<00:00, 423.76it/s] \n"
     ]
    }
   ],
   "source": [
    "for i, g in tqdm(conll_df.groupby('sentence_number')['join']):\n",
    "    out = g.append(pd.Series({'new':np.nan}))\n",
    "    out.to_csv('diploma_data_12m.txt', index=False, header=None, mode='a')\n"
   ]
  },
  {
   "cell_type": "code",
   "execution_count": null,
   "metadata": {},
   "outputs": [],
   "source": [
    "# удаление двойных кавычек + деление на файлы"
   ]
  },
  {
   "cell_type": "markdown",
   "metadata": {},
   "source": [
    "### Деление на подгруппы для заданий берта"
   ]
  },
  {
   "cell_type": "code",
   "execution_count": 5,
   "metadata": {},
   "outputs": [],
   "source": [
    "from sklearn.model_selection import train_test_split"
   ]
  },
  {
   "cell_type": "code",
   "execution_count": 6,
   "metadata": {},
   "outputs": [],
   "source": [
    "RANDOM_SEED = 1\n",
    "np.random.seed(RANDOM_SEED)"
   ]
  },
  {
   "cell_type": "code",
   "execution_count": 11,
   "metadata": {},
   "outputs": [
    {
     "name": "stdout",
     "output_type": "stream",
     "text": [
      "/Users/egor/Desktop/SemanticHub/diploma\r\n"
     ]
    }
   ],
   "source": [
    "!pwd"
   ]
  },
  {
   "cell_type": "markdown",
   "metadata": {},
   "source": [
    "К сожалению тетрадка упала, поэтому придется загрузить документ сначала."
   ]
  },
  {
   "cell_type": "code",
   "execution_count": 13,
   "metadata": {},
   "outputs": [
    {
     "data": {
      "text/plain": [
       "['babyblog-ru-communities_diseases-1696018-0001.xml          0          0          Астигматизм          S          -          -          -          -          - __          *          -\\n',\n",
       " 'babyblog-ru-communities_diseases-1696018-0001.xml          0          1          это          A-PRO=n          -          -          -          -          - __          *          -\\n',\n",
       " 'babyblog-ru-communities_diseases-1696018-0001.xml          0          2          наследственное          A=n          -          -          -          -          - __          *          -\\n',\n",
       " '\"babyblog-ru-communities_diseases-1696018-0001.xml          0          3          ,          NONLEX          -          -          -          -          - __          *          -\"\\n',\n",
       " 'babyblog-ru-communities_diseases-1696018-0001.xml          0          4          лечиться          V          -          -          -          -          - __          *          -\\n']"
      ]
     },
     "execution_count": 13,
     "metadata": {},
     "output_type": "execute_result"
    }
   ],
   "source": [
    "path = 'diploma_data_12m.txt'\n",
    "with open(path) as f:\n",
    "    contents = f.readlines()\n",
    "contents[:5]"
   ]
  },
  {
   "cell_type": "code",
   "execution_count": 14,
   "metadata": {},
   "outputs": [
    {
     "data": {
      "text/plain": [
       "12680956"
      ]
     },
     "execution_count": 14,
     "metadata": {},
     "output_type": "execute_result"
    }
   ],
   "source": [
    "len(contents)"
   ]
  },
  {
   "cell_type": "code",
   "execution_count": 23,
   "metadata": {},
   "outputs": [],
   "source": [
    "# pattern = re.compile('\\\"')\n",
    "for row in contents[:10]:\n",
    "    row = re.sub('\\\"','', row)"
   ]
  },
  {
   "cell_type": "code",
   "execution_count": 27,
   "metadata": {},
   "outputs": [
    {
     "data": {
      "text/plain": [
       "'\"babyblog-ru-communities_diseases-1696018-0001.xml          0          3          ,          NONLEX          -          -          -          -          - __          *          -\"\\n'"
      ]
     },
     "execution_count": 27,
     "metadata": {},
     "output_type": "execute_result"
    }
   ],
   "source": [
    "contents[3]"
   ]
  },
  {
   "cell_type": "code",
   "execution_count": null,
   "metadata": {},
   "outputs": [],
   "source": [
    "col_names=['doc_name', 'zeros', 'word_num_sent', 'sent_entry', 'pos', 'star1', 'empty1', 'empty2', 'empty3', 'empty4', 'empty5', 'star2', 'coref']\n",
    "conll_df = pd.read_csv('diploma_data_12m.txt',  sep='          ', engine='python', names=col_names)\n",
    "\n",
    "\n"
   ]
  },
  {
   "cell_type": "code",
   "execution_count": null,
   "metadata": {},
   "outputs": [],
   "source": [
    "conll_df['join'] = conll_df['doc_name'] + '          ' + conll_df['zeros'].astype(str) + '          ' + conll_df['word_num_sent'].astype(str) + '          ' + conll_df['sent_entry'] + '          ' + conll_df['pos'] + '          ' + conll_df['star1'] + '          ' + conll_df['empty1'] + '          ' + conll_df['empty2'] + '          ' + conll_df['empty3'] + '          ' + conll_df['empty4'] + ' ' + conll_df['empty5'] + '          ' + conll_df['star2'] + '          ' + conll_df['coref']\n",
    "\n",
    "\n"
   ]
  },
  {
   "cell_type": "code",
   "execution_count": null,
   "metadata": {},
   "outputs": [],
   "source": [
    "# пока поделим выборку просто по численным размерам \n",
    "df_train, df_test = train_test_split(conll_df, test_size=0.1, random_state=RANDOM_SEED, shuffle=False)\n",
    "df_val, df_test = train_test_split(df_test, test_size=0.5, random_state=RANDOM_SEED, shuffle=False)"
   ]
  },
  {
   "cell_type": "code",
   "execution_count": null,
   "metadata": {},
   "outputs": [],
   "source": [
    "df_train.shape, df_val.shape, df_test.shape"
   ]
  },
  {
   "cell_type": "markdown",
   "metadata": {},
   "source": [
    "TODO:\n",
    "+ достать пол/дату из текста сообщений\n",
    "+ узнать какая есть еще инфа про сообщения\n",
    "+ убрать вхождения не важные для медицинского анализа\n",
    "+ улучшить постеггирование, для знаков перпинания добавить собсвтенные символы, привести к универсальному формату\n",
    "+ улучишть способ поиска расположения кореференции\n",
    "+ Объединить в единое аббревиатуры\n",
    "+ правильно очистить документы и расставить кореференцию только на нужные медицинские использования\n",
    "+ улучшить качество выборки, чтобы не выделялось ничего в названиях и префиксах документов, отсеить такие вхождения(исполнено в конлл форматировании)\n",
    "+ улучшить теггирование с помощью спейси https://pypi.org/project/spacy-conll/"
   ]
  },
  {
   "cell_type": "code",
   "execution_count": null,
   "metadata": {},
   "outputs": [],
   "source": []
  }
 ],
 "metadata": {
  "kernelspec": {
   "display_name": "Python 3",
   "language": "python",
   "name": "python3"
  },
  "language_info": {
   "codemirror_mode": {
    "name": "ipython",
    "version": 3
   },
   "file_extension": ".py",
   "mimetype": "text/x-python",
   "name": "python",
   "nbconvert_exporter": "python",
   "pygments_lexer": "ipython3",
   "version": "3.7.4"
  }
 },
 "nbformat": 4,
 "nbformat_minor": 2
}
