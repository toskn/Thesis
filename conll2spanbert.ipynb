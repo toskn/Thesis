{
  "nbformat": 4,
  "nbformat_minor": 0,
  "metadata": {
    "colab": {
      "name": "conll2spanbert.ipynb",
      "provenance": [],
      "collapsed_sections": [],
      "include_colab_link": true
    },
    "kernelspec": {
      "name": "python3",
      "display_name": "Python 3"
    },
    "accelerator": "GPU"
  },
  "cells": [
    {
      "cell_type": "markdown",
      "metadata": {
        "id": "view-in-github",
        "colab_type": "text"
      },
      "source": [
        "<a href=\"https://colab.research.google.com/github/toskn/thesis/blob/main/conll2spanbert.ipynb\" target=\"_parent\"><img src=\"https://colab.research.google.com/assets/colab-badge.svg\" alt=\"Open In Colab\"/></a>"
      ]
    },
    {
      "cell_type": "code",
      "metadata": {
        "colab": {
          "base_uri": "https://localhost:8080/"
        },
        "id": "LRVdtRcq1tmw",
        "outputId": "08c80893-0548-40f7-871d-8ed2b6ed7660"
      },
      "source": [
        "pip install jsonlines"
      ],
      "execution_count": 1,
      "outputs": [
        {
          "output_type": "stream",
          "text": [
            "Requirement already satisfied: jsonlines in /usr/local/lib/python3.7/dist-packages (2.0.0)\n"
          ],
          "name": "stdout"
        }
      ]
    },
    {
      "cell_type": "code",
      "metadata": {
        "colab": {
          "base_uri": "https://localhost:8080/"
        },
        "id": "ks4POMibEHrJ",
        "outputId": "8e2e9147-2626-40a2-84b9-2cbfaf2fa97c"
      },
      "source": [
        "# маунтим гугл диск со всеми данными\n",
        "from google.colab import drive\n",
        "drive.mount('/content/drive')\n"
      ],
      "execution_count": 2,
      "outputs": [
        {
          "output_type": "stream",
          "text": [
            "Drive already mounted at /content/drive; to attempt to forcibly remount, call drive.mount(\"/content/drive\", force_remount=True).\n"
          ],
          "name": "stdout"
        }
      ]
    },
    {
      "cell_type": "code",
      "metadata": {
        "id": "PhfJjis01X8z"
      },
      "source": [
        "import jsonlines"
      ],
      "execution_count": 3,
      "outputs": []
    },
    {
      "cell_type": "code",
      "metadata": {
        "colab": {
          "base_uri": "https://localhost:8080/"
        },
        "id": "rNveveyKd5jK",
        "outputId": "d93c9370-d13d-445e-dff2-4ee97dfb3dae"
      },
      "source": [
        "# залезаем в нашу папку\n",
        "%cd /content/drive/MyDrive/RuCor2SpanBert"
      ],
      "execution_count": 4,
      "outputs": [
        {
          "output_type": "stream",
          "text": [
            "/content/drive/MyDrive/RuCor2SpanBert\n"
          ],
          "name": "stdout"
        }
      ]
    },
    {
      "cell_type": "code",
      "metadata": {
        "id": "TijZOgPOMpp1"
      },
      "source": [
        "# поправленные реквайрментсы подключаем\n",
        "!pip install -r requirements.txt"
      ],
      "execution_count": null,
      "outputs": []
    },
    {
      "cell_type": "code",
      "metadata": {
        "id": "mw4IM35JuAvc"
      },
      "source": [
        "!mkdir data"
      ],
      "execution_count": null,
      "outputs": []
    },
    {
      "cell_type": "code",
      "metadata": {
        "id": "crYcFTRHg3y3"
      },
      "source": [
        "!mkdir Data"
      ],
      "execution_count": null,
      "outputs": []
    },
    {
      "cell_type": "markdown",
      "metadata": {
        "id": "G3tT9V-qRPvA"
      },
      "source": [
        "Для запуска необходимо задать **data_dir**"
      ]
    },
    {
      "cell_type": "code",
      "metadata": {
        "id": "CIM_gHdfaauH"
      },
      "source": [
        "import os\n",
        "os.environ['data_dir'] = \"./data\"\n",
        "os.environ['ontonotes_path'] = \"-\"\n",
        "#os.environ['CHOSEN_MODEL'] = 'spanbert_large'"
      ],
      "execution_count": 6,
      "outputs": []
    },
    {
      "cell_type": "markdown",
      "metadata": {
        "id": "EtDIBDZJpbVi"
      },
      "source": [
        "Some `g++` versions may not play nicely with this repo. If you get this:\n",
        "`tensorflow.python.framework.errors_impl.NotFoundError: ./coref_kernels.so: undefined symbol: _ZN10tensorflow12OpDefBuilder4AttrESs`, try removing the flag `-D_GLIBCXX_USE_CXX11_ABI=0` from `setup_all.sh`. Thanks to Naman Jain for the [solution](https://github.com/mandarjoshi90/coref/issues/29).\n"
      ]
    },
    {
      "cell_type": "code",
      "metadata": {
        "id": "_WGurAq_ljuT"
      },
      "source": [
        "# дадим права файлу ниже, чтобы он запускался \n",
        "!chmod 755 -R /content/drive/MyDrive/RuCor2SpanBert/setup_all.sh"
      ],
      "execution_count": 7,
      "outputs": []
    },
    {
      "cell_type": "markdown",
      "metadata": {
        "id": "Ogtrjl5ol07B"
      },
      "source": [
        "Thanks to stackoverflow for the [solution](https://stackoverflow.com/questions/64173936/why-am-i-getting-permission-denied-error-in-google-colab).\n"
      ]
    },
    {
      "cell_type": "code",
      "metadata": {
        "id": "tjqo2uitftwR"
      },
      "source": [
        "! ./setup_all.sh"
      ],
      "execution_count": null,
      "outputs": []
    },
    {
      "cell_type": "markdown",
      "metadata": {
        "id": "SChDh-_vVeii"
      },
      "source": [
        "# Подготовка CoNLL файлов в jsonlines "
      ]
    },
    {
      "cell_type": "code",
      "metadata": {
        "colab": {
          "base_uri": "https://localhost:8080/"
        },
        "id": "3GvfPNCNqSrS",
        "outputId": "7a4ffd8a-42cb-494a-c842-333b220f065a"
      },
      "source": [
        "!pwd"
      ],
      "execution_count": 9,
      "outputs": [
        {
          "output_type": "stream",
          "text": [
            "/content/drive/My Drive/RuCor2SpanBert\n"
          ],
          "name": "stdout"
        }
      ]
    },
    {
      "cell_type": "code",
      "metadata": {
        "id": "3rpHjQ7mg_Xo"
      },
      "source": [
        "# положите <train, test, dev>.english.v4_gold_conll в Data. пока такое название хоть там и русский язык внутри."
      ],
      "execution_count": 10,
      "outputs": []
    },
    {
      "cell_type": "code",
      "metadata": {
        "id": "w_xx0IPiEQ_x",
        "colab": {
          "base_uri": "https://localhost:8080/"
        },
        "outputId": "0af70695-d359-40b4-e5ba-b2f797de7283"
      },
      "source": [
        "import re\n",
        "import os\n",
        "import sys\n",
        "import json\n",
        "import tempfile\n",
        "import subprocess\n",
        "import collections\n",
        "\n",
        "import util as util\n",
        "import conll as conll\n",
        "from bert import tokenization\n",
        "\n",
        "from minimize import minimize_language\n",
        "\n",
        "\n",
        "vocab_file = './cased_config_vocab/vocab.txt'\n",
        "input_dir = './Data'\n",
        "output_dir = './Output'\n",
        "do_lower_case = False # True if 'chinese' in vocab_file else False\n",
        "\n",
        "print('Lower case = ' + str(do_lower_case)) \n",
        "      \n",
        "labels = collections.defaultdict(set)\n",
        "stats = collections.defaultdict(int)\n",
        "\n",
        "if not os.path.isdir(output_dir):\n",
        "  os.mkdir(output_dir)\n",
        "\n",
        "for seg_len in [256, 384]: # 128, 256, 384 …\n",
        "  minimize_language(\"english\", labels, stats, vocab_file, seg_len, input_dir, output_dir, do_lower_case)\n",
        "  # minimize_language(\"chinese\", labels, stats, vocab_file, seg_len)\n",
        "  # minimize_language(\"es\", labels, stats, vocab_file, seg_len)\n",
        "  # minimize_language(\"arabic\", labels, stats, vocab_file, seg_len)\n",
        "\n",
        "for k, v in labels.items():\n",
        "  print(\"{} = [{}]\".format(k, \", \".join(\"\\\"{}\\\"\".format(label) for label in v)))\n",
        "for k, v in stats.items():\n",
        "  print(\"{} = {}\".format(k, v))"
      ],
      "execution_count": 11,
      "outputs": [
        {
          "output_type": "stream",
          "text": [
            "/usr/local/lib/python3.7/dist-packages/tensorflow/python/framework/dtypes.py:516: FutureWarning: Passing (type, 1) or '1type' as a synonym of type is deprecated; in a future version of numpy, it will be understood as (type, (1,)) / '(1,)type'.\n",
            "  _np_qint8 = np.dtype([(\"qint8\", np.int8, 1)])\n",
            "/usr/local/lib/python3.7/dist-packages/tensorflow/python/framework/dtypes.py:517: FutureWarning: Passing (type, 1) or '1type' as a synonym of type is deprecated; in a future version of numpy, it will be understood as (type, (1,)) / '(1,)type'.\n",
            "  _np_quint8 = np.dtype([(\"quint8\", np.uint8, 1)])\n",
            "/usr/local/lib/python3.7/dist-packages/tensorflow/python/framework/dtypes.py:518: FutureWarning: Passing (type, 1) or '1type' as a synonym of type is deprecated; in a future version of numpy, it will be understood as (type, (1,)) / '(1,)type'.\n",
            "  _np_qint16 = np.dtype([(\"qint16\", np.int16, 1)])\n",
            "/usr/local/lib/python3.7/dist-packages/tensorflow/python/framework/dtypes.py:519: FutureWarning: Passing (type, 1) or '1type' as a synonym of type is deprecated; in a future version of numpy, it will be understood as (type, (1,)) / '(1,)type'.\n",
            "  _np_quint16 = np.dtype([(\"quint16\", np.uint16, 1)])\n",
            "/usr/local/lib/python3.7/dist-packages/tensorflow/python/framework/dtypes.py:520: FutureWarning: Passing (type, 1) or '1type' as a synonym of type is deprecated; in a future version of numpy, it will be understood as (type, (1,)) / '(1,)type'.\n",
            "  _np_qint32 = np.dtype([(\"qint32\", np.int32, 1)])\n",
            "/usr/local/lib/python3.7/dist-packages/tensorflow/python/framework/dtypes.py:525: FutureWarning: Passing (type, 1) or '1type' as a synonym of type is deprecated; in a future version of numpy, it will be understood as (type, (1,)) / '(1,)type'.\n",
            "  np_resource = np.dtype([(\"resource\", np.ubyte, 1)])\n",
            "/usr/local/lib/python3.7/dist-packages/h5py/__init__.py:36: FutureWarning: Conversion of the second argument of issubdtype from `float` to `np.floating` is deprecated. In future, it will be treated as `np.float64 == np.dtype(float).type`.\n",
            "  from ._conv import register_converters as _register_converters\n",
            "/usr/local/lib/python3.7/dist-packages/tensorboard/compat/tensorflow_stub/dtypes.py:541: FutureWarning: Passing (type, 1) or '1type' as a synonym of type is deprecated; in a future version of numpy, it will be understood as (type, (1,)) / '(1,)type'.\n",
            "  _np_qint8 = np.dtype([(\"qint8\", np.int8, 1)])\n",
            "/usr/local/lib/python3.7/dist-packages/tensorboard/compat/tensorflow_stub/dtypes.py:542: FutureWarning: Passing (type, 1) or '1type' as a synonym of type is deprecated; in a future version of numpy, it will be understood as (type, (1,)) / '(1,)type'.\n",
            "  _np_quint8 = np.dtype([(\"quint8\", np.uint8, 1)])\n",
            "/usr/local/lib/python3.7/dist-packages/tensorboard/compat/tensorflow_stub/dtypes.py:543: FutureWarning: Passing (type, 1) or '1type' as a synonym of type is deprecated; in a future version of numpy, it will be understood as (type, (1,)) / '(1,)type'.\n",
            "  _np_qint16 = np.dtype([(\"qint16\", np.int16, 1)])\n",
            "/usr/local/lib/python3.7/dist-packages/tensorboard/compat/tensorflow_stub/dtypes.py:544: FutureWarning: Passing (type, 1) or '1type' as a synonym of type is deprecated; in a future version of numpy, it will be understood as (type, (1,)) / '(1,)type'.\n",
            "  _np_quint16 = np.dtype([(\"quint16\", np.uint16, 1)])\n",
            "/usr/local/lib/python3.7/dist-packages/tensorboard/compat/tensorflow_stub/dtypes.py:545: FutureWarning: Passing (type, 1) or '1type' as a synonym of type is deprecated; in a future version of numpy, it will be understood as (type, (1,)) / '(1,)type'.\n",
            "  _np_qint32 = np.dtype([(\"qint32\", np.int32, 1)])\n",
            "/usr/local/lib/python3.7/dist-packages/tensorboard/compat/tensorflow_stub/dtypes.py:550: FutureWarning: Passing (type, 1) or '1type' as a synonym of type is deprecated; in a future version of numpy, it will be understood as (type, (1,)) / '(1,)type'.\n",
            "  np_resource = np.dtype([(\"resource\", np.ubyte, 1)])\n",
            "WARNING: Logging before flag parsing goes to stderr.\n",
            "W0530 17:28:59.046407 139988915881856 deprecation_wrapper.py:119] From /content/drive/My Drive/RuCor2SpanBert/coref_ops.py:11: The name tf.NotDifferentiable is deprecated. Please use tf.no_gradient instead.\n",
            "\n",
            "/usr/local/lib/python3.7/dist-packages/sklearn/utils/linear_assignment_.py:22: FutureWarning: The linear_assignment_ module is deprecated in 0.21 and will be removed from 0.23. Use scipy.optimize.linear_sum_assignment instead.\n",
            "  FutureWarning)\n",
            "W0530 17:29:03.339018 139988915881856 deprecation_wrapper.py:119] From /content/drive/My Drive/RuCor2SpanBert/bert/optimization.py:87: The name tf.train.Optimizer is deprecated. Please use tf.compat.v1.train.Optimizer instead.\n",
            "\n",
            "W0530 17:29:09.921780 139988915881856 lazy_loader.py:50] \n",
            "The TensorFlow contrib module will not be included in TensorFlow 2.0.\n",
            "For more information, please see:\n",
            "  * https://github.com/tensorflow/community/blob/master/rfcs/20180907-contrib-sunset.md\n",
            "  * https://github.com/tensorflow/addons\n",
            "  * https://github.com/tensorflow/io (for I/O related ops)\n",
            "If you depend on functionality not listed there, please file an issue.\n",
            "\n",
            "W0530 17:29:10.633741 139988915881856 deprecation_wrapper.py:119] From /content/drive/My Drive/RuCor2SpanBert/bert/tokenization.py:125: The name tf.gfile.GFile is deprecated. Please use tf.io.gfile.GFile instead.\n",
            "\n"
          ],
          "name": "stderr"
        },
        {
          "output_type": "stream",
          "text": [
            "Lower case = False\n",
            "Minimizing ./Data/dev.english.v4_gold_conll\n",
            "Wrote 1843 documents to ./Output/dev.english.256.jsonlines\n",
            "Minimizing ./Data/train.english.v4_gold_conll\n",
            "Wrote 67769 documents to ./Output/train.english.256.jsonlines\n",
            "Minimizing ./Data/test.english.v4_gold_conll\n",
            "Wrote 1749 documents to ./Output/test.english.256.jsonlines\n",
            "Minimizing ./Data/dev.english.v4_gold_conll\n",
            "Wrote 1843 documents to ./Output/dev.english.384.jsonlines\n",
            "Minimizing ./Data/train.english.v4_gold_conll\n",
            "Wrote 67769 documents to ./Output/train.english.384.jsonlines\n",
            "Minimizing ./Data/test.english.v4_gold_conll\n",
            "Wrote 1749 documents to ./Output/test.english.384.jsonlines\n",
            "max_sent_len_english = 384\n"
          ],
          "name": "stdout"
        }
      ]
    },
    {
      "cell_type": "code",
      "metadata": {
        "id": "Yg1MoPds299S"
      },
      "source": [
        "# создаем файл для трейна\n",
        "\n",
        "i = 0\n",
        "\n",
        "with jsonlines.open('./Output/train.english.256.jsonlines') as reader:\n",
        "\n",
        "  with jsonlines.open('./data/train.english.256.jsonlines', mode='w') as writer:\n",
        "\n",
        "    for o in reader:\n",
        "\n",
        "      # выберем первые 20к из 68к для тренировки\n",
        "      if i >= 0:\n",
        "        o['doc_key'] = 'wb'\n",
        "        writer.write(o)\n",
        "      if i == 20000:\n",
        "        break\n",
        "\n",
        "      i += 1"
      ],
      "execution_count": 9,
      "outputs": []
    },
    {
      "cell_type": "markdown",
      "metadata": {
        "id": "CkcjgyrBVo7K"
      },
      "source": [
        "# Запуск тренировки модели"
      ]
    },
    {
      "cell_type": "code",
      "metadata": {
        "id": "2yQxIvGHVxB7"
      },
      "source": [
        "! chmod 755 -R /content/drive/MyDrive/RuCor2SpanBert/setup_training.sh"
      ],
      "execution_count": 12,
      "outputs": []
    },
    {
      "cell_type": "code",
      "metadata": {
        "id": "dwsQQVVWV3x0"
      },
      "source": [
        "! ./setup_training.sh - $data_dir"
      ],
      "execution_count": null,
      "outputs": []
    },
    {
      "cell_type": "code",
      "metadata": {
        "id": "GYSYWg9BNlJD"
      },
      "source": [
        "! chmod 755 -R /content/drive/MyDrive/RuCor2SpanBert/conll-2012/scorer/v8.01/scorer.pl"
      ],
      "execution_count": 9,
      "outputs": []
    },
    {
      "cell_type": "code",
      "metadata": {
        "id": "U4icnOemWH0h"
      },
      "source": [
        "! GPU=0 python train.py train_spanbert_base"
      ],
      "execution_count": null,
      "outputs": []
    },
    {
      "cell_type": "markdown",
      "metadata": {
        "id": "D6fADRPpU_rF"
      },
      "source": [
        "# Запуск предсказаний\n"
      ]
    },
    {
      "cell_type": "code",
      "metadata": {
        "id": "8qN_jxX_jcQS"
      },
      "source": [
        "! chmod 755 -R /content/drive/MyDrive/RuCor2SpanBert/download_pretrained.sh"
      ],
      "execution_count": 4,
      "outputs": []
    },
    {
      "cell_type": "code",
      "metadata": {
        "id": "mUMDLWQBuWAJ"
      },
      "source": [
        "! ./download_pretrained.sh spanbert_base"
      ],
      "execution_count": null,
      "outputs": []
    },
    {
      "cell_type": "code",
      "metadata": {
        "id": "kXSCC3JmbnqV"
      },
      "source": [
        "! GPU=0 python predict.py spanbert_base data/dev.english.256.jsonlines dev_evaluation_12m.jsonlines"
      ],
      "execution_count": null,
      "outputs": []
    },
    {
      "cell_type": "code",
      "metadata": {
        "id": "3WlFCZVPPTzD"
      },
      "source": [
        "!pwd"
      ],
      "execution_count": null,
      "outputs": []
    },
    {
      "cell_type": "code",
      "metadata": {
        "id": "JCf3Mn3Dm4Th"
      },
      "source": [
        "# поменял эксперимент спанберт база количество сегментов на 512 и имя файла на 512"
      ],
      "execution_count": null,
      "outputs": []
    },
    {
      "cell_type": "code",
      "metadata": {
        "id": "5DDfUxfYNRdw"
      },
      "source": [
        "# подготовка файла обработанного токенайзером \n",
        "# убираем кластеры и собираем только нужные \n",
        "# для предсказания данные в jsonlines\n",
        "with jsonlines.open('./Output/test.english.256.jsonlines') as reader:\n",
        "\n",
        "  with jsonlines.open('./data/test.english.256.jsonlines', mode='w') as writer:\n",
        "\n",
        "    eval_line = {}\n",
        "\n",
        "    for o in reader:\n",
        "\n",
        "      o['doc_key'] = 'wb'\n",
        "      o['clusters'] = []\n",
        "\n",
        "      eval_line.update({'clusters': o['clusters']})\n",
        "      eval_line.update({'doc_key': o['doc_key']})\n",
        "      eval_line.update({'sentences': o['sentences']})\n",
        "      eval_line.update({'speakers': o['speakers']})\n",
        "      eval_line.update({'sentence_map': o['sentence_map']})\n",
        "      eval_line.update({'subtoken_map': o['subtoken_map']})\n",
        "\n",
        "      writer.write(eval_line)"
      ],
      "execution_count": 11,
      "outputs": []
    },
    {
      "cell_type": "markdown",
      "metadata": {
        "id": "lWBw3PqEVHFP"
      },
      "source": [
        "# Результаты предсказаний"
      ]
    },
    {
      "cell_type": "code",
      "metadata": {
        "id": "EqVbGK0h2-ZA"
      },
      "source": [
        "with jsonlines.open('dev_evaluation_12m.jsonlines') as reader:\n",
        "  x = [o for o in reader]"
      ],
      "execution_count": 12,
      "outputs": []
    },
    {
      "cell_type": "code",
      "metadata": {
        "colab": {
          "base_uri": "https://localhost:8080/"
        },
        "id": "K-zYmv9VIJgB",
        "outputId": "ec1d44f6-d523-4c75-cc47-016e2837e813"
      },
      "source": [
        "len(x)"
      ],
      "execution_count": 13,
      "outputs": [
        {
          "output_type": "execute_result",
          "data": {
            "text/plain": [
              "1843"
            ]
          },
          "metadata": {
            "tags": []
          },
          "execution_count": 13
        }
      ]
    },
    {
      "cell_type": "code",
      "metadata": {
        "id": "vYveKmj7It_z"
      },
      "source": [
        "def convert_mention(output, mention, comb_text):\n",
        "    start = output['subtoken_map'][mention[0]]\n",
        "    end = output['subtoken_map'][mention[1]] + 1\n",
        "    nmention = (start, end)\n",
        "    mtext = ''.join(' '.join(comb_text[mention[0]:mention[1]+1]).split(\" ##\"))\n",
        "    return (nmention, mtext)\n",
        "\n",
        "def get_clusters(output):\n",
        "    comb_text = [word for sentence in output['sentences'] for word in sentence]\n",
        "    seen = set()\n",
        "    #print('Clusters:')\n",
        "    clusters = []\n",
        "    for cluster in output['predicted_clusters']:\n",
        "        mapped = []\n",
        "        for mention in cluster:\n",
        "            seen.add(tuple(mention))\n",
        "            mapped.append(convert_mention(output, mention, comb_text))\n",
        "        clusters.append(mapped)\n",
        "\n",
        "    return clusters"
      ],
      "execution_count": 14,
      "outputs": []
    },
    {
      "cell_type": "code",
      "metadata": {
        "id": "1WKFlnyBIkOG"
      },
      "source": [
        "predictions = [get_clusters(output) for output in x]"
      ],
      "execution_count": 15,
      "outputs": []
    },
    {
      "cell_type": "code",
      "metadata": {
        "id": "wg2myyDxIqMS"
      },
      "source": [
        "clusters = [[[m[1] for m in cluster] for cluster in clusters] for clusters in predictions]"
      ],
      "execution_count": 16,
      "outputs": []
    },
    {
      "cell_type": "code",
      "metadata": {
        "colab": {
          "base_uri": "https://localhost:8080/"
        },
        "id": "1kbqZaxoIz4O",
        "outputId": "cfc4637f-948d-4fbd-bcc0-53201b6e314b"
      },
      "source": [
        "for element in clusters:\n",
        "  if element != []:\n",
        "    print(element)"
      ],
      "execution_count": 17,
      "outputs": [
        {
          "output_type": "stream",
          "text": [
            "[['сыну', 'нам']]\n",
            "[['сына', 'нам']]\n",
            "[['муж', 'мужа']]\n",
            "[['сыну', 'мы']]\n",
            "[['мы', 'мы', 'Мы'], ['дочь', 'дочь']]\n",
            "[['меня', 'меня', 'меня', 'меня']]\n",
            "[['мне', 'Меня', 'мне', 'мной'], ['мама', 'мама', 'отец', 'неё', 'мамы']]\n",
            "[['нас', 'нам', 'нам', 'мы'], ['меня', 'меня']]\n",
            "[['Мы', 'нас', 'нас', 'нас', 'Нас', 'нас', 'нас', 'нас', 'мы', 'нас']]\n",
            "[['мне', 'меня', 'мне', 'мне', 'меня', 'мне']]\n",
            "[['Сын', 'сыну']]\n",
            "[['Мне', 'меня']]\n",
            "[['мужа', 'нам']]\n",
            "[['Мама', 'мама']]\n",
            "[['Мама', 'Мама', 'мамы', 'маме', 'Мама']]\n",
            "[['меня', 'меня']]\n",
            "[['сына', 'сына']]\n",
            "[['меня', 'меня'], ['мы', 'мы']]\n",
            "[['нее', 'нее']]\n",
            "[['Меня', 'меня'], ['сына', 'сына', 'сын']]\n",
            "[['меня', 'Мне', 'меня', 'мне', 'мне', 'мне']]\n",
            "[['нам', 'нам', 'Мы']]\n",
            "[['меня', 'меня', 'меня', 'меня', 'меня', 'мне']]\n",
            "[['Меня', 'мне', 'мне', 'мне', 'мне', 'Мне', 'мне', 'Меня', 'мне']]\n",
            "[['маме', 'мама', 'она']]\n",
            "[['меня', 'мне', 'меня']]\n",
            "[['меня', 'мне']]\n",
            "[['мне', 'меня', 'мне']]\n",
            "[['мне', 'мне', 'мне']]\n",
            "[['сына', 'нам', 'мы']]\n",
            "[['нам', 'мы', 'нас', 'мы', 'мы', 'нас'], ['сына', 'нам']]\n",
            "[['меня', 'мне']]\n",
            "[['нас', 'Мы', 'нам', 'нам', 'нам', 'нам', 'нам'], ['мне', 'мне', 'мне']]\n",
            "[['Мы', 'нам']]\n",
            "[['мужа', 'мужа']]\n",
            "[['сыну', 'ему', 'сына']]\n",
            "[['меня', 'меня']]\n",
            "[['нас', 'нас', 'нас']]\n",
            "[['мне', 'Мне']]\n",
            "[['он', 'ему', 'Ему']]\n",
            "[['нам', 'нас', 'нас'], ['мне', 'мной', 'меня']]\n",
            "[['Меня', 'меня']]\n",
            "[['сына', 'Мы']]\n",
            "[['меня', 'меня', 'меня']]\n",
            "[['мы', 'нас'], ['мамы', 'нее', 'мамы']]\n",
            "[['нас', 'Мы', 'мы', 'нам']]\n",
            "[['сына', 'сына']]\n",
            "[['сыну', 'него', 'он', 'ему', 'ему', 'он'], ['мне', 'Мне', 'мне']]\n",
            "[['мы', 'мы', 'нам']]\n",
            "[['нас', 'нас', 'мы', 'мы', 'мы'], ['ему', 'он']]\n",
            "[['ему', 'он', 'него', 'него', 'него', 'его', 'он', 'Ему', 'он', 'него', 'Он', 'него', 'он', 'он', 'он'], ['мы', 'мы', 'мы', 'нас']]\n",
            "[['мама', 'неё']]\n",
            "[['нас', 'нас']]\n",
            "[['муж', 'мужу']]\n",
            "[['маме', 'она', 'она']]\n",
            "[['мы', 'Мы', 'нас', 'нас', 'нас', 'нам', 'Мы']]\n",
            "[['мы', 'нас']]\n",
            "[['Мне', 'меня'], ['мы', 'нам']]\n",
            "[['мы', 'мы', 'мы', 'нас']]\n",
            "[['меня', 'меня', 'меня']]\n",
            "[['сына', 'сыну', 'сына']]\n",
            "[['мужа', 'мамы']]\n",
            "[['нас', 'нас', 'нам'], ['дочь', 'дочь', 'дочь'], ['мне', 'меня', 'меня']]\n",
            "[['мы', 'мы']]\n",
            "[['сыну', 'него', 'он']]\n",
            "[['нас', 'мы', 'нам', 'мы']]\n",
            "[['сын', 'сына']]\n",
            "[['Сын', 'нам']]\n",
            "[['муж', 'муж'], ['мне', 'мне', 'мне', 'меня']]\n",
            "[['сына', 'сыну']]\n",
            "[['мужу', 'него']]\n",
            "[['Мама', 'неё', 'Папа', 'Нам', 'мама', 'Мы'], ['меня', 'меня']]\n",
            "[['мне', 'мне', 'мне', 'меня', 'меня']]\n",
            "[['сына', 'сыну', 'сына'], ['мне', 'мне']]\n",
            "[['сыну', 'нас']]\n",
            "[['Дочь', 'дочь'], ['сына', 'ему']]\n",
            "[['нас', 'нам', 'нас', 'нам']]\n",
            "[['нас', 'мы']]\n",
            "[['Мне', 'меня']]\n",
            "[['папа', 'папа']]\n",
            "[['Мы', 'нас', 'мы', 'нам', 'нас', 'нас', 'мы', 'мы', 'нам', 'Нас', 'мы']]\n",
            "[['мужу', 'муж']]\n",
            "[['маме', 'маму']]\n",
            "[['Мне', 'меня', 'мне', 'мне', 'меня', 'мне', 'мне'], ['нас', 'нас', 'нам']]\n",
            "[['сыну', 'Сын']]\n",
            "[['муж', 'муж', 'Муж']]\n",
            "[['него', 'папы', 'мамы', 'Муж'], ['меня', 'мне']]\n",
            "[['нам', 'нас']]\n",
            "[['меня', 'меня', 'мной', 'меня', 'меня', 'мне', 'меня', 'меня', 'меня', 'меня']]\n",
            "[['маме', 'мама', 'мамы', 'мамы', 'мама']]\n",
            "[['мне', 'мне']]\n",
            "[['Мама', 'мамы']]\n",
            "[['мы', 'мы', 'мы']]\n",
            "[['мне', 'меня', 'мне', 'меня', 'мне', 'мне']]\n",
            "[['мамы', 'она', 'нее', 'Она', 'ей']]\n",
            "[['Мне', 'Мне']]\n",
            "[['мужу', 'мужа', 'него']]\n",
            "[['отца', 'отца']]\n",
            "[['нас', 'Мы']]\n",
            "[['ему', 'нам']]\n",
            "[['маме', 'она', 'ее', 'Она', 'ей', 'нее', 'ей', 'ей', 'ей', 'она', 'ей', 'мужу', 'ему', 'она', 'нее'], ['мне', 'мне']]\n",
            "[['мы', 'Нам']]\n",
            "[['Мне', 'меня']]\n",
            "[['нам', 'нам', 'нас', 'нам', 'нам', 'нам', 'мы']]\n",
            "[['сын', 'нас'], ['муж', 'папа']]\n",
            "[['нам', 'нас', 'мы', 'нас'], ['муж', 'мужа']]\n",
            "[['нас', 'нас', 'нас'], ['папу', 'сыну']]\n",
            "[['нас', 'нас', 'мы', 'мы', 'нас', 'нам', 'мы', 'мы', 'мы', 'нас'], ['меня', 'меня', 'мною']]\n",
            "[['Сыну', 'сын']]\n",
            "[['мне', 'меня'], ['нас', 'нам', 'мы', 'нас', 'нам', 'мы']]\n",
            "[['сыну', 'нас']]\n",
            "[['сыну', 'он', 'нас']]\n",
            "[['Меня', 'меня']]\n",
            "[['меня', 'мне']]\n",
            "[['нас', 'Мы', 'Мы', 'нас', 'Мы', 'нас']]\n",
            "[['папы', 'папу', 'папу']]\n",
            "[['меня', 'меня', 'меня', 'меня', 'меня', 'меня', 'меня', 'меня', 'меня', 'мне', 'мне', 'меня', 'меня', 'меня', 'мной']]\n",
            "[['Папа', 'папы', 'папа']]\n",
            "[['сына', 'нам', 'сына', 'мы']]\n",
            "[['меня', 'мне']]\n",
            "[['мы', 'Мы']]\n",
            "[['Нам', 'Мы'], ['нам', 'нам']]\n",
            "[['сыну', 'он', 'ему', 'мен']]\n",
            "[['маме', 'он']]\n",
            "[['меня', 'меня', 'меня']]\n",
            "[['мы', 'нас']]\n",
            "[['меня', 'мне', 'мне', 'мне']]\n",
            "[['маме', 'она']]\n",
            "[['папы', 'Папе', 'Папу', 'Папа', 'он', 'него', 'он', 'папе', 'папы', 'Он', 'ему', 'Папа', 'него', 'папы', 'папы', 'он'], ['нам', 'мы', 'Мы', 'Мы']]\n",
            "[['нам', 'мы']]\n",
            "[['мама', 'нему', 'Он']]\n",
            "[['меня', 'мне', 'мне'], ['мы', 'нас']]\n",
            "[['меня', 'мне', 'меня', 'мне', 'меня']]\n",
            "[['Мне', 'меня', 'меня', 'меня']]\n",
            "[['меня', 'меня']]\n",
            "[['папа', 'папа', 'папа', 'папа', 'папы']]\n",
            "[['Мне', 'меня', 'меня', 'меня', 'меня', 'меня'], ['мужа', 'мужа']]\n",
            "[['мне', 'Мне']]\n",
            "[['мной', 'мне'], ['муж', 'маму']]\n",
            "[['сыну', 'сына', 'сына'], ['Меня', 'Меня']]\n",
            "[['мы', 'нас'], ['Мне', 'меня', 'мне', 'мне']]\n",
            "[['Сыну', 'него']]\n",
            "[['сына', 'сын']]\n",
            "[['мне', 'мне']]\n",
            "[['меня', 'мне']]\n",
            "[['папы', 'него'], ['меня', 'мне']]\n",
            "[['сыну', 'мы', 'нас', 'сына', 'нам', 'нам', 'Мы', 'сына', 'мы']]\n",
            "[['мной', 'меня']]\n",
            "[['мужа', 'Муж', 'нам', 'мужа']]\n",
            "[['мамы', 'ей', 'маме']]\n",
            "[['него', 'него'], ['меня', 'мне']]\n",
            "[['мужу', 'муж', 'него']]\n",
            "[['сыну', 'него', 'ему']]\n",
            "[['Мне', 'Мне', 'меня']]\n",
            "[['мы', 'нас', 'нас', 'нас']]\n",
            "[['нас', 'мы']]\n",
            "[['Нан', 'Нан']]\n",
            "[['нас', 'нас']]\n",
            "[['мужа', 'мужа']]\n",
            "[['мне', 'меня'], ['нас', 'нас', 'нам']]\n",
            "[['сын', 'сына']]\n",
            "[['мы', 'нас', 'мы', 'нас', 'нас'], ['мне', 'мне', 'меня']]\n",
            "[['Мы', 'нас', 'нас']]\n",
            "[['сыну', 'нам', 'нас']]\n",
            "[['меня', 'мне', 'мне'], ['муж', 'него']]\n",
            "[['нам', 'сын']]\n",
            "[['мне', 'мне', 'мне']]\n",
            "[['мне', 'Мне']]\n",
            "[['нам', 'нам', 'нас']]\n",
            "[['Сын', 'нас', 'сын', 'сына', 'сын']]\n",
            "[['меня', 'Меня']]\n",
            "[['нам', 'мы']]\n",
            "[['мамы', 'нее']]\n",
            "[['мама', 'ей', 'она', 'она', 'маму'], ['мы', 'Мы', 'Нам']]\n",
            "[['меня', 'меня']]\n",
            "[['меня', 'мне', 'Мне', 'мне', 'мне']]\n",
            "[['папы', 'Он', 'он', 'него', 'папа']]\n",
            "[['сыну', 'мы', 'нас', 'мы']]\n",
            "[['нас', 'Мы', 'нас', 'нас', 'мы', 'нас', 'мы', 'мы'], ['мама', 'маме', 'Маме'], ['меня', 'мне'], ['дочь', 'дочь']]\n",
            "[['сын', 'сын']]\n",
            "[['Мне', 'меня']]\n",
            "[['мне', 'меня', 'меня', 'меня']]\n",
            "[['сын', 'сына', 'сыну', 'сын'], ['меня', 'меня']]\n",
            "[['меня', 'мне']]\n",
            "[['меня', 'мне', 'меня', 'меня', 'меня', 'меня', 'меня', 'мне', 'меня', 'мной', 'мне', 'меня', 'мне', 'меня'], ['него', 'него', 'Он', 'него', 'он', 'он'], ['мама', 'мама', 'него', 'мама', 'мама', 'мама', 'Мама', 'него', 'него', 'мама', 'него']]\n",
            "[['меня', 'меня', 'меня'], ['нас', 'нас']]\n",
            "[['мы', 'нас', 'нас', 'нам'], ['меня', 'мне']]\n",
            "[['Мне', 'меня', 'меня', 'меня']]\n",
            "[['нам', 'нам']]\n",
            "[['Мужу', 'него', 'муже']]\n",
            "[['мужу', 'его', 'он', 'он']]\n",
            "[['сыну', 'сына', 'сына'], ['меня', 'мне']]\n",
            "[['папу', 'папе']]\n",
            "[['папа', 'папа'], ['меня', 'мне', 'мне']]\n",
            "[['Мне', 'меня', 'мной', 'мной', 'меня', 'меня', 'меня', 'мной', 'мне', 'мне'], ['Муж', 'мужа', 'муж', 'муж м', 'муж'], ['сын', 'сына']]\n",
            "[['маму', 'Ее', 'мамы', 'нее']]\n",
            "[['меня', 'меня'], ['него', 'него']]\n",
            "[['сыну', 'Сыну']]\n",
            "[['сыну', 'мы', 'него']]\n",
            "[['сыну', 'нам', 'нас']]\n",
            "[['Муж', 'него']]\n",
            "[['мной', 'мне']]\n",
            "[['муж', 'мужа']]\n",
            "[['дочь', 'нее']]\n",
            "[['сына', 'Его']]\n",
            "[['мне', 'мне'], ['сына', 'него']]\n",
            "[['мы', 'мы']]\n",
            "[['папу', 'папе']]\n",
            "[['Мы', 'нас', 'нам', 'мы', 'нас']]\n",
            "[['Мне', 'меня', 'меня', 'меня', 'меня', 'меня', 'мне', 'меня', 'меня', 'мне', 'Меня']]\n",
            "[['муж', 'мама']]\n",
            "[['Меня', 'меня']]\n",
            "[['нас', 'мы', 'нам'], ['он', 'неё', 'неё', 'он'], ['мне', 'мне']]\n",
            "[['дочь', 'Ей'], ['нас', 'мы', 'мы'], ['мужу', 'Он', 'она', 'ей', 'он', 'муж', 'ему', 'муж', 'она', 'она', 'ей', 'Она', 'она'], ['меня', 'мне', 'меня', 'меня', 'меня']]\n",
            "[['меня', 'меня']]\n",
            "[['он', 'Ему', 'него', 'него']]\n",
            "[['мама', 'маме']]\n",
            "[['сына', 'Мы', 'сына']]\n",
            "[['нам', 'мы', 'мы']]\n",
            "[['маме', 'неё']]\n",
            "[['сыну', 'мы', 'сыну']]\n",
            "[['мы', 'нам']]\n",
            "[['мужу', 'него']]\n",
            "[['меня', 'меня'], ['Сыну', 'сын']]\n",
            "[['Мне', 'мне', 'мне']]\n",
            "[['маме', 'мамы']]\n",
            "[['ему', 'ему']]\n",
            "[['мы', 'мы'], ['меня', 'мне', 'мне'], ['Папе', 'Ему']]\n",
            "[['нам', 'мы', 'нам']]\n",
            "[['мы', 'нас', 'мы', 'Нам']]\n",
            "[['нам', 'мы']]\n",
            "[['меня', 'меня', 'меня', 'меня', 'меня'], ['мы', 'нас', 'нам', 'мы', 'мы', 'мы', 'нас', 'нам']]\n",
            "[['меня', 'меня']]\n",
            "[['сыну', 'него']]\n",
            "[['сыну', 'сыну']]\n",
            "[['нас', 'нам']]\n",
            "[['меня', 'мне']]\n",
            "[['мне', 'меня', 'меня', 'мне']]\n",
            "[['меня', 'меня', 'меня', 'меня']]\n",
            "[['сыну', 'нам', 'сына', 'нам', 'сына', 'нас'], ['мне', 'мной', 'меня']]\n",
            "[['меня', 'меня', 'меня', 'меня', 'меня'], ['мужу', 'мужа', 'мужа']]\n",
            "[['меня', 'меня', 'Мне']]\n",
            "[['муж', 'ему', 'ему', 'его']]\n",
            "[['мы', 'мы']]\n",
            "[['нам', 'нас']]\n",
            "[['мне', 'меня']]\n",
            "[['нас', 'нас']]\n",
            "[['Мне', 'меня']]\n",
            "[['мы', 'нас']]\n",
            "[['сыну', 'него', 'Мы', 'нам', 'Мы']]\n",
            "[['мужа', 'мужа']]\n",
            "[['мне', 'мне', 'меня', 'меня', 'мне', 'мне', 'меня', 'меня', 'мне', 'меня', 'мне', 'меня', 'мне', 'мне']]\n",
            "[['сыну', 'него']]\n",
            "[['меня', 'мне', 'мне']]\n",
            "[['папы', 'мама', 'мужу']]\n",
            "[['Мне', 'меня']]\n",
            "[['нас', 'нас']]\n",
            "[['мама', 'маме']]\n",
            "[['Папе', 'папа']]\n",
            "[['сыну', 'нас']]\n",
            "[['мы', 'нас', 'нас', 'нас', 'мы', 'мы', 'нам']]\n",
            "[['нам', 'мы']]\n",
            "[['нам', 'нас']]\n",
            "[['мне', 'мной']]\n",
            "[['мы', 'мы']]\n",
            "[['сын', 'нам', 'мы', 'нас', 'мы']]\n",
            "[['мужа', 'муж']]\n",
            "[['мне', 'меня', 'мне', 'меня', 'меня', 'мне', 'меня', 'мне', 'меня', 'мне', 'меня', 'меня', 'мне', 'мне', 'меня', 'мне', 'меня', 'меня', 'меня', 'меня', 'мне', 'мне', 'мне']]\n",
            "[['меня', 'меня']]\n",
            "[['ему', 'ему']]\n",
            "[['Мы', 'мы', 'мы', 'нас']]\n",
            "[['маме', 'нее', 'она', 'нее', 'она']]\n",
            "[['мамы', 'папы'], ['мы', 'мы']]\n",
            "[['Мне', 'меня', 'Мне']]\n",
            "[['нас', 'Нас', 'мы', 'нас', 'нам']]\n",
            "[['меня', 'меня', 'мне']]\n",
            "[['Папе', 'отца', 'нам', 'папы', 'ему', 'мы', 'мы']]\n",
            "[['меня', 'меня', 'мне']]\n",
            "[['папа', 'папу']]\n",
            "[['него', 'он', 'него', 'он', 'ему', 'Он', 'него', 'Он', 'него']]\n",
            "[['меня', 'меня']]\n",
            "[['мне', 'мне'], ['Муж', 'отца', 'муж']]\n",
            "[['нам', 'мы']]\n",
            "[['Мне', 'меня']]\n",
            "[['Мне', 'мной']]\n",
            "[['мамы', 'мама']]\n",
            "[['мне', 'меня', 'мне', 'мне']]\n",
            "[['маме', 'нее', 'она']]\n",
            "[['Мы', 'мы']]\n",
            "[['маме', 'нее', 'нее'], ['Мы', 'нам']]\n",
            "[['Мне', 'мне', 'мне']]\n",
            "[['Мне', 'меня', 'мной', 'меня'], ['Мужу', 'мужа', 'сын', 'мужа', 'мужу']]\n",
            "[['меня', 'меня', 'мне', 'меня', 'меня', 'мне', 'меня', 'меня'], ['сына', 'сын', 'сын м']]\n",
            "[['Сыну', 'сын', 'сына']]\n",
            "[['маме', 'него']]\n",
            "[['меня', 'мне'], ['мамы', 'маме']]\n",
            "[['мамы', 'мама', 'Ему', 'Мама', 'он']]\n",
            "[['папы', 'папа', 'папу', 'папе', 'нам', 'папу', 'папа'], ['мне', 'мне', 'меня', 'мне'], ['мы', 'мы', 'нас']]\n",
            "[['Мне', 'мной']]\n",
            "[['отца', 'отца']]\n",
            "[['жены', 'нее']]\n",
            "[['Нам', 'нас']]\n",
            "[['Мы', 'мы', 'мы']]\n",
            "[['нас', 'мы'], ['нами', 'него']]\n",
            "[['Мне', 'мне', 'меня', 'меня', 'Нне'], ['Мажу', 'мужа']]\n",
            "[['дочь', 'мужа', 'дочь']]\n",
            "[['сына', 'сыну', 'сыну', 'сына']]\n",
            "[['мужа', 'муж', 'муже']]\n",
            "[['Мне', 'меня'], ['мы', 'нас', 'мы']]\n",
            "[['папе', 'папы', 'папа', 'папы', 'папы']]\n",
            "[['мне', 'меня', 'Меня']]\n",
            "[['мужа', 'него', 'Муж', 'нее', 'муж', 'он', 'муж', 'маму']]\n",
            "[['сыну', 'Мы']]\n",
            "[['мужу', 'него']]\n",
            "[['мне', 'мне', 'мне', 'меня']]\n",
            "[['сыну', 'него', 'сына', 'нам', 'сын', 'он']]\n",
            "[['папе', 'папу'], ['мы', 'Нас']]\n",
            "[['меня', 'меня', 'мной']]\n",
            "[['нее', 'нее']]\n",
            "[['Муж', 'ему', 'него', 'него', 'Муж', 'муж', 'мужа', 'мужа', 'мужу', 'мужа']]\n",
            "[['меня', 'меня'], ['нас', 'Мы']]\n",
            "[['мне', 'меня', 'меня'], ['Мы', 'нас']]\n",
            "[['сыну', 'нам', 'сына']]\n",
            "[['нас', 'нас', 'мы']]\n",
            "[['меня', 'меня', 'меня']]\n",
            "[['нас', 'Нам']]\n",
            "[['Меня', 'меня', 'меня', 'меня', 'мной']]\n",
            "[['нам', 'нам', 'нам']]\n",
            "[['Меня', 'мне']]\n",
            "[['сын', 'нас', 'Мы']]\n",
            "[['меня', 'мне', 'меня']]\n",
            "[['мне', 'мне']]\n",
            "[['мужу', 'ему', 'он', 'него']]\n",
            "[['мне', 'мне', 'меня', 'меня']]\n",
            "[['сыну', 'сына']]\n",
            "[['нам', 'нам']]\n",
            "[['нам', 'нас', 'нас', 'нас', 'нас', 'мы', 'Мы']]\n",
            "[['мама', 'отец'], ['меня', 'меня', 'меня', 'мне', 'Мне']]\n",
            "[['сыну', 'него']]\n",
            "[['меня', 'меня']]\n",
            "[['мне', 'Мне']]\n",
            "[['меня', 'меня']]\n",
            "[['сын', 'нас'], ['мной', 'меня']]\n",
            "[['мы', 'мы'], ['меня', 'мне', 'меня']]\n",
            "[['сыну', 'нас', 'нас', 'сына', 'сына'], ['меня', 'меня', 'Мне']]\n",
            "[['мы', 'мы', 'нас', 'мы'], ['мамы', 'мама', 'ей']]\n",
            "[['дочь', 'ей', 'мы', 'она', 'Мы', 'она', 'дочь', 'Дочь', 'нее', 'Она', 'Дочь', 'нее', 'дочь'], ['Мы', 'мы', 'Мы'], ['меня', 'мне']]\n",
            "[['мужа', 'мужа', 'Муж', 'мужу'], ['Мы', 'нас'], ['него', 'он']]\n",
            "[['меня', 'мной', 'меня']]\n",
            "[['мне', 'мне', 'Мне', 'Мне']]\n",
            "[['мамы', 'нее', 'маме', 'нее']]\n",
            "[['маме', 'Мама']]\n",
            "[['мамы', 'Ей', 'она', 'нее', 'ей', 'она', 'она', 'Мама', 'ей']]\n",
            "[['мамы', 'мамы']]\n",
            "[['мужа', 'мужа', 'него']]\n",
            "[['мужа', 'мужу', 'мужа', 'муж'], ['меня', 'меня']]\n",
            "[['мама', 'она', 'она', 'она', 'нее', 'нее', 'ней', 'маме']]\n",
            "[['Мы', 'нам', 'нам']]\n",
            "[['меня', 'мне']]\n",
            "[['сына', 'нас', 'сын']]\n",
            "[['Дочь', 'дочь']]\n",
            "[['нас', 'мы']]\n",
            "[['мама', 'мама']]\n",
            "[['нам', 'мы', 'мы', 'нас', 'мы', 'нам', 'мы', 'нам', 'нам', 'мы', 'мы', 'нам']]\n",
            "[['меня', 'Меня', 'мне', 'меня']]\n",
            "[['Мне', 'меня', 'меня']]\n",
            "[['меня', 'мне']]\n",
            "[['нас', 'нас']]\n",
            "[['мужа', 'ему', 'муж', 'него']]\n",
            "[['Меня', 'мне'], ['мужу', 'него', 'ей', 'нее'], ['мы', 'мы']]\n",
            "[['сыну', 'ему']]\n",
            "[['меня', 'мне']]\n",
            "[['меня', 'меня'], ['сын', 'мы']]\n",
            "[['меня', 'меня']]\n",
            "[['сыну', 'него']]\n",
            "[['меня', 'меня']]\n",
            "[['мамы', 'мам', 'мам']]\n",
            "[['нас', 'мы', 'мы', 'нас', 'нас', 'нас', 'Мы', 'мы'], ['мамы', 'мамы', 'маме', 'маму']]\n",
            "[['меня', 'меня', 'меня']]\n",
            "[['Мы', 'нам', 'мы']]\n",
            "[['Мне', 'меня', 'меня']]\n",
            "[['мы', 'нас']]\n",
            "[['мне', 'Мне', 'мне']]\n",
            "[['сыну', 'него', 'Он', 'он', 'Нам', 'он']]\n",
            "[['нас', 'мы', 'мы', 'нам', 'нам', 'нас']]\n",
            "[['сыну', 'ему']]\n",
            "[['меня', 'меня', 'меня'], ['сын', 'него', 'него', 'Сыну']]\n",
            "[['нас', 'нас'], ['мамы', 'неё']]\n",
            "[['Нам', 'нас']]\n",
            "[['мамы', 'Ей', 'нам']]\n",
            "[['мне', 'мне', 'меня', 'меня']]\n",
            "[['меня', 'меня', 'меня']]\n",
            "[['Нам', 'нам']]\n",
            "[['Сыну', 'Его', 'Сын']]\n",
            "[['нему', 'него', 'нему', 'него'], ['мы', 'мы']]\n",
            "[['нам', 'Мы', 'нас'], ['сыну', 'сыну']]\n",
            "[['сына', 'Ему']]\n",
            "[['мне', 'меня']]\n",
            "[['маме', 'нее']]\n",
            "[['муж', 'него', 'она']]\n",
            "[['нам', 'мы']]\n",
            "[['меня', 'мне']]\n",
            "[['мне', 'мне']]\n",
            "[['мама', 'мужа', 'ей', 'нее']]\n",
            "[['сыну', 'нас', 'сына']]\n",
            "[['Ей', 'нее', 'Ее', 'Она', 'нее', 'она', 'ней', 'она', 'Она', 'нее']]\n",
            "[['Мама', 'мама']]\n",
            "[['отца', 'Ему', 'нее']]\n",
            "[['нас', 'нам', 'нас']]\n",
            "[['маму', 'мама', 'мама']]\n",
            "[['папа', 'Папа', 'него']]\n",
            "[['маме', 'она', 'ей']]\n",
            "[['нас', 'нас'], ['сну', 'сын', 'мы', 'нас']]\n",
            "[['маме', 'неё', 'неё']]\n",
            "[['меня', 'меня'], ['Мама', 'Папа']]\n",
            "[['Мы', 'Мы', 'мы', 'мы', 'нас', 'нас', 'мы', 'Мы', 'нам', 'нас', 'Нам', 'нам', 'нас', 'мы', 'нам', 'мы', 'мы', 'мы'], ['мне', 'мне', 'Мне']]\n",
            "[['папе', 'папе']]\n",
            "[['Мне', 'меня', 'мне'], ['нам', 'нас']]\n",
            "[['сыну', 'него', 'он']]\n",
            "[['Мне', 'мне', 'мной', 'мне', 'мне', 'мне', 'мне', 'меня', 'мне']]\n",
            "[['маму', 'мамы']]\n",
            "[['мне', 'меня']]\n",
            "[['мужа', 'мужа']]\n",
            "[['нам', 'сын']]\n",
            "[['Муж', 'него']]\n",
            "[['Нам', 'Мы']]\n",
            "[['мне', 'мне']]\n",
            "[['Нам', 'нас', 'нас']]\n",
            "[['меня', 'мне', 'меня', 'мне', 'меня', 'мне']]\n",
            "[['мужу', 'ему', 'он']]\n",
            "[['маме', 'мама']]\n",
            "[['Мне', 'Меня', 'мне', 'меня', 'меня'], ['сына', 'сыну']]\n",
            "[['Мне', 'меня']]\n",
            "[['сыну', 'мы']]\n",
            "[['мамы', 'Мама', 'мама']]\n",
            "[['меня', 'мной']]\n",
            "[['маме', 'нее']]\n",
            "[['нас', 'нам', 'нас'], ['мне', 'меня']]\n",
            "[['сын', 'сына', 'Сыну']]\n",
            "[['нас', 'нас', 'мы', 'нам', 'Мы', 'Мы', 'нас', 'нас', 'мы', 'мы', 'нам'], ['нам', 'Нас', 'нам', 'нам']]\n",
            "[['меня', 'меня', 'меня', 'мне', 'мне', 'мной', 'меня']]\n",
            "[['меня', 'меня', 'меня']]\n",
            "[['меня', 'меня', 'мне', 'мне', 'меня', 'меня', 'меня', 'меня']]\n",
            "[['муж', 'ему', 'него', 'него']]\n",
            "[['папе', 'он', 'Он']]\n",
            "[['меня', 'Мне', 'мне']]\n",
            "[['Мама', 'него', 'мама', 'мама']]\n",
            "[['Мы', 'нам']]\n",
            "[['Мне', 'меня', 'меня', 'меня', 'мне', 'мной', 'меня'], ['муж', 'Муж']]\n",
            "[['нас', 'мы', 'нас']]\n",
            "[['нам', 'мы', 'Мы']]\n",
            "[['нас', 'нас', 'Нам', 'нам']]\n",
            "[['папы', 'Ему', 'он', 'Ему', 'он', 'него']]\n",
            "[['нам', 'нас']]\n",
            "[['Сыну', 'мы'], ['меня', 'мне', 'меня']]\n",
            "[['сына', 'нам']]\n",
            "[['мамы', 'Маме', 'Она']]\n",
            "[['мне', 'мне', 'мной']]\n",
            "[['нас', 'нам']]\n",
            "[['мы', 'нас', 'нам', 'мы', 'нас']]\n",
            "[['мне', 'Мне']]\n",
            "[['сыну', 'него']]\n",
            "[['мне', 'меня', 'меня', 'мне'], ['нас', 'нас']]\n",
            "[['Нам', 'Мы', 'нас', 'нам', 'нам'], ['Маме', 'мама']]\n",
            "[['муж', 'муж']]\n",
            "[['меня', 'мне', 'мне', 'мне']]\n",
            "[['маме', 'ей']]\n",
            "[['меня', 'мне', 'меня']]\n",
            "[['мы', 'нас']]\n",
            "[['нас', 'Мы']]\n",
            "[['Сыну', 'Мы', 'сын']]\n",
            "[['Мы', 'Мы']]\n",
            "[['нас', 'нам']]\n",
            "[['мужа', 'Муж']]\n",
            "[['сыне', 'нам', 'нам', 'нас']]\n",
            "[['Мама', 'Маме'], ['нас', 'нас', 'мы']]\n",
            "[['ему', 'он'], ['мне', 'мне']]\n",
            "[['мужа', 'мужа', 'муж', 'мужа']]\n",
            "[['сына', 'нас']]\n",
            "[['сыну', 'него']]\n",
            "[['нас', 'мы']]\n",
            "[['сыну', 'него']]\n",
            "[['мужа', 'мужа']]\n",
            "[['нам', 'нам', 'нас', 'мы', 'мы']]\n",
            "[['мужа', 'Eму']]\n",
            "[['Сыну', 'нам', 'него'], ['меня', 'меня']]\n",
            "[['меня', 'меня'], ['Мама', 'мама', 'нее']]\n",
            "[['мне', 'меня', 'Мне', 'меня', 'Мне']]\n",
            "[['него', 'него']]\n",
            "[['сыну', 'него', 'Ему', 'он', 'ему', 'Нам']]\n",
            "[['меня', 'меня', 'меня', 'меня', 'мне', 'меня', 'мне', 'мне', 'Мне', 'меня', 'меня', 'меня', 'меня', 'мoгу'], ['мужа', 'Муж']]\n",
            "[['мы', 'мы']]\n",
            "[['Мне', 'мне']]\n",
            "[['сын', 'него']]\n",
            "[['него', 'он']]\n",
            "[['меня', 'мне']]\n",
            "[['нас', 'нам'], ['нас', 'мы', 'нас', 'нас', 'нас', 'мы'], ['меня', 'мне'], ['сына', 'нас']]\n",
            "[['мне', 'меня', 'мне', 'мне', 'мне', 'меня', 'меня', 'меня', 'мне', 'мне', 'мне', 'мне', 'мне']]\n",
            "[['меня', 'мне', 'мне']]\n",
            "[['нас', 'нас']]\n",
            "[['маму', 'папы']]\n",
            "[['меня', 'меня'], ['нас', 'нас', 'мы']]\n",
            "[['мне', 'меня']]\n",
            "[['мамы', 'Маме', 'мамы', 'мама', 'мамы']]\n",
            "[['муж', 'Муж']]\n",
            "[['мы', 'нам']]\n",
            "[['муж', 'него']]\n",
            "[['мама', 'она']]\n",
            "[['меня', 'меня']]\n",
            "[['сына', 'сын']]\n",
            "[['Мне', 'мне', 'мне']]\n",
            "[['мне', 'мне', 'меня'], ['мужа', 'Муж']]\n",
            "[['муж', 'муж']]\n",
            "[['мне', 'меня', 'мне', 'мне', 'меня'], ['сын', 'нас', 'нас', 'сына', 'сына', 'нам'], ['дочь', 'нее']]\n",
            "[['мы', 'нас', 'нас', 'нас', 'мы', 'мы']]\n",
            "[['меня', 'меня']]\n",
            "[['меня', 'меня', 'мне']]\n",
            "[['Нам', 'нам']]\n",
            "[['нам', 'нам', 'нас', 'нас', 'Нам', 'мы', 'нам', 'нам', 'нам', 'нам', 'нам']]\n",
            "[['мужу', 'муж', 'Муж']]\n",
            "[['меня', 'меня']]\n",
            "[['мной', 'Мне'], ['Сын', 'сын']]\n",
            "[['нас', 'Нам', 'нас', 'нас', 'нас']]\n",
            "[['меня', 'мне', 'меня', 'меня', 'мной', 'меня']]\n",
            "[['мне', 'Мне', 'Мне', 'Меня']]\n",
            "[['Ему', 'ему']]\n",
            "[['мужа', 'муж']]\n",
            "[['маме', 'неё', 'она', 'нее']]\n",
            "[['Меня', 'меня', 'меня', 'мне', 'мне']]\n",
            "[['мне', 'мне', 'мной', 'мной', 'меня']]\n",
            "[['меня', 'мне', 'Мне']]\n",
            "[['папы', 'папу']]\n",
            "[['муж', 'мужу', 'Муж', 'мужа', 'мужа']]\n",
            "[['Мне', 'меня'], ['мужа', 'Мужа']]\n",
            "[['него', 'ему']]\n",
            "[['нам', 'нам', 'мы', 'мы']]\n",
            "[['Мы', 'нас', 'мы']]\n",
            "[['Меня', 'меня', 'мне', 'мне']]\n",
            "[['сыну', 'ему', 'сын', 'нам']]\n",
            "[['мужа', 'него']]\n",
            "[['маме', 'Мама', 'мама', 'Мама']]\n",
            "[['мы', 'нас', 'Мы']]\n",
            "[['Мы', 'нас']]\n",
            "[['него', 'него']]\n",
            "[['мне', 'Мне', 'меня']]\n",
            "[['меня', 'меня', 'Меня'], ['Мы', 'нам']]\n",
            "[['меня', 'меня', 'мне', 'меня'], ['мы', 'нас', 'нас', 'мы']]\n",
            "[['Мама', 'маму', 'Мама', 'мама', 'мама', 'мама', 'маму', 'мамы']]\n",
            "[['нам', 'нам']]\n",
            "[['меня', 'меня']]\n",
            "[['папы', 'нас', 'папы', 'мы']]\n",
            "[['маму', 'Он', 'он']]\n",
            "[['дочь', 'дочь'], ['мы', 'нас']]\n",
            "[['мы', 'нас']]\n",
            "[['меня', 'меня']]\n",
            "[['Мне', 'мне', 'меня', 'меня', 'мне'], ['жены', 'он', 'ему', 'он', 'он', 'он', 'он', 'он']]\n",
            "[['него', 'Ему', 'ему']]\n",
            "[['папе', 'папы']]\n",
            "[['маме', 'мама']]\n",
            "[['Мама', 'мамы'], ['мне', 'Мне', 'меня'], ['Нас', 'нас']]\n",
            "[['нее', 'нее']]\n",
            "[['маме', 'нее']]\n",
            "[['сыну', 'нам']]\n",
            "[['нас', 'нам']]\n",
            "[['нас', 'нас']]\n",
            "[['нас', 'мы']]\n",
            "[['меня', 'мне', 'меня'], ['Мы', 'мы']]\n",
            "[['мне', 'меня', 'мне', 'мной'], ['него', 'него'], ['Нам', 'мы']]\n",
            "[['мы', 'нас']]\n",
            "[['нас', 'нас']]\n",
            "[['нам', 'мы']]\n",
            "[['сыну', 'сын', 'нам']]\n",
            "[['нам', 'Нам']]\n",
            "[['сын', 'нас']]\n",
            "[['мне', 'меня', 'мне', 'мне']]\n",
            "[['мне', 'меня']]\n",
            "[['нас', 'нас']]\n",
            "[['мне', 'мне']]\n",
            "[['мама', 'мама', 'маму'], ['меня', 'Мне'], ['Мы', 'мы']]\n",
            "[['мама', 'мама']]\n",
            "[['него', 'него'], ['маме', 'него']]\n",
            "[['сыну', 'ему']]\n",
            "[['мужа', 'муж', 'муж', 'мужа']]\n",
            "[['Муж', 'Муж', 'муж']]\n",
            "[['меня', 'меня']]\n",
            "[['Нам', 'мы', 'нас'], ['муж', 'нее', 'нами']]\n",
            "[['папы', 'него'], ['мы', 'нас']]\n",
            "[['сын', 'нам']]\n",
            "[['меня', 'меня']]\n",
            "[['сына', 'него', 'него']]\n",
            "[['нас', 'мы']]\n",
            "[['папы', 'папе', 'он', 'папы']]\n",
            "[['нас', 'мы']]\n",
            "[['меня', 'Меня', 'меня', 'меня', 'меня', 'мне']]\n",
            "[['мы', 'нас', 'мы', 'нас', 'нас'], ['мужа', 'него'], ['Меня', 'меня', 'мне']]\n",
            "[['Мы', 'Нам', 'нам']]\n",
            "[['сыну', 'него', 'Мы', 'Сына', 'мы', 'мы', 'Нас', 'Нам', 'Сын', 'него', 'него', 'сын', 'нам', 'мы', 'сына', 'нам', 'нам', 'мы', 'нас', 'мы'], ['меня', 'Меня']]\n",
            "[['маме', 'мама', 'Она']]\n",
            "[['Мы', 'мы', 'нас', 'мы', 'мы', 'мы', 'мы', 'нас', 'мы'], ['мне', 'мне', 'Мне', 'меня']]\n",
            "[['мамы', 'мамы', 'мама', 'неё', 'Мама', 'Ее', 'Её', 'она']]\n",
            "[['нам', 'мы']]\n",
            "[['Сыну', 'него']]\n",
            "[['Мне', 'меня']]\n",
            "[['мамы', 'она', 'она', 'нее']]\n",
            "[['Мне', 'мне', 'меня', 'меня', 'меня', 'меня']]\n",
            "[['Мне', 'мне']]\n",
            "[['мне', 'меня']]\n",
            "[['мама', 'нее']]\n",
            "[['Мне', 'меня', 'меня', 'меня', 'меня', 'меня', 'меня', 'мне', 'меня']]\n",
            "[['мне', 'мне']]\n",
            "[['сыну', 'нему']]\n",
            "[['мужу', 'он']]\n",
            "[['сына', 'мы', 'нам', 'нам', 'нам']]\n",
            "[['дочь', 'она', 'нее', 'она', 'ей']]\n",
            "[['сына', 'него']]\n",
            "[['мной', 'меня', 'мне', 'меня']]\n",
            "[['него', 'ему', 'он', 'Его', 'него', 'Ему', 'ему', 'него', 'ему', 'ему', 'Он', 'него', 'он', 'Его', 'ему', 'его', 'он', 'его', 'нему', 'ним', 'он', 'он', 'он', 'он', 'него', 'ему', 'он', 'он'], ['Меня', 'меня']]\n",
            "[['мне', 'меня']]\n",
            "[['Мне', 'меня', 'мне', 'Меня', 'мне', 'мне', 'меня'], ['мама', 'мама']]\n",
            "[['маме', 'маме'], ['меня', 'меня']]\n",
            "[['мы', 'нам']]\n",
            "[['Нам', 'мы']]\n",
            "[['нас', 'нам', 'нас', 'нас', 'нас', 'мы', 'нам', 'мы', 'мы'], ['меня', 'меня', 'меня', 'мне']]\n",
            "[['меня', 'Мне']]\n",
            "[['нас', 'нас']]\n",
            "[['нам', 'нам']]\n",
            "[['Мы', 'нас']]\n",
            "[['меня', 'меня']]\n",
            "[['нас', 'нас']]\n",
            "[['нас', 'нас', 'мы', 'нас']]\n",
            "[['нас', 'нас']]\n",
            "[['сыну', 'сына', 'сыну']]\n",
            "[['нас', 'нас', 'нас', 'мы', 'нас', 'нас']]\n",
            "[['сыну', 'он', 'он', 'нам']]\n",
            "[['ему', 'он', 'он', 'он у н'], ['мы', 'нас', 'мы', 'мы', 'мы'], ['меня', 'мне']]\n",
            "[['сыну', 'он']]\n",
            "[['мной', 'меня', 'меня']]\n",
            "[['нам', 'Нас', 'нам']]\n",
            "[['меня', 'мне', 'мне', 'мне', 'мне', 'мне', 'меня']]\n",
            "[['нас', 'нас', 'нас']]\n",
            "[['меня', 'меня', 'мне', 'мне', 'меня', 'мне']]\n",
            "[['меня', 'мне', 'меня', 'мне', 'мне', 'меня', 'мне'], ['маму', 'мамы', 'Мама']]\n",
            "[['меня', 'мне', 'мне', 'мне', 'меня', 'меня', 'меня', 'мне'], ['мы', 'мы', 'Мы'], ['мама', 'она', 'Мама']]\n",
            "[['Муж', 'мужа', 'него', 'ему'], ['меня', 'меня', 'меня', 'меня', 'мне', 'меня']]\n",
            "[['нас', 'нас']]\n",
            "[['сын', 'ему', 'ему']]\n",
            "[['Сыну', 'сына', 'нам', 'сын']]\n",
            "[['меня', 'меня']]\n",
            "[['дочь', 'дочь']]\n",
            "[['меня', 'мне'], ['Нам', 'нас']]\n",
            "[['мне', 'мне', 'мне']]\n",
            "[['меня', 'меня', 'мне'], ['нас', 'нас']]\n",
            "[['Нам', 'нас', 'мы', 'нас', 'нас']]\n",
            "[['нас', 'мы', 'мы']]\n",
            "[['мне', 'меня']]\n",
            "[['сыну', 'него', 'Нас', 'сына']]\n",
            "[['Нас', 'мы', 'мы', 'нас']]\n",
            "[['нам', 'мы', 'нас']]\n",
            "[['сына', 'сыну']]\n",
            "[['Сыну', 'Сын']]\n",
            "[['мы', 'нас']]\n",
            "[['мы', 'нас']]\n",
            "[['сыну', 'него', 'мы']]\n",
            "[['мы', 'нас', 'нам']]\n",
            "[['маме', 'мамы']]\n",
            "[['сыну', 'сына', 'сыну']]\n",
            "[['мы', 'мы', 'нас', 'нас', 'нас', 'нам', 'нам', 'нам', 'мы', 'нас', 'нас', 'нас'], ['меня', 'мне', 'меня', 'меня', 'меня']]\n",
            "[['Сыну', 'мы', 'нам', 'нам']]\n",
            "[['сыну', 'Он', 'мы', 'сын', 'сын', 'сын'], ['меня', 'меня']]\n",
            "[['муж', 'него']]\n",
            "[['муж', 'Мужа']]\n",
            "[['Отца', 'ему']]\n",
            "[['муж', 'мужу']]\n",
            "[['мне', 'меня', 'меня', 'меня', 'меня', 'меня', 'меня', 'меня']]\n",
            "[['мужа', 'муж']]\n",
            "[['сыну', 'нас', 'нас']]\n",
            "[['сына', 'сыну']]\n",
            "[['сын', 'нам', 'нам']]\n",
            "[['меня', 'меня', 'мне', 'меня', 'меня', 'меня', 'меня', 'мне', 'мне']]\n",
            "[['мы', 'мы', 'нам', 'нас', 'нам', 'нам', 'нам', 'мы']]\n",
            "[['сыну', 'нас', 'Мы', 'нам', 'нам', 'мы', 'нас']]\n",
            "[['сыну', 'нас', 'него', 'Сын', 'нам', 'мы', 'нам', 'мы', 'нам', 'мы']]\n",
            "[['нее', 'ей']]\n",
            "[['нас', 'мы']]\n",
            "[['Мне', 'мне']]\n",
            "[['сына', 'сын']]\n",
            "[['Мне', 'меня']]\n",
            "[['меня', 'меня', 'меня']]\n",
            "[['Мне', 'меня']]\n",
            "[['него', 'он', 'он', 'муж']]\n",
            "[['мужа', 'мужа']]\n",
            "[['сына', 'Сын']]\n",
            "[['меня', 'меня', 'Мне'], ['мужа', 'мужу']]\n",
            "[['маме', 'мама']]\n",
            "[['сына', 'сын']]\n",
            "[['дочь', 'нам', 'мы', 'нам', 'нас', 'нам', 'нам', 'мы', 'Нам'], ['мне', 'меня', 'меня']]\n",
            "[['меня', 'мне', 'меня', 'мной', 'меня', 'мной']]\n",
            "[['маме', 'нее', 'ей', 'ее', 'она', 'она', 'нее']]\n",
            "[['меня', 'мне']]\n",
            "[['маме', 'Она', 'ее', 'она']]\n",
            "[['мне', 'Мне', 'меня', 'мне', 'мне', 'меня', 'мне'], ['нас', 'нас', 'нас', 'нам']]\n",
            "[['меня', 'меня', 'меня', 'меня']]\n",
            "[['сын', 'мы', 'нас', 'мы']]\n",
            "[['мужу', 'мужа']]\n",
            "[['Мужа', 'мужа']]\n",
            "[['меня', 'меня']]\n",
            "[['муж', 'мужа', 'мужа'], ['меня', 'меня', 'Мне']]\n",
            "[['муж', 'муж', 'маме', 'мам']]\n",
            "[['мужу', 'Муж']]\n",
            "[['Мы', 'нас', 'Мы']]\n",
            "[['мы', 'мы']]\n",
            "[['муж', 'него', 'муж']]\n",
            "[['нам', 'мы', 'нас'], ['нее', 'нее']]\n",
            "[['сын', 'него', 'Мы', 'нам']]\n",
            "[['меня', 'меня']]\n",
            "[['сын', 'сына', 'сыне', 'сыну']]\n",
            "[['нас', 'мы', 'мы'], ['меня', 'мной']]\n",
            "[['мамы', 'маму']]\n",
            "[['меня', 'Мне']]\n",
            "[['мне', 'мне', 'меня']]\n",
            "[['сына', 'него', 'ему', 'него', 'него']]\n",
            "[['меня', 'меня', 'мной', 'мне']]\n",
            "[['меня', 'мне']]\n",
            "[['мужа', 'мужа', 'муж']]\n",
            "[['сына', 'нас', 'нам']]\n",
            "[['маму', 'она', 'мажу', 'нее']]\n",
            "[['Сыну', 'него', 'него']]\n",
            "[['Муж', 'мама'], ['Меня', 'мне']]\n",
            "[['Ему', 'него', 'он'], ['мама', 'мама'], ['меня', 'меня', 'меня']]\n",
            "[['сыну', 'нас', 'нас', 'нам']]\n",
            "[['мамы', 'Маме', 'мама', 'мамы', 'нее', 'она', 'нее']]\n",
            "[['Маме', 'мама']]\n",
            "[['Нас', 'Нас', 'Нам']]\n",
            "[['муж', 'папу']]\n",
            "[['мама', 'нее', 'она', 'нее']]\n",
            "[['меня', 'меня', 'меня', 'мне']]\n",
            "[['Мне', 'меня', 'меня', 'мне', 'мне'], ['мама', 'маме']]\n",
            "[['нас', 'Мы', 'нас', 'нам', 'Нас', 'нас', 'нам']]\n",
            "[['мужа', 'мужа']]\n",
            "[['меня', 'мне', 'меня', 'мне', 'меня', 'мне', 'меня', 'меня', 'мне', 'меня', 'меня', 'меня', 'меня', 'мне']]\n",
            "[['мне', 'меня', 'мне'], ['нас', 'нас', 'Нам']]\n",
            "[['меня', 'мне', 'меня', 'меня']]\n",
            "[['мне', 'Меня']]\n",
            "[['мы', 'нам', 'мы', 'Мы', 'нас', 'нас']]\n",
            "[['мы', 'нам']]\n",
            "[['Мы', 'нас']]\n",
            "[['нас', 'нас', 'мы']]\n",
            "[['меня', 'мне', 'меня', 'меня', 'меня', 'меня', 'мне', 'мне', 'мне']]\n",
            "[['сына', 'Нам']]\n",
            "[['папы', 'он', 'него', 'Его', 'Он', 'Папа', 'Он']]\n",
            "[['муж', 'Муж', 'маме']]\n",
            "[['мне', 'мне', 'мне', 'меня', 'меня', 'меня']]\n",
            "[['мне', 'меня', 'меня', 'меня']]\n",
            "[['сын', 'мы']]\n",
            "[['Сыну', 'нам', 'сына']]\n",
            "[['Сын', 'Сыну']]\n",
            "[['мы', 'нас']]\n",
            "[['Мне', 'меня']]\n",
            "[['мне', 'меня', 'Мне', 'меня', 'мне', 'меня']]\n",
            "[['мне', 'мне', 'Мне', 'мне', 'меня', 'мне'], ['мама', 'муж']]\n",
            "[['муже', 'Ему', 'мы']]\n",
            "[['мне', 'меня'], ['сын', 'Сыну']]\n",
            "[['сыну', 'Он', 'нам', 'нас']]\n",
            "[['сына', 'нам', 'нам', 'нас', 'нам', 'нас'], ['меня', 'меня', 'мне']]\n",
            "[['сыну', 'мы']]\n",
            "[['маме', 'ней']]\n",
            "[['мы', 'нам', 'мы', 'мы']]\n",
            "[['меня', 'меня', 'Мне']]\n",
            "[['сына', 'сына', 'сына']]\n",
            "[['жены', 'него']]\n",
            "[['сыну', 'сына', 'сына'], ['меня', 'мне']]\n",
            "[['мне', 'меня', 'меня', 'меня', 'меня', 'меня']]\n",
            "[['мы', 'мы']]\n",
            "[['Сыну', 'мы']]\n",
            "[['нас', 'Мы']]\n",
            "[['отцу', 'папа']]\n",
            "[['сыну', 'него', 'мы']]\n",
            "[['нас', 'Мы']]\n",
            "[['меня', 'Мне']]\n",
            "[['мужу', 'муж']]\n",
            "[['нам', 'мы']]\n",
            "[['нам', 'мы', 'нам']]\n",
            "[['мамы', 'она', 'ей', 'он']]\n",
            "[['сыну', 'сыну', 'мы']]\n",
            "[['мужу', 'Мужу'], ['меня', 'мне']]\n",
            "[['меня', 'меня'], ['муже', 'мужу']]\n",
            "[['Сын', 'сын']]\n",
            "[['сыну', 'он', 'нам', 'мы', 'мы', 'нас']]\n",
            "[['меня', 'мне']]\n",
            "[['мне', 'мной']]\n",
            "[['дочь', 'дочь', 'него'], ['нас', 'мы', 'мы'], ['Мне', 'мне']]\n",
            "[['мама', 'мама']]\n",
            "[['Меня', 'мне', 'меня', 'меня']]\n",
            "[['меня', 'мне', 'Мне'], ['маму', 'Муж']]\n",
            "[['мне', 'меня', 'меня']]\n",
            "[['меня', 'мне']]\n",
            "[['меня', 'мне', 'мне']]\n",
            "[['Сыну', 'него']]\n",
            "[['нам', 'мы', 'нас', 'нас', 'нас'], ['мне', 'Меня']]\n",
            "[['мне', 'меня', 'меня', 'меня', 'меня', 'мне', 'мне']]\n",
            "[['Муж', 'мужа'], ['нас', 'мы']]\n",
            "[['мне', 'меня', 'мне']]\n",
            "[['Мы', 'Мы', 'мы', 'нас', 'нас', 'нас', 'Нам', 'Мы']]\n",
            "[['маме', 'Она', 'нее', 'она', 'Она', 'ей']]\n",
            "[['маме', 'Ее', 'Маме', 'она']]\n"
          ],
          "name": "stdout"
        }
      ]
    }
  ]
}