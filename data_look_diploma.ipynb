{
 "cells": [
  {
   "cell_type": "markdown",
   "metadata": {},
   "source": [
    "# Обработка и разбор данных от Semantic Hub"
   ]
  },
  {
   "cell_type": "code",
   "execution_count": 1,
   "metadata": {},
   "outputs": [
    {
     "name": "stderr",
     "output_type": "stream",
     "text": [
      "Matplotlib is building the font cache; this may take a moment.\n"
     ]
    }
   ],
   "source": [
    "import pandas as pd\n",
    "import os\n",
    "from tqdm import tqdm\n",
    "import re\n",
    "import json\n",
    "from collections import Counter\n",
    "import ast\n",
    "import seaborn as sns\n",
    "import matplotlib.pyplot as plt"
   ]
  },
  {
   "cell_type": "code",
   "execution_count": 3,
   "metadata": {},
   "outputs": [
    {
     "data": {
      "text/plain": [
       "'0.11.1'"
      ]
     },
     "execution_count": 3,
     "metadata": {},
     "output_type": "execute_result"
    }
   ],
   "source": [
    "sns.__version__"
   ]
  },
  {
   "cell_type": "markdown",
   "metadata": {},
   "source": [
    "## Заходим в папку с полученными данными и получаем список файлов"
   ]
  },
  {
   "cell_type": "code",
   "execution_count": 4,
   "metadata": {},
   "outputs": [],
   "source": [
    "# путь к папке со всеми файлами\n",
    "path = '/Users/egor/Desktop/SemanticHub/diploma/relatives_data/jsons'"
   ]
  },
  {
   "cell_type": "code",
   "execution_count": 5,
   "metadata": {},
   "outputs": [],
   "source": [
    "list_of_files = os.listdir(path) # список названий файлов"
   ]
  },
  {
   "cell_type": "markdown",
   "metadata": {},
   "source": [
    "## Делаем список json объектов, с которыми удобно работать"
   ]
  },
  {
   "cell_type": "code",
   "execution_count": 6,
   "metadata": {},
   "outputs": [
    {
     "name": "stderr",
     "output_type": "stream",
     "text": [
      "100%|██████████| 386254/386254 [02:59<00:00, 2153.91it/s]\n"
     ]
    }
   ],
   "source": [
    "list_full_file_json = [] # список, в котором каждый элемент - содержимое одного файла\n",
    "\n",
    "# цикл для прохода по всем файлам и сбора их содержимого\n",
    "for filename in tqdm(list_of_files):\n",
    "    # абсолютный путь к единичному файлу\n",
    "    path_single = path + '/' + filename\n",
    "    # открываем\n",
    "    with open(path_single) as file:\n",
    "        file = json.load(file)\n",
    "        list_full_file_json.append(file)"
   ]
  },
  {
   "cell_type": "code",
   "execution_count": 7,
   "metadata": {},
   "outputs": [
    {
     "data": {
      "text/plain": [
       "\"xml version='1.0' encoding='UTF-8'? https://dia-club.ru/forum_ru/viewtopic.php?f=6&t=3311#0099 2020-12-03 Converted by Semantic Hub (c) 2021 1.0 https://dia-club.ru/forum_ru/viewtopic.php?f=6&t=3311 dia-club.ru ru Статистика по детскому разделу 99 2007 Сахарный диабет у детей Список форумов Сахарный диабет, основные разделы форума Сахарный диабет у детей Sphinx https://dia-club.ru/forum_ru/memberlist.php?mode=viewprofile&u=4108 Москва 50 26 ноя 2007, 13:27 2007 дочь Полина, родилась 22.09.2005 диагноз СД1 в ноябре 2007 \""
      ]
     },
     "execution_count": 7,
     "metadata": {},
     "output_type": "execute_result"
    }
   ],
   "source": [
    "# пример удобной работы\n",
    "list_full_file_json[90564]['text']"
   ]
  },
  {
   "cell_type": "markdown",
   "metadata": {},
   "source": [
    "## Подготовим поле *text* к обработке"
   ]
  },
  {
   "cell_type": "code",
   "execution_count": 8,
   "metadata": {},
   "outputs": [
    {
     "name": "stderr",
     "output_type": "stream",
     "text": [
      "100%|██████████| 386254/386254 [00:09<00:00, 38720.75it/s]\n"
     ]
    }
   ],
   "source": [
    "# для этого удалим все, кроме текста самого сообщения\n",
    "# вообще можно будет пытаться еще пол вытягивать и всякие другие данные типа даты, города, имени\n",
    "\n",
    "# 1\n",
    "\n",
    "# текст окружен двумя пробелами странной длины, это нам поможет\n",
    "pattern = re.compile('                      (.*)                  ')\n",
    "\n",
    "# это будет список номеров тех сообщений, которые не прошли по первому паттерну\n",
    "i = 0\n",
    "list_err = []\n",
    "\n",
    "for message in tqdm(list_full_file_json):\n",
    "    try:\n",
    "        message['text'] = pattern.search(message['text']).group(1)\n",
    "        i += 1\n",
    "    except AttributeError:\n",
    "        list_err.append(i)\n",
    "        i += 1\n"
   ]
  },
  {
   "cell_type": "code",
   "execution_count": 9,
   "metadata": {},
   "outputs": [
    {
     "data": {
      "text/plain": [
       "[288, 531, 639, 658, 710, 736, 774, 1030, 1034, 1155]"
      ]
     },
     "execution_count": 9,
     "metadata": {},
     "output_type": "execute_result"
    }
   ],
   "source": [
    "list_err[:10]"
   ]
  },
  {
   "cell_type": "code",
   "execution_count": 10,
   "metadata": {},
   "outputs": [
    {
     "name": "stderr",
     "output_type": "stream",
     "text": [
      "100%|██████████| 3269/3269 [00:00<00:00, 41664.05it/s]\n"
     ]
    }
   ],
   "source": [
    "# 2\n",
    "\n",
    "# ненужный текст начиается с хмл, а заканчивается годом, после нее идет само сообщение\n",
    "# возможно такое, что в сообщении есть упоминание года, поэтому оно будет урезано, но иначе работать сложно, \n",
    "# потому что встречается много вариантов времени и других вещей перед годом:\n",
    "# наличие/отсутсвие часа, секунд, UTC и т.п.\n",
    "# \n",
    "# upd: посмотрел глазами, некрасивых вариантов особо не заметил\n",
    "pattern = re.compile('xml.*\\d\\d\\d\\d(.*)')\n",
    "\n",
    "for number in tqdm(list_err):\n",
    "    if pattern.search(list_full_file_json[number]['text']).group(1) != ' ':\n",
    "        list_full_file_json[number]['text'] = pattern.search(list_full_file_json[number]['text']).group(1)\n",
    "    "
   ]
  },
  {
   "cell_type": "code",
   "execution_count": 11,
   "metadata": {
    "scrolled": true
   },
   "outputs": [
    {
     "name": "stdout",
     "output_type": "stream",
     "text": [
      " мы с женой лечимся от гонореи . можно ли заниматься сексом в презервативе ? \n",
      "//////////////////////////////////////\n",
      " Отличый совет, моя мама меня так лечила, была аллергия на морковку, даю уже месяц! \n",
      "//////////////////////////////////////\n",
      " так профилактику сыну. бифиформ 2 раза в день. не должен заболеть. \n",
      "//////////////////////////////////////\n",
      " *плавание. А у оперированного брата штифтов нет! \n",
      "//////////////////////////////////////\n",
      " Смотря для чего эта операция применяется. Что Ваша сестра лечит? \n",
      "//////////////////////////////////////\n",
      " что такое депостат. маме его назначили, но зачем и при каких диагнозах их назначают. \n",
      "//////////////////////////////////////\n",
      " Антошика с 8 месячьем! :rose: маме не хандрить, не болеть :rose: \n",
      "//////////////////////////////////////\n",
      " Игорь, мужу лечиться по той же схеме, что и мне? \n",
      "//////////////////////////////////////\n",
      " от согаза в виталлЕ хожу, врач Бобыле С.В., сыну (4 года) там же лечим зубки. \n",
      "//////////////////////////////////////\n",
      " Хороший способ, моя сестра лечила именно так... \n",
      "//////////////////////////////////////\n",
      " @Мама и сыны мы оперировались у Бударина, врач-волшебник, даже не переживайте! \n",
      "//////////////////////////////////////\n",
      " Сыну 11 лет, лечим кашель сиропом и ингаляциями, хочу еще грудь понатирать. Чем лучше? \n",
      "//////////////////////////////////////\n",
      " Диана, а оперировалась мама в Москве, я так поняла? А где именно? \n",
      "//////////////////////////////////////\n",
      " Может ли младший брат заболеть шизофренией раньше старшего \n",
      "//////////////////////////////////////\n",
      " нет, не лечили, как вы и сказали-характер. сейчас обычный ребенок, ттт \n",
      "//////////////////////////////////////\n",
      " я даю доче ЛАЗОЛВАН??? Если не трудно напишите как вы лечили свою малютку от кашля. \n",
      "//////////////////////////////////////\n",
      " а что если это ребенок до года и после ОРЗ осложнилось ангиной,чем нам лечиться? \n",
      "//////////////////////////////////////\n",
      " С каким диагнозом получает ваш сын лечение? \n",
      "//////////////////////////////////////\n",
      " А у мужа после первого введения зометы кости болеть перестали. \n",
      "//////////////////////////////////////\n",
      " Спасибо! Да вот перестал в эти дни соску брать... А долго лечились? \n",
      "//////////////////////////////////////\n",
      " Ваша мама православная ? Так они что, приняли чужой диагноз ? \n",
      "//////////////////////////////////////\n",
      " Посоветуйте как лучше лечить глазного клеща, у моего мужа обнаружили в анализе. \n",
      "//////////////////////////////////////\n",
      " У мамы астматический синдром. Чем лечить? \n",
      "//////////////////////////////////////\n",
      " у нас после поездки на море лучше стало. И я, и дочь начали реже болеть. \n",
      "//////////////////////////////////////\n",
      " Лечить должен врач, а не бабушки! \n",
      "//////////////////////////////////////\n",
      " Не болейте,поправляйтесь....А папу кто лечить будет? \n",
      "//////////////////////////////////////\n",
      " 1.Один из возможных вариантов. 2.Мужу от гарднереллеза лечится не нужно. \n",
      "//////////////////////////////////////\n",
      " Сонечку и Гошика с Именинами!!!! Не болеть и радовать мам!!! \n",
      "//////////////////////////////////////\n",
      " У мужа тоже не брали,диагноз ангина. Сам вызвал Хеликс \n",
      "//////////////////////////////////////\n",
      " Спасибо! буду лечить бабушку. \n",
      "//////////////////////////////////////\n",
      " А зачем лечить папу? У него тоже выявлены аскариды? \n",
      "//////////////////////////////////////\n",
      " Лечите, мамо, тараканов :gy: Кайф на самом деле :good: \n",
      "//////////////////////////////////////\n",
      " маме говорили,когда я маленькая была,что ничего не сделать,это не лечится. \n",
      "//////////////////////////////////////\n",
      " у меня у мужа так было до 3-х лет, потом прошло, тогда такие вещи никто не лечил. \n",
      "//////////////////////////////////////\n",
      " Наташа у мужа тоже 16 тип? он лечился? \n",
      "//////////////////////////////////////\n",
      " С каким диагнозом ваш сын лечился в психиатрической больнице? \n",
      "//////////////////////////////////////\n",
      " моя мама пошла оперироваться только к нему \n",
      "//////////////////////////////////////\n",
      " Гематолог не ставит такие диагнозы. Это то же самое, что бабушка на лавочке \n",
      "//////////////////////////////////////\n",
      " Сыну моей подруги диагноз плоскостопия поставили в 2,5 года. \n",
      "//////////////////////////////////////\n",
      " Лечить обязательно)сыну 5 месяцев,стул так и не нормализовался,т.к. стаффилокок \n",
      "//////////////////////////////////////\n",
      " Ну да, тоже качает нас, жуть просто! Даже у мужа голова болеть стала \n",
      "//////////////////////////////////////\n",
      " Хватит над дедушкой прикалываться! Лечить пора! Как там мазочки? \n",
      "//////////////////////////////////////\n",
      " Вашей маме выставлен какой-либо психиатрический диагноз в ПНД? \n",
      "//////////////////////////////////////\n",
      " сходили мы второй раз зуб лечить, сын не дал :( \n",
      "//////////////////////////////////////\n",
      " проблема у мужа такая . подскажите кто лечил и где? \n",
      "//////////////////////////////////////\n",
      " Возможно от варикоза,варикоз сестра лечит? \n",
      "//////////////////////////////////////\n",
      " Вот муж купил лазолван. Поделаем в небулайзере. Долго вы лечили его? \n",
      "//////////////////////////////////////\n",
      " Мой муж с 7 мая получил диагноз- Паркинсонизм. Теперь я примыкаю к вашему форуму. \n",
      "//////////////////////////////////////\n",
      " В такие поездки надо регидрон с собой брать и жаропонижающее, лечитесь! \n",
      "//////////////////////////////////////\n",
      " Я бы сказала, что это даже недорого. Мужу предлагали лечить за 11 тыс 1 канал \n",
      "//////////////////////////////////////\n",
      " Теперь знаете в каком направлении двигаться и лечить маму. \n",
      "//////////////////////////////////////\n",
      " Мужу нужно сделать КТ легких.Это поможет поставить более точный диагноз. \n",
      "//////////////////////////////////////\n",
      " А какой диагноз у дочи? \n",
      "//////////////////////////////////////\n",
      " Katerina,а где лечится мама вашего знакомого? Возможно в каком-то НИИ? \n",
      "//////////////////////////////////////\n",
      " Самый быстродействующий ИГКС, я уже не раз Пульмикортом лечила детей, мужа, себя. \n",
      "//////////////////////////////////////\n",
      " Странная тётя какая-то. А ради чего вы бьётесь, ради диагнозов что ли. \n",
      "//////////////////////////////////////\n",
      " Моей жене поставили диагноз 'половой попой'. Что это такое и как лечится ? \n",
      "//////////////////////////////////////\n",
      " сестре родной поставили диагноз..страшно стало чем это грозит?? ей еще рожать скоро \n",
      "//////////////////////////////////////\n",
      " Простите, а где лечится муж? \n",
      "//////////////////////////////////////\n",
      " муж у Ошмариной лечился, она расписала курс дженериков на 3 мес, всё гуд \n",
      "//////////////////////////////////////\n",
      " +++ Дочь заболела, когда ей не было 4-х недель. Насморк лечили месяц. \n",
      "//////////////////////////////////////\n",
      " и что дает эта прививка? ребенок не будет никогда болеть этими болячками? \n",
      "//////////////////////////////////////\n",
      " Обязательно нужно лечиться и вам, и ребенку, и всем контактным! Ребенок на ГВ? \n",
      "//////////////////////////////////////\n",
      " 1. Излишнее-это слишком много всего? 2. скажите такими же антибиотиками мужу лечиться? \n",
      "//////////////////////////////////////\n",
      " да фигня это, этим ВЧД всех мам запугиват, весм детям такой диагноз ставят. \n",
      "//////////////////////////////////////\n",
      " А потом будете мужу запор лечить? \n",
      "//////////////////////////////////////\n",
      " Если ребенок ни на что не жалуется, тр лечить его ее надо \n",
      "//////////////////////////////////////\n",
      " Жень, диагноз рядовой, и правда только наблюдать.....все пройдет однозначно \n",
      "//////////////////////////////////////\n",
      " Я тоже собираюсь, пока мужа лечим. Надеемся на лучшее. \n",
      "//////////////////////////////////////\n",
      " Здравствуйте какой у мамы диагноз? \n",
      "//////////////////////////////////////\n",
      " Сын стал меньше болеть? \n",
      "//////////////////////////////////////\n",
      " ребёнку нужна здоровая мама,а если будут осложнения у вас?лечитесь. \n",
      "//////////////////////////////////////\n",
      " Бифидобактерии помогли? И стал ли ребенок после первого года в саду болеть меньше? \n",
      "//////////////////////////////////////\n",
      " Да уж... Чего-то я не была готова, что ребенок на ГВ может так рано заболеть :( \n",
      "//////////////////////////////////////\n",
      " Муж мог и не заболеть или перенести заболевание в скрытой форме. \n",
      "//////////////////////////////////////\n",
      " Вы можете уточнить шифр диагноза и сколько лет сыну? \n",
      "//////////////////////////////////////\n",
      " Да,моллюск. Нового в лечении не придумали. У сына лечите контактный дерматит? \n",
      "//////////////////////////////////////\n",
      " А у пульмонолога мама наблюдается? Что ее беспокоит? Чем лечится? \n",
      "//////////////////////////////////////\n",
      " Где мама лечилась?В Онкологическом центре или в больнице Страдыня? \n",
      "//////////////////////////////////////\n",
      " %) от таких возможных диагнозов у меня муж полетел бы в больницу... :ugu: \n",
      "//////////////////////////////////////\n",
      " Здравствуйте! Сыну 13 лет. Поставили диагноз вегетатив. лабильность? Что за диагноз? \n",
      "//////////////////////////////////////\n",
      " Сестра ребёнка лечит с помощью препарата эргоферон. Быстро лечатся \n",
      "//////////////////////////////////////\n",
      " Обнаружили уретроплазмоз, чем лечить. Мужу тоже пройти курс лечения? Спасибо! \n",
      "//////////////////////////////////////\n",
      " Есть. Сын носил, сейчас племянница лечится этим же способом. \n",
      "//////////////////////////////////////\n",
      " По анализу крови от хеликобактера не лечат. Мужу не нужно лечиться! \n",
      "//////////////////////////////////////\n",
      " У мамы ветелига, чем лечиться? \n",
      "//////////////////////////////////////\n",
      " Диагноз «нормальный ребенок, мнительная мама» \n",
      "//////////////////////////////////////\n",
      " Я гриппфероном лечилась, и сыну капала что бы от меня не заразился. \n",
      "//////////////////////////////////////\n",
      " сыну 2,5 мес. Чем в этом возрасте можно кашель лечить? и сопли... \n",
      "//////////////////////////////////////\n",
      " 2 года сыну, антибиотиками лечили один раз по моей глупости. абсолютно зря.. \n",
      "//////////////////////////////////////\n",
      " Мама лечится в Балашихе \n",
      "//////////////////////////////////////\n",
      " У меня грудной ребенок, то есть не передастся? А чем лечить при грудном вскармливании? \n",
      "//////////////////////////////////////\n",
      " Было, но я не лечу какашки. Тем более, когда ребенок спокоен. \n",
      "//////////////////////////////////////\n",
      " А есть ли какие-либо положительные качества зубного порошка? \n",
      "//////////////////////////////////////\n",
      " Дочь в 12 лет как давай болеть, как никогда раньше, герпес 5 типа оказался. \n",
      "//////////////////////////////////////\n",
      " Сейчас изучила карту сына. Поставлен на учет с диагнозом синусовая брадиаритмия(( \n",
      "//////////////////////////////////////\n",
      " Только один вопрос - а как это так бывает, что диагноза еще нет, а ребенок уже особый? \n",
      "//////////////////////////////////////\n",
      " что такое нсг?с того что я его лечу и есть улучшения а ребенок до сих пор беспокойный \n",
      "//////////////////////////////////////\n",
      " Сыну 18 лет, диагноз Болезнь Рейна. Чем лечить такое заболевание, какими препаратами \n",
      "//////////////////////////////////////\n",
      " По поводу агглютинации требуется МАР-тест. По поводу чего муж планируется лечиться? \n",
      "//////////////////////////////////////\n",
      " Может вам аденоиды убрать? У тетки сыну убрали, меньше стал болеть \n",
      "//////////////////////////////////////\n",
      " Делала себе и сыну, т.к уже страшно заболеть после 30 лет. Перенесли отлично. \n",
      "//////////////////////////////////////\n",
      " мы и не собираемся болеть)) Это я, мама, перестрахощица)) \n",
      "//////////////////////////////////////\n",
      " здраствуйте сыну 16 лет замучили прищи посоветуйте чем лечить \n",
      "//////////////////////////////////////\n",
      " Да ничего не хотела, дальше читайте. \n",
      "//////////////////////////////////////\n",
      " как лечить хронический тонзилит у сына 16 лет \n",
      "//////////////////////////////////////\n",
      " У сына так и было. Диагнозы выше писала. \n",
      "//////////////////////////////////////\n",
      " И как у вас в итоге? Как ребенок? У нас такой же диагноз, развитие по возрасту \n",
      "//////////////////////////////////////\n",
      " Здравствуйте , ребенок ещё мал,не ищите диагнозы, все наладится . \n",
      "//////////////////////////////////////\n",
      " У сына тот же диагноз, пьет Оксалит. Боли ушли, камешки уменьшились, врач так сказал. \n",
      "//////////////////////////////////////\n",
      " должны ли брать с таким диагнозом в армию? \n",
      "//////////////////////////////////////\n",
      " Моей доче 9 лет, лечимся, но пока не прошло :( \n",
      "//////////////////////////////////////\n",
      " Доктор, лечиться надо и мне и мужу? \n",
      "//////////////////////////////////////\n",
      " + а если нет, то диагноз маме пивной алкоголизм. \n",
      "//////////////////////////////////////\n",
      " Таня,чем будешь лечить мужа,надеюсь не лекарствами? \n",
      "//////////////////////////////////////\n",
      " Этот вопрос надо адресовать оперировавшему вашу маму хирургу. \n",
      "//////////////////////////////////////\n",
      " Диагноз-жировой гепатоз, гепатиты исключены, муж весит-108 кг. \n",
      "//////////////////////////////////////\n",
      " У вас ребенок болеет. Причем тут зубы? Лечить надо! \n",
      "//////////////////////////////////////\n",
      " Ужас какой. Вот докажи это нашей бабушке, которая всегда так своих детей лечила. \n",
      "//////////////////////////////////////\n",
      " Мою дочь оперировали в Чебоксарах 3 года назад. \n",
      "//////////////////////////////////////\n",
      " сын так какакает, но искать в этом проблему и диагноз я и не подумала \n",
      "//////////////////////////////////////\n",
      " Ну да, маме врач так и сказал, что не все лечится дорогими лекарствами \n",
      "//////////////////////////////////////\n",
      " И как вы?Как мама вам помагала,лечила? \n",
      "//////////////////////////////////////\n",
      " Не речевой ребенок- это с каким диагнозом- МА/ СА, РАС, УО? \n",
      "//////////////////////////////////////\n",
      " Ван муж лечится дома или в стационаре? Проводится антихеликобактерная терапия? \n",
      "//////////////////////////////////////\n",
      " Диагноз сестры мужа полностью озвучьте, пожалуйста \n",
      "//////////////////////////////////////\n",
      " На днях тоже лечили сыну пульпит в 3 посещения. \n",
      "//////////////////////////////////////\n",
      " я сына тоже отипаксом лечила. за 1 раз помог, ну я курс провела как надо \n",
      "//////////////////////////////////////\n",
      " Пусть мама ребенка задает данные вопросы леч. врачу \n",
      "//////////////////////////////////////\n",
      " А своих детишек, вы мамы, бесплатно лечите??? \n",
      "//////////////////////////////////////\n",
      " До двух лечила. Потом плюнула. Но у сына аллергия на белок, молочку не даём \n",
      "//////////////////////////////////////\n",
      " У вашей мамы какое заболевание? \n",
      "//////////////////////////////////////\n",
      " у сына тоже такая полоса на лбу. и сзади вся шея красная. но не оперировать же :fool: \n",
      "//////////////////////////////////////\n",
      " дочу больше не трясет?! а то я переживаю!!! вы лечитесь давайте!!! \n",
      "//////////////////////////////////////\n",
      " Дома заболела сестра гриппом. Как не заболеть остальным членам семьи? \n",
      "//////////////////////////////////////\n",
      " Давай-те выздоравливайте, и папу лечи! \n",
      "//////////////////////////////////////\n",
      " мужа дважды оперировали. \n",
      "//////////////////////////////////////\n",
      " ДОбрый день! Моей маме после томограммы (? )поставили диагноз - фронтит. Что это? \n",
      "//////////////////////////////////////\n",
      " Поддержите кулачки за нас. Маму завтра будут оперировать. \n",
      "//////////////////////////////////////\n",
      " я лечила сыну бифидумом(жидким),самый лучший прибиотик!!!!вот недавно курс закончили! \n",
      "//////////////////////////////////////\n",
      " читаю читаю и понимаю, что тут бабушку лечить надо в первую очередь \n",
      "//////////////////////////////////////\n",
      " муж сдал спермограму, диагноз астенозооспермия, что это значит \n",
      "//////////////////////////////////////\n",
      " Здравствуйте. Вирус у мужа лечить. \n",
      "//////////////////////////////////////\n",
      " Ни фига себе! От чего ребенок может так чиститься? А что за диагноз вам поставили? \n",
      "//////////////////////////////////////\n",
      " Если ребенок дает,лучше лечить все-таки.такая инфекция вредна для всего организма. \n",
      "//////////////////////////////////////\n",
      " Муж сбегал в аптеку - купил НАЙЗ. Пошла лечиться. Спасибо всем за советы ! \n",
      "//////////////////////////////////////\n",
      " Врач поставил такой диагноз. Ну, и ребенок стал задыхаться при любой физ.активности. \n",
      "//////////////////////////////////////\n",
      " А вы мужа лечите? или только сами лечитесь, так-то нужно обоим лечиться ;) \n",
      "//////////////////////////////////////\n",
      " Нет, мужа лечить не надо. А презерватив пока использовать надо. \n",
      "//////////////////////////////////////\n",
      " 1. Диагноз отсутствует 2. В наблюдении ортопедом и лечении ребенок не нуждается. \n",
      "//////////////////////////////////////\n"
     ]
    }
   ],
   "source": [
    "for number in list_err[50:200]:\n",
    "    print(list_full_file_json[number]['text'])\n",
    "    print('//////////////////////////////////////')"
   ]
  },
  {
   "cell_type": "code",
   "execution_count": 12,
   "metadata": {},
   "outputs": [
    {
     "name": "stderr",
     "output_type": "stream",
     "text": [
      "100%|██████████| 386254/386254 [00:03<00:00, 104640.40it/s]\n"
     ]
    }
   ],
   "source": [
    "# уберем форумные смайлики из сообщений\n",
    "pattern = re.compile(':[a-zA-Z]+:')\n",
    "\n",
    "for message in tqdm(list_full_file_json):\n",
    "        message['text'] = pattern.sub('', message['text'])\n"
   ]
  },
  {
   "cell_type": "code",
   "execution_count": 13,
   "metadata": {},
   "outputs": [],
   "source": [
    "list_json_save = list(list_full_file_json) # перед удалением пробелов"
   ]
  },
  {
   "cell_type": "code",
   "execution_count": 14,
   "metadata": {},
   "outputs": [
    {
     "name": "stderr",
     "output_type": "stream",
     "text": [
      "100%|██████████| 386254/386254 [00:26<00:00, 14848.83it/s]\n"
     ]
    }
   ],
   "source": [
    "# заменим множественные пробелы на единичные,\n",
    "# уберем пробелы в начале и в конце предложения\n",
    "\n",
    "# паттерн для поиска пробелов\n",
    "pattern = re.compile('\\s+')\n",
    "\n",
    "for message in tqdm(list_full_file_json):\n",
    "    message['text'] = pattern.sub(' ', message['text'])\n",
    "    # убираю пробел в начале\n",
    "    if message['text'][0] == ' ':\n",
    "        message['text'] = message['text'][1:]\n",
    "    # убираю пробел в конце    \n",
    "    if message['text'][-1:] == ' ':\n",
    "        message['text'] = message['text'][:len(message['text'])-1]\n",
    "    # добавляю знак препинания в конце, если его нет. \n",
    "    if message['text'][-1:] != '.' and message['text'][-1:] != '!' and  message['text'][-1:] != '?' and  message['text'][-1:] != '…':\n",
    "        message['text'] = message['text'] + '.'\n",
    "        \n",
    "        \n",
    "        "
   ]
  },
  {
   "cell_type": "code",
   "execution_count": 15,
   "metadata": {},
   "outputs": [
    {
     "data": {
      "text/plain": [
       "\"xml version='1.0' encoding='UTF-8'? https://dia-club.ru/forum_ru/viewtopic.php?f=6&t=3311#0099 2020-12-03 Converted by Semantic Hub (c) 2021 1.0 https://dia-club.ru/forum_ru/viewtopic.php?f=6&t=3311 dia-club.ru ru Статистика по детскому разделу 99 2007 Сахарный диабет у детей Список форумов Сахарный диабет, основные разделы форума Сахарный диабет у детей Sphinx https://dia-club.ru/forum_ru/memberlist.php?mode=viewprofile&u=4108 Москва 50 26 ноя 2007, 13:27 2007 дочь Полина, родилась 22.09.2005 диагноз СД1 в ноябре 2007.\""
      ]
     },
     "execution_count": 15,
     "metadata": {},
     "output_type": "execute_result"
    }
   ],
   "source": [
    "list_full_file_json[90564]['text']"
   ]
  },
  {
   "cell_type": "markdown",
   "metadata": {},
   "source": [
    "Поле **text** подготовлено, можно провести количественный анализ и построить разные визуализации"
   ]
  },
  {
   "cell_type": "markdown",
   "metadata": {},
   "source": [
    "## Анализ текстового содержания – поле *text*"
   ]
  },
  {
   "cell_type": "markdown",
   "metadata": {},
   "source": [
    "Для проведения анализа заполним датафрейм пандас важными для анализа характеристиками:\n",
    "+ количество слов в каждом документе\n",
    "+ количество предложений в каждом документе\n",
    "+ количество цепочек кореференции в каждом документе\n",
    "+ количество выделенных слов в каждом документе\n",
    "\n",
    "\n",
    "\n",
    "+ количество цепочек кореференции всего\n",
    "+ количество выделенных слов всего\n",
    "+ количество документов всего"
   ]
  },
  {
   "cell_type": "markdown",
   "metadata": {},
   "source": [
    "### Распределение количества слов в каждом документе"
   ]
  },
  {
   "cell_type": "code",
   "execution_count": 16,
   "metadata": {},
   "outputs": [
    {
     "name": "stderr",
     "output_type": "stream",
     "text": [
      "100%|██████████| 386254/386254 [00:22<00:00, 17029.57it/s]\n"
     ]
    }
   ],
   "source": [
    "# список количеств слов\n",
    "words_list = []\n",
    "# паттерн для деления по пробелам/переносам\n",
    "pattern = re.compile('\\s+')\n",
    "\n",
    "for message in tqdm(list_full_file_json):\n",
    "    words_message = len(pattern.split(message['text']))\n",
    "    words_list.append(words_message)"
   ]
  },
  {
   "cell_type": "code",
   "execution_count": 17,
   "metadata": {},
   "outputs": [
    {
     "data": {
      "text/plain": [
       "[(61, 2731),\n",
       " (55, 2720),\n",
       " (56, 2688),\n",
       " (57, 2672),\n",
       " (40, 2671),\n",
       " (52, 2669),\n",
       " (64, 2659),\n",
       " (54, 2656),\n",
       " (53, 2655),\n",
       " (47, 2642)]"
      ]
     },
     "execution_count": 17,
     "metadata": {},
     "output_type": "execute_result"
    }
   ],
   "source": [
    "# посмотрим на самые частые количества слов на одно сообщение\n",
    "c = Counter(words_list).most_common(10)\n",
    "c"
   ]
  },
  {
   "cell_type": "code",
   "execution_count": 42,
   "metadata": {},
   "outputs": [
    {
     "data": {
      "image/png": "[encoded data removed]",
      "text/plain": [
       "<Figure size 1332x756 with 1 Axes>"
      ]
     },
     "metadata": {
      "needs_background": "light"
     },
     "output_type": "display_data"
    }
   ],
   "source": [
    "# построим по полученным данным нормализованную гистограмму\n",
    "c = Counter(words_list)\n",
    "keys = list(c.keys())\n",
    "values = list(c.values())\n",
    "sns.histplot(x=keys, weights=values, discrete=True, stat='probability')\n",
    "plt.xlim(0, 800)\n",
    "fig = plt.gcf()\n",
    "fig.set_size_inches(18.5, 10.5)\n",
    "#fig.savefig('test2png.png', dpi=100)\n",
    "plt.show()"
   ]
  },
  {
   "cell_type": "markdown",
   "metadata": {},
   "source": [
    "### Распределение количества предложений в каждом документе"
   ]
  },
  {
   "cell_type": "code",
   "execution_count": 19,
   "metadata": {},
   "outputs": [
    {
     "name": "stderr",
     "output_type": "stream",
     "text": [
      "100%|██████████| 386254/386254 [00:10<00:00, 35161.13it/s]\n"
     ]
    }
   ],
   "source": [
    "# список количеств слов\n",
    "sentences_list = []\n",
    "# паттерн для деления на предложения, объяснение:(https://regex101.com/r/he9d1P/1)\n",
    "# почти всегда делит правильно, в предлоежниях с именем и отчеством через точку ошибается на +1, что\n",
    "# для выборки в 400к незначительно\n",
    "pattern = re.compile('.*?(\\.|\\?|\\!|…)(?= *[А-Я]|$)')\n",
    "\n",
    "for message in tqdm(list_full_file_json):\n",
    "    sentences_message = len(pattern.findall(message['text']))\n",
    "    sentences_list.append(sentences_message)"
   ]
  },
  {
   "cell_type": "code",
   "execution_count": 20,
   "metadata": {},
   "outputs": [
    {
     "data": {
      "text/plain": [
       "[(1, 30858),\n",
       " (5, 27663),\n",
       " (6, 26935),\n",
       " (4, 26777),\n",
       " (7, 25319),\n",
       " (3, 24184),\n",
       " (8, 23094),\n",
       " (2, 20998),\n",
       " (9, 20631),\n",
       " (10, 18486),\n",
       " (11, 16236),\n",
       " (12, 14368),\n",
       " (13, 12303),\n",
       " (14, 10882),\n",
       " (15, 9619)]"
      ]
     },
     "execution_count": 20,
     "metadata": {},
     "output_type": "execute_result"
    }
   ],
   "source": [
    "# посмотрим на самые частые количества предложений на одно сообщение\n",
    "c = Counter(sentences_list).most_common(15)\n",
    "c"
   ]
  },
  {
   "cell_type": "code",
   "execution_count": 39,
   "metadata": {},
   "outputs": [
    {
     "data": {
      "image/png": "[encoded data removed]",
      "text/plain": [
       "<Figure size 1332x756 with 1 Axes>"
      ]
     },
     "metadata": {
      "needs_background": "light"
     },
     "output_type": "display_data"
    }
   ],
   "source": [
    "# построим по полученным данным нормализованную гистограмму\n",
    "c = Counter(sentences_list)\n",
    "keys = list(c.keys())\n",
    "values = list(c.values())\n",
    "sns.histplot(x=keys, weights=values, discrete=True, stat='probability')\n",
    "plt.xlim(0, 70)\n",
    "fig = plt.gcf()\n",
    "fig.set_size_inches(18.5, 10.5)\n",
    "#fig.savefig('test2png.png', dpi=100)\n",
    "plt.show()"
   ]
  },
  {
   "cell_type": "markdown",
   "metadata": {},
   "source": [
    "### Количество кореференциальных цепочек в каждом документе"
   ]
  },
  {
   "cell_type": "code",
   "execution_count": 22,
   "metadata": {},
   "outputs": [
    {
     "name": "stderr",
     "output_type": "stream",
     "text": [
      "100%|██████████| 386254/386254 [03:45<00:00, 1716.51it/s]\n"
     ]
    }
   ],
   "source": [
    "# скрипт для приведения каждого размеченного для кореференции элемента к JSON виду\n",
    "# для удобного обращения к параметрам\n",
    "files_chain_list = []\n",
    "\n",
    "for message in tqdm(list_full_file_json):\n",
    "    list_coref_ent = message['annotation_sets']['']['annotations']\n",
    "    message_chain_list = []\n",
    "    \n",
    "    for entity in list_coref_ent:\n",
    "        entity = str(entity)[13:-1]  # адхок подрезка формата SH\n",
    "        entity = ast.literal_eval(entity) # превращаю строку в виде дикта в дикт\n",
    "        entity = json.dumps(entity) # делаем джсон из дикта\n",
    "        message_chain_list.append(json.loads(entity)) # парсим джсон в список\n",
    "        \n",
    "    files_chain_list.append(message_chain_list) # в этом списке каждый файл идет отдельным списком-джсоном\n",
    "    \n",
    "    \n"
   ]
  },
  {
   "cell_type": "code",
   "execution_count": 23,
   "metadata": {},
   "outputs": [
    {
     "name": "stderr",
     "output_type": "stream",
     "text": [
      "100%|██████████| 386254/386254 [00:13<00:00, 28238.12it/s]\n"
     ]
    }
   ],
   "source": [
    "# теперь составим список, где каждый элемент будет представлять количество цепочек в документе\n",
    "chain_amount_list = []\n",
    "\n",
    "for json in tqdm(files_chain_list):\n",
    "    chain_num_list = []\n",
    "    \n",
    "    for word in json:\n",
    "        chain_num_list.append(word['antecedent_id'])\n",
    "        \n",
    "    # через каунтер приведем все к списку туплов и посчитаем количество туплов\n",
    "    c = Counter(chain_num_list)\n",
    "    chain_amount_list.append(len(c))"
   ]
  },
  {
   "cell_type": "code",
   "execution_count": 24,
   "metadata": {},
   "outputs": [
    {
     "data": {
      "text/plain": [
       "[(3, 72852),\n",
       " (2, 71844),\n",
       " (4, 58352),\n",
       " (1, 42884),\n",
       " (5, 42401),\n",
       " (6, 29204),\n",
       " (7, 19644),\n",
       " (8, 13345),\n",
       " (9, 9034),\n",
       " (10, 6379),\n",
       " (11, 4588),\n",
       " (12, 3284),\n",
       " (13, 2425),\n",
       " (14, 1853),\n",
       " (0, 1437)]"
      ]
     },
     "execution_count": 24,
     "metadata": {},
     "output_type": "execute_result"
    }
   ],
   "source": [
    "c = Counter(chain_amount_list).most_common(15)\n",
    "c"
   ]
  },
  {
   "cell_type": "code",
   "execution_count": 44,
   "metadata": {},
   "outputs": [
    {
     "data": {
      "image/png": "[encoded data removed]",
      "text/plain": [
       "<Figure size 1332x756 with 1 Axes>"
      ]
     },
     "metadata": {
      "needs_background": "light"
     },
     "output_type": "display_data"
    }
   ],
   "source": [
    "# построим по полученным данным нормализованную гистограмму\n",
    "c = Counter(chain_amount_list)\n",
    "keys = list(c.keys())\n",
    "values = list(c.values())\n",
    "sns.histplot(x=keys, weights=values, discrete=True, stat='probability')\n",
    "plt.xlim(0, 35)\n",
    "fig = plt.gcf()\n",
    "fig.set_size_inches(18.5, 10.5)\n",
    "#fig.savefig('test2png.png', dpi=100)\n",
    "plt.show()"
   ]
  },
  {
   "cell_type": "markdown",
   "metadata": {},
   "source": [
    "### Распределение количества слов, выделенных, как значимые для кореференции. "
   ]
  },
  {
   "cell_type": "code",
   "execution_count": 25,
   "metadata": {},
   "outputs": [
    {
     "name": "stderr",
     "output_type": "stream",
     "text": [
      "100%|██████████| 386254/386254 [00:00<00:00, 391877.04it/s]\n"
     ]
    }
   ],
   "source": [
    "# сделаем список, каждый элемент которого - количество выделенных сущностей на файл\n",
    "chain_entity_count_list = []\n",
    "\n",
    "for chain_list in tqdm(files_chain_list):\n",
    "    file_chain = len(chain_list)\n",
    "    chain_entity_count_list.append(file_chain)"
   ]
  },
  {
   "cell_type": "code",
   "execution_count": 26,
   "metadata": {},
   "outputs": [
    {
     "data": {
      "text/plain": [
       "[(3, 46122),\n",
       " (2, 44140),\n",
       " (4, 42001),\n",
       " (5, 36185),\n",
       " (6, 30509),\n",
       " (1, 27508),\n",
       " (7, 25025),\n",
       " (8, 21018),\n",
       " (9, 16878),\n",
       " (10, 13912)]"
      ]
     },
     "execution_count": 26,
     "metadata": {},
     "output_type": "execute_result"
    }
   ],
   "source": [
    "# посмотрим на самые частые количества выделенных слов на одно сообщение\n",
    "c = Counter(chain_entity_count_list).most_common(10)\n",
    "c"
   ]
  },
  {
   "cell_type": "code",
   "execution_count": 46,
   "metadata": {},
   "outputs": [
    {
     "data": {
      "image/png": "[encoded data removed]",
      "text/plain": [
       "<Figure size 1332x756 with 1 Axes>"
      ]
     },
     "metadata": {
      "needs_background": "light"
     },
     "output_type": "display_data"
    }
   ],
   "source": [
    "# построим по полученным данным нормализованную гистограмму\n",
    "c = Counter(chain_entity_count_list)\n",
    "keys = list(c.keys())\n",
    "values = list(c.values())\n",
    "sns.histplot(x=keys, weights=values, discrete=True, stat='probability')\n",
    "plt.xlim(0, 80)\n",
    "fig = plt.gcf()\n",
    "fig.set_size_inches(18.5, 10.5)\n",
    "#fig.savefig('test2png.png', dpi=100)\n",
    "plt.show()"
   ]
  },
  {
   "cell_type": "markdown",
   "metadata": {},
   "source": [
    "### Общее количество кореференциальных цепочек"
   ]
  },
  {
   "cell_type": "code",
   "execution_count": 27,
   "metadata": {},
   "outputs": [
    {
     "name": "stderr",
     "output_type": "stream",
     "text": [
      "100%|██████████| 64/64 [00:00<00:00, 402451.96it/s]\n"
     ]
    },
    {
     "data": {
      "text/plain": [
       "1693773"
      ]
     },
     "execution_count": 27,
     "metadata": {},
     "output_type": "execute_result"
    }
   ],
   "source": [
    "# список количества цепочек в сообщении\n",
    "c = Counter(chain_amount_list).most_common()\n",
    "# счетчик цепочек\n",
    "counter = 0\n",
    "\n",
    "for pair in tqdm(c):\n",
    "    counter += pair[0]*pair[1]\n",
    "counter"
   ]
  },
  {
   "cell_type": "markdown",
   "metadata": {},
   "source": [
    "### Общее количество элементов в кореференциальных цепочках "
   ]
  },
  {
   "cell_type": "code",
   "execution_count": 28,
   "metadata": {},
   "outputs": [
    {
     "name": "stderr",
     "output_type": "stream",
     "text": [
      "100%|██████████| 136/136 [00:00<00:00, 567023.20it/s]\n"
     ]
    },
    {
     "data": {
      "text/plain": [
       "2968033"
      ]
     },
     "execution_count": 28,
     "metadata": {},
     "output_type": "execute_result"
    }
   ],
   "source": [
    "# список количества выделенных слов в сообщении\n",
    "c = Counter(chain_entity_count_list).most_common()\n",
    "# счетчик цепочек\n",
    "counter = 0\n",
    "\n",
    "for pair in tqdm(c):\n",
    "    counter += pair[0]*pair[1]\n",
    "counter"
   ]
  },
  {
   "cell_type": "code",
   "execution_count": null,
   "metadata": {},
   "outputs": [],
   "source": []
  }
 ],
 "metadata": {
  "kernelspec": {
   "display_name": "Python 3",
   "language": "python",
   "name": "python3"
  },
  "language_info": {
   "codemirror_mode": {
    "name": "ipython",
    "version": 3
   },
   "file_extension": ".py",
   "mimetype": "text/x-python",
   "name": "python",
   "nbconvert_exporter": "python",
   "pygments_lexer": "ipython3",
   "version": "3.7.4"
  }
 },
 "nbformat": 4,
 "nbformat_minor": 2
}
